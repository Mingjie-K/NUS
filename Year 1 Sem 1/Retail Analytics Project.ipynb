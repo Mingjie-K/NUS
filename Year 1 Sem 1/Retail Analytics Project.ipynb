{
 "cells": [
  {
   "cell_type": "code",
   "execution_count": 2,
   "metadata": {
    "ExecuteTime": {
     "end_time": "2021-04-17T07:42:42.376312Z",
     "start_time": "2021-04-17T07:42:41.784408Z"
    }
   },
   "outputs": [],
   "source": [
    "# Libraries\n",
    "import os\n",
    "import pandas as pd\n",
    "from datetime import datetime, timedelta\n",
    "from dateutil.relativedelta import relativedelta\n",
    "\n",
    "from sklearn.model_selection import train_test_split\n",
    "from sklearn.preprocessing import StandardScaler\n",
    "from sklearn.neighbors import KNeighborsClassifier\n",
    "import seaborn as sns\n",
    "import datetime\n",
    "import scipy.stats as stats\n",
    "import researchpy as rp\n",
    "import statsmodels.api as sm\n",
    "from statsmodels.formula.api import ols\n",
    "import matplotlib.pyplot as plt\n",
    "from scipy.stats import zscore\n",
    "from statsmodels.graphics.tsaplots import plot_acf, plot_pacf\n",
    "from arch import arch_model\n",
    "#user = os.getenv('USERPROFILE')\n",
    "#data_path = os.path.join(\n",
    "#    user, 'OneDrive - National University of Singapore\\EBAC\\Year 1 Semester 1\\Project\\Data')\n",
    "#os.chdir(data_path)\n"
   ]
  },
  {
   "cell_type": "code",
   "execution_count": 5,
   "metadata": {
    "ExecuteTime": {
     "end_time": "2021-04-17T07:42:43.825456Z",
     "start_time": "2021-04-17T07:42:42.432318Z"
    }
   },
   "outputs": [
    {
     "data": {
      "text/html": [
       "<div>\n",
       "<style scoped>\n",
       "    .dataframe tbody tr th:only-of-type {\n",
       "        vertical-align: middle;\n",
       "    }\n",
       "\n",
       "    .dataframe tbody tr th {\n",
       "        vertical-align: top;\n",
       "    }\n",
       "\n",
       "    .dataframe thead th {\n",
       "        text-align: right;\n",
       "    }\n",
       "</style>\n",
       "<table border=\"1\" class=\"dataframe\">\n",
       "  <thead>\n",
       "    <tr style=\"text-align: right;\">\n",
       "      <th></th>\n",
       "      <th>DATE</th>\n",
       "      <th>CUSTNAME</th>\n",
       "      <th>MATERIAL</th>\n",
       "      <th>BASEUOM</th>\n",
       "      <th>MSTAE</th>\n",
       "      <th>H1</th>\n",
       "      <th>H2</th>\n",
       "      <th>H3</th>\n",
       "      <th>QTY_SOLD</th>\n",
       "      <th>CLUSTER</th>\n",
       "    </tr>\n",
       "  </thead>\n",
       "  <tbody>\n",
       "    <tr>\n",
       "      <th>0</th>\n",
       "      <td>2018-06-25</td>\n",
       "      <td>Store 4</td>\n",
       "      <td>10091</td>\n",
       "      <td>PAC</td>\n",
       "      <td>AC</td>\n",
       "      <td>Dairy</td>\n",
       "      <td>Cream Compound</td>\n",
       "      <td>Whipping</td>\n",
       "      <td>5.0</td>\n",
       "      <td>B</td>\n",
       "    </tr>\n",
       "    <tr>\n",
       "      <th>1</th>\n",
       "      <td>2018-06-25</td>\n",
       "      <td>Store 4</td>\n",
       "      <td>10550</td>\n",
       "      <td>PAC</td>\n",
       "      <td>AC</td>\n",
       "      <td>Nuts, Seeds &amp; Beans</td>\n",
       "      <td>Nuts</td>\n",
       "      <td>Pumpkin Kernel</td>\n",
       "      <td>3.0</td>\n",
       "      <td>B</td>\n",
       "    </tr>\n",
       "    <tr>\n",
       "      <th>2</th>\n",
       "      <td>2018-06-25</td>\n",
       "      <td>Store 4</td>\n",
       "      <td>11485</td>\n",
       "      <td>PAC</td>\n",
       "      <td>AC</td>\n",
       "      <td>Flour, Grain &amp; Flakes</td>\n",
       "      <td>Premix</td>\n",
       "      <td>Others</td>\n",
       "      <td>1.0</td>\n",
       "      <td>B</td>\n",
       "    </tr>\n",
       "    <tr>\n",
       "      <th>3</th>\n",
       "      <td>2018-06-25</td>\n",
       "      <td>Store 4</td>\n",
       "      <td>1201</td>\n",
       "      <td>PAC</td>\n",
       "      <td>AC</td>\n",
       "      <td>Bakery</td>\n",
       "      <td>Functional</td>\n",
       "      <td>Starches</td>\n",
       "      <td>1.0</td>\n",
       "      <td>B</td>\n",
       "    </tr>\n",
       "    <tr>\n",
       "      <th>4</th>\n",
       "      <td>2018-06-25</td>\n",
       "      <td>Store 4</td>\n",
       "      <td>12085</td>\n",
       "      <td>PAC</td>\n",
       "      <td>AC</td>\n",
       "      <td>Grocery</td>\n",
       "      <td>Seasoning</td>\n",
       "      <td>Herbs &amp; Spices</td>\n",
       "      <td>1.0</td>\n",
       "      <td>B</td>\n",
       "    </tr>\n",
       "  </tbody>\n",
       "</table>\n",
       "</div>"
      ],
      "text/plain": [
       "        DATE CUSTNAME  MATERIAL BASEUOM MSTAE                     H1  \\\n",
       "0 2018-06-25  Store 4     10091     PAC    AC                  Dairy   \n",
       "1 2018-06-25  Store 4     10550     PAC    AC    Nuts, Seeds & Beans   \n",
       "2 2018-06-25  Store 4     11485     PAC    AC  Flour, Grain & Flakes   \n",
       "3 2018-06-25  Store 4      1201     PAC    AC                 Bakery   \n",
       "4 2018-06-25  Store 4     12085     PAC    AC                Grocery   \n",
       "\n",
       "               H2              H3  QTY_SOLD CLUSTER  \n",
       "0  Cream Compound        Whipping       5.0       B  \n",
       "1            Nuts  Pumpkin Kernel       3.0       B  \n",
       "2          Premix          Others       1.0       B  \n",
       "3      Functional        Starches       1.0       B  \n",
       "4       Seasoning  Herbs & Spices       1.0       B  "
      ]
     },
     "execution_count": 5,
     "metadata": {},
     "output_type": "execute_result"
    }
   ],
   "source": [
    "retail_df = pd.read_excel('C:/Users/fanjn/Desktop/ISS Master/Term 1 Project/Retail_Week_NUS.xlsx', parse_dates=[0])\n",
    "retail_df.head()"
   ]
  },
  {
   "cell_type": "markdown",
   "metadata": {},
   "source": [
    "# Data Cleaning"
   ]
  },
  {
   "cell_type": "markdown",
   "metadata": {},
   "source": [
    "**We only look at active skus and remove General and Service in H1**"
   ]
  },
  {
   "cell_type": "code",
   "execution_count": 6,
   "metadata": {
    "ExecuteTime": {
     "end_time": "2021-04-17T07:42:44.107645Z",
     "start_time": "2021-04-17T07:42:43.826457Z"
    }
   },
   "outputs": [],
   "source": [
    "retail_df = retail_df.loc[(retail_df['MSTAE'] == 'AC') & (\n",
    "    (retail_df['H1'] != 'General') & (retail_df['H1'] != 'Service'))]"
   ]
  },
  {
   "cell_type": "markdown",
   "metadata": {},
   "source": [
    "**Create Year and Week**"
   ]
  },
  {
   "cell_type": "code",
   "execution_count": 64,
   "metadata": {
    "ExecuteTime": {
     "end_time": "2021-04-17T07:42:51.156331Z",
     "start_time": "2021-04-17T07:42:44.108646Z"
    }
   },
   "outputs": [
    {
     "name": "stdout",
     "output_type": "stream",
     "text": [
      "(964491, 13)\n"
     ]
    },
    {
     "data": {
      "text/html": [
       "<div>\n",
       "<style scoped>\n",
       "    .dataframe tbody tr th:only-of-type {\n",
       "        vertical-align: middle;\n",
       "    }\n",
       "\n",
       "    .dataframe tbody tr th {\n",
       "        vertical-align: top;\n",
       "    }\n",
       "\n",
       "    .dataframe thead th {\n",
       "        text-align: right;\n",
       "    }\n",
       "</style>\n",
       "<table border=\"1\" class=\"dataframe\">\n",
       "  <thead>\n",
       "    <tr style=\"text-align: right;\">\n",
       "      <th></th>\n",
       "      <th>DATE</th>\n",
       "      <th>CUSTNAME</th>\n",
       "      <th>MATERIAL</th>\n",
       "      <th>BASEUOM</th>\n",
       "      <th>MSTAE</th>\n",
       "      <th>H1</th>\n",
       "      <th>H2</th>\n",
       "      <th>H3</th>\n",
       "      <th>QTY_SOLD</th>\n",
       "      <th>CLUSTER</th>\n",
       "      <th>YEAR</th>\n",
       "      <th>WEEK</th>\n",
       "      <th>MONTH</th>\n",
       "    </tr>\n",
       "  </thead>\n",
       "  <tbody>\n",
       "    <tr>\n",
       "      <th>0</th>\n",
       "      <td>2018-06-25</td>\n",
       "      <td>Store 4</td>\n",
       "      <td>10091</td>\n",
       "      <td>PAC</td>\n",
       "      <td>AC</td>\n",
       "      <td>Dairy</td>\n",
       "      <td>Cream Compound</td>\n",
       "      <td>Whipping</td>\n",
       "      <td>5.0</td>\n",
       "      <td>B</td>\n",
       "      <td>2018</td>\n",
       "      <td>26</td>\n",
       "      <td>6</td>\n",
       "    </tr>\n",
       "    <tr>\n",
       "      <th>1</th>\n",
       "      <td>2018-06-25</td>\n",
       "      <td>Store 4</td>\n",
       "      <td>10550</td>\n",
       "      <td>PAC</td>\n",
       "      <td>AC</td>\n",
       "      <td>Nuts, Seeds &amp; Beans</td>\n",
       "      <td>Nuts</td>\n",
       "      <td>Pumpkin Kernel</td>\n",
       "      <td>3.0</td>\n",
       "      <td>B</td>\n",
       "      <td>2018</td>\n",
       "      <td>26</td>\n",
       "      <td>6</td>\n",
       "    </tr>\n",
       "    <tr>\n",
       "      <th>2</th>\n",
       "      <td>2018-06-25</td>\n",
       "      <td>Store 4</td>\n",
       "      <td>11485</td>\n",
       "      <td>PAC</td>\n",
       "      <td>AC</td>\n",
       "      <td>Flour, Grain &amp; Flakes</td>\n",
       "      <td>Premix</td>\n",
       "      <td>Others</td>\n",
       "      <td>1.0</td>\n",
       "      <td>B</td>\n",
       "      <td>2018</td>\n",
       "      <td>26</td>\n",
       "      <td>6</td>\n",
       "    </tr>\n",
       "    <tr>\n",
       "      <th>3</th>\n",
       "      <td>2018-06-25</td>\n",
       "      <td>Store 4</td>\n",
       "      <td>1201</td>\n",
       "      <td>PAC</td>\n",
       "      <td>AC</td>\n",
       "      <td>Bakery</td>\n",
       "      <td>Functional</td>\n",
       "      <td>Starches</td>\n",
       "      <td>1.0</td>\n",
       "      <td>B</td>\n",
       "      <td>2018</td>\n",
       "      <td>26</td>\n",
       "      <td>6</td>\n",
       "    </tr>\n",
       "    <tr>\n",
       "      <th>4</th>\n",
       "      <td>2018-06-25</td>\n",
       "      <td>Store 4</td>\n",
       "      <td>12085</td>\n",
       "      <td>PAC</td>\n",
       "      <td>AC</td>\n",
       "      <td>Grocery</td>\n",
       "      <td>Seasoning</td>\n",
       "      <td>Herbs &amp; Spices</td>\n",
       "      <td>1.0</td>\n",
       "      <td>B</td>\n",
       "      <td>2018</td>\n",
       "      <td>26</td>\n",
       "      <td>6</td>\n",
       "    </tr>\n",
       "  </tbody>\n",
       "</table>\n",
       "</div>"
      ],
      "text/plain": [
       "        DATE CUSTNAME  MATERIAL BASEUOM MSTAE                     H1  \\\n",
       "0 2018-06-25  Store 4     10091     PAC    AC                  Dairy   \n",
       "1 2018-06-25  Store 4     10550     PAC    AC    Nuts, Seeds & Beans   \n",
       "2 2018-06-25  Store 4     11485     PAC    AC  Flour, Grain & Flakes   \n",
       "3 2018-06-25  Store 4      1201     PAC    AC                 Bakery   \n",
       "4 2018-06-25  Store 4     12085     PAC    AC                Grocery   \n",
       "\n",
       "               H2              H3  QTY_SOLD CLUSTER  YEAR  WEEK  MONTH  \n",
       "0  Cream Compound        Whipping       5.0       B  2018    26      6  \n",
       "1            Nuts  Pumpkin Kernel       3.0       B  2018    26      6  \n",
       "2          Premix          Others       1.0       B  2018    26      6  \n",
       "3      Functional        Starches       1.0       B  2018    26      6  \n",
       "4       Seasoning  Herbs & Spices       1.0       B  2018    26      6  "
      ]
     },
     "execution_count": 64,
     "metadata": {},
     "output_type": "execute_result"
    }
   ],
   "source": [
    "retail_df['YEAR'] = retail_df['DATE'].dt.year\n",
    "retail_df['WEEK'] = retail_df['DATE'].dt.strftime('%W').astype(\"int\")\n",
    "retail_df['MONTH'] = retail_df['DATE'].dt.month\n",
    "print(retail_df.shape)\n",
    "retail_df.head()"
   ]
  },
  {
   "cell_type": "code",
   "execution_count": 40,
   "metadata": {},
   "outputs": [
    {
     "data": {
      "text/plain": [
       "Index(['DATE', 'CUSTNAME', 'MATERIAL', 'BASEUOM', 'MSTAE', 'H1', 'H2', 'H3',\n",
       "       'QTY_SOLD', 'CLUSTER', 'YEAR', 'WEEK', 'MONTH'],\n",
       "      dtype='object')"
      ]
     },
     "execution_count": 40,
     "metadata": {},
     "output_type": "execute_result"
    }
   ],
   "source": [
    "retail_df.columns"
   ]
  },
  {
   "cell_type": "markdown",
   "metadata": {},
   "source": [
    "**Insert weeks with no sales (Put 0)<br>Did not put currently as it affects standard deviation**"
   ]
  },
  {
   "cell_type": "code",
   "execution_count": 18,
   "metadata": {
    "ExecuteTime": {
     "end_time": "2021-04-17T08:01:53.357947Z",
     "start_time": "2021-04-17T08:01:53.347835Z"
    }
   },
   "outputs": [
    {
     "data": {
      "text/html": [
       "<div>\n",
       "<style scoped>\n",
       "    .dataframe tbody tr th:only-of-type {\n",
       "        vertical-align: middle;\n",
       "    }\n",
       "\n",
       "    .dataframe tbody tr th {\n",
       "        vertical-align: top;\n",
       "    }\n",
       "\n",
       "    .dataframe thead th {\n",
       "        text-align: right;\n",
       "    }\n",
       "</style>\n",
       "<table border=\"1\" class=\"dataframe\">\n",
       "  <thead>\n",
       "    <tr style=\"text-align: right;\">\n",
       "      <th></th>\n",
       "      <th>YEAR</th>\n",
       "      <th>WEEK</th>\n",
       "      <th>MATERIAL</th>\n",
       "      <th>QTY_SOLD</th>\n",
       "    </tr>\n",
       "  </thead>\n",
       "  <tbody>\n",
       "    <tr>\n",
       "      <th>0</th>\n",
       "      <td>2018</td>\n",
       "      <td>26</td>\n",
       "      <td>101</td>\n",
       "      <td>2.0</td>\n",
       "    </tr>\n",
       "    <tr>\n",
       "      <th>1</th>\n",
       "      <td>2018</td>\n",
       "      <td>26</td>\n",
       "      <td>112</td>\n",
       "      <td>1.0</td>\n",
       "    </tr>\n",
       "    <tr>\n",
       "      <th>2</th>\n",
       "      <td>2018</td>\n",
       "      <td>26</td>\n",
       "      <td>116</td>\n",
       "      <td>8.0</td>\n",
       "    </tr>\n",
       "    <tr>\n",
       "      <th>3</th>\n",
       "      <td>2018</td>\n",
       "      <td>26</td>\n",
       "      <td>213</td>\n",
       "      <td>7.0</td>\n",
       "    </tr>\n",
       "    <tr>\n",
       "      <th>4</th>\n",
       "      <td>2018</td>\n",
       "      <td>26</td>\n",
       "      <td>219</td>\n",
       "      <td>1.0</td>\n",
       "    </tr>\n",
       "  </tbody>\n",
       "</table>\n",
       "</div>"
      ],
      "text/plain": [
       "   YEAR WEEK  MATERIAL  QTY_SOLD\n",
       "0  2018   26       101       2.0\n",
       "1  2018   26       112       1.0\n",
       "2  2018   26       116       8.0\n",
       "3  2018   26       213       7.0\n",
       "4  2018   26       219       1.0"
      ]
     },
     "execution_count": 18,
     "metadata": {},
     "output_type": "execute_result"
    }
   ],
   "source": [
    "retail_group.head()"
   ]
  },
  {
   "cell_type": "code",
   "execution_count": 5,
   "metadata": {
    "ExecuteTime": {
     "end_time": "2021-04-17T07:42:52.621460Z",
     "start_time": "2021-04-17T07:42:51.157331Z"
    }
   },
   "outputs": [],
   "source": [
    "# retail_group = retail_df.pivot_table(index=['YEAR', 'WEEK'], columns=[\n",
    "#     'MATERIAL'], values='QTY_SOLD', fill_value=0).reset_index()"
   ]
  },
  {
   "cell_type": "code",
   "execution_count": 6,
   "metadata": {
    "ExecuteTime": {
     "end_time": "2021-04-17T07:42:52.699887Z",
     "start_time": "2021-04-17T07:42:52.622390Z"
    }
   },
   "outputs": [],
   "source": [
    "# retail_group = retail_group.melt(\n",
    "#     id_vars=['YEAR', 'WEEK'], value_vars=retail_group.columns[2:], value_name='QTY_SOLD')"
   ]
  },
  {
   "cell_type": "code",
   "execution_count": 7,
   "metadata": {
    "ExecuteTime": {
     "end_time": "2021-04-17T07:42:52.715027Z",
     "start_time": "2021-04-17T07:42:52.700887Z"
    }
   },
   "outputs": [
    {
     "name": "stdout",
     "output_type": "stream",
     "text": [
      "(1246402, 4)\n"
     ]
    },
    {
     "data": {
      "text/html": [
       "<div>\n",
       "<style scoped>\n",
       "    .dataframe tbody tr th:only-of-type {\n",
       "        vertical-align: middle;\n",
       "    }\n",
       "\n",
       "    .dataframe tbody tr th {\n",
       "        vertical-align: top;\n",
       "    }\n",
       "\n",
       "    .dataframe thead th {\n",
       "        text-align: right;\n",
       "    }\n",
       "</style>\n",
       "<table border=\"1\" class=\"dataframe\">\n",
       "  <thead>\n",
       "    <tr style=\"text-align: right;\">\n",
       "      <th></th>\n",
       "      <th>YEAR</th>\n",
       "      <th>WEEK</th>\n",
       "      <th>MATERIAL</th>\n",
       "      <th>QTY_SOLD</th>\n",
       "    </tr>\n",
       "  </thead>\n",
       "  <tbody>\n",
       "    <tr>\n",
       "      <th>0</th>\n",
       "      <td>2018</td>\n",
       "      <td>26</td>\n",
       "      <td>101</td>\n",
       "      <td>2.0</td>\n",
       "    </tr>\n",
       "    <tr>\n",
       "      <th>1</th>\n",
       "      <td>2018</td>\n",
       "      <td>27</td>\n",
       "      <td>101</td>\n",
       "      <td>1.0</td>\n",
       "    </tr>\n",
       "    <tr>\n",
       "      <th>2</th>\n",
       "      <td>2018</td>\n",
       "      <td>28</td>\n",
       "      <td>101</td>\n",
       "      <td>1.0</td>\n",
       "    </tr>\n",
       "    <tr>\n",
       "      <th>3</th>\n",
       "      <td>2018</td>\n",
       "      <td>29</td>\n",
       "      <td>101</td>\n",
       "      <td>1.0</td>\n",
       "    </tr>\n",
       "    <tr>\n",
       "      <th>4</th>\n",
       "      <td>2018</td>\n",
       "      <td>30</td>\n",
       "      <td>101</td>\n",
       "      <td>1.0</td>\n",
       "    </tr>\n",
       "  </tbody>\n",
       "</table>\n",
       "</div>"
      ],
      "text/plain": [
       "   YEAR WEEK MATERIAL  QTY_SOLD\n",
       "0  2018   26      101       2.0\n",
       "1  2018   27      101       1.0\n",
       "2  2018   28      101       1.0\n",
       "3  2018   29      101       1.0\n",
       "4  2018   30      101       1.0"
      ]
     },
     "execution_count": 7,
     "metadata": {},
     "output_type": "execute_result"
    }
   ],
   "source": [
    "# print(retail_group.shape)\n",
    "# retail_group.head()"
   ]
  },
  {
   "cell_type": "markdown",
   "metadata": {},
   "source": [
    "# Seasonal Products"
   ]
  },
  {
   "cell_type": "markdown",
   "metadata": {},
   "source": [
    "**Sales of items affected by**\n",
    "- Economy at times\n",
    "- Nature of Item (Seasonal or Non-seasonal)\n",
    "- Promotions or Discounts\n",
    "- Competition from a rival\n",
    "- Competition from a substitute product\n",
    "- Special events like Super Bowl, Thanksgiving, New Year, etc varying from places to places"
   ]
  },
  {
   "cell_type": "code",
   "execution_count": 41,
   "metadata": {
    "ExecuteTime": {
     "end_time": "2021-04-17T07:56:30.845552Z",
     "start_time": "2021-04-17T07:56:30.614443Z"
    }
   },
   "outputs": [],
   "source": [
    "retail_group = retail_df.groupby(['YEAR','MONTH', 'WEEK', 'MATERIAL'])[\n",
    "    'QTY_SOLD'].sum().reset_index()"
   ]
  },
  {
   "cell_type": "code",
   "execution_count": 42,
   "metadata": {},
   "outputs": [],
   "source": [
    "z_score=retail_group.groupby(['MATERIAL'])[\"QTY_SOLD\"].transform(lambda x : zscore(x))\n",
    "retail_group[\"z_score\"]=z_score"
   ]
  },
  {
   "cell_type": "code",
   "execution_count": 43,
   "metadata": {},
   "outputs": [
    {
     "name": "stdout",
     "output_type": "stream",
     "text": [
      "10.006106654043196\n",
      "-7.051126411312967\n"
     ]
    }
   ],
   "source": [
    "print(retail_group[\"z_score\"].max())\n",
    "print(retail_group[\"z_score\"].min())"
   ]
  },
  {
   "cell_type": "code",
   "execution_count": 44,
   "metadata": {},
   "outputs": [],
   "source": [
    "maxVar=retail_group[(retail_group[\"z_score\"]>=3) | (retail_group[\"z_score\"]<=-3)]"
   ]
  },
  {
   "cell_type": "code",
   "execution_count": 45,
   "metadata": {
    "scrolled": true
   },
   "outputs": [
    {
     "name": "stdout",
     "output_type": "stream",
     "text": [
      "3823\n"
     ]
    },
    {
     "data": {
      "text/html": [
       "<div>\n",
       "<style scoped>\n",
       "    .dataframe tbody tr th:only-of-type {\n",
       "        vertical-align: middle;\n",
       "    }\n",
       "\n",
       "    .dataframe tbody tr th {\n",
       "        vertical-align: top;\n",
       "    }\n",
       "\n",
       "    .dataframe thead th {\n",
       "        text-align: right;\n",
       "    }\n",
       "</style>\n",
       "<table border=\"1\" class=\"dataframe\">\n",
       "  <thead>\n",
       "    <tr style=\"text-align: right;\">\n",
       "      <th></th>\n",
       "      <th>YEAR</th>\n",
       "      <th>MONTH</th>\n",
       "      <th>WEEK</th>\n",
       "      <th>MATERIAL</th>\n",
       "      <th>QTY_SOLD</th>\n",
       "      <th>z_score</th>\n",
       "    </tr>\n",
       "  </thead>\n",
       "  <tbody>\n",
       "    <tr>\n",
       "      <th>254</th>\n",
       "      <td>2018</td>\n",
       "      <td>6</td>\n",
       "      <td>26</td>\n",
       "      <td>12088</td>\n",
       "      <td>13.0</td>\n",
       "      <td>-3.795744</td>\n",
       "    </tr>\n",
       "    <tr>\n",
       "      <th>390</th>\n",
       "      <td>2018</td>\n",
       "      <td>6</td>\n",
       "      <td>26</td>\n",
       "      <td>50313</td>\n",
       "      <td>3.0</td>\n",
       "      <td>-3.512229</td>\n",
       "    </tr>\n",
       "    <tr>\n",
       "      <th>1004</th>\n",
       "      <td>2018</td>\n",
       "      <td>6</td>\n",
       "      <td>26</td>\n",
       "      <td>64298</td>\n",
       "      <td>40.0</td>\n",
       "      <td>-3.501186</td>\n",
       "    </tr>\n",
       "    <tr>\n",
       "      <th>1005</th>\n",
       "      <td>2018</td>\n",
       "      <td>6</td>\n",
       "      <td>26</td>\n",
       "      <td>64300</td>\n",
       "      <td>34.0</td>\n",
       "      <td>-3.924497</td>\n",
       "    </tr>\n",
       "    <tr>\n",
       "      <th>1040</th>\n",
       "      <td>2018</td>\n",
       "      <td>6</td>\n",
       "      <td>26</td>\n",
       "      <td>65046</td>\n",
       "      <td>2.0</td>\n",
       "      <td>-3.002467</td>\n",
       "    </tr>\n",
       "  </tbody>\n",
       "</table>\n",
       "</div>"
      ],
      "text/plain": [
       "      YEAR  MONTH WEEK  MATERIAL  QTY_SOLD   z_score\n",
       "254   2018      6   26     12088      13.0 -3.795744\n",
       "390   2018      6   26     50313       3.0 -3.512229\n",
       "1004  2018      6   26     64298      40.0 -3.501186\n",
       "1005  2018      6   26     64300      34.0 -3.924497\n",
       "1040  2018      6   26     65046       2.0 -3.002467"
      ]
     },
     "execution_count": 45,
     "metadata": {},
     "output_type": "execute_result"
    }
   ],
   "source": [
    "print(maxVar[\"MATERIAL\"].nunique())\n",
    "maxVar.head()"
   ]
  },
  {
   "cell_type": "code",
   "execution_count": null,
   "metadata": {
    "ExecuteTime": {
     "end_time": "2021-04-17T07:57:24.514762Z",
     "start_time": "2021-04-17T07:57:24.460944Z"
    }
   },
   "outputs": [],
   "source": [
    "avg_df = retail_group.groupby(['MATERIAL', 'YEAR'])[\n",
    "    'QTY_SOLD'].mean().reset_index()\n",
    "avg_df = avg_df.rename(columns={'QTY_SOLD': 'AVG_QTY'})\n",
    "avg_df.head()"
   ]
  },
  {
   "cell_type": "code",
   "execution_count": null,
   "metadata": {
    "ExecuteTime": {
     "end_time": "2021-04-17T07:57:26.637459Z",
     "start_time": "2021-04-17T07:57:26.556814Z"
    }
   },
   "outputs": [],
   "source": [
    "retail_merged = retail_group.merge(avg_df, how='left', on=['YEAR', 'MATERIAL'])\n",
    "retail_merged.head()"
   ]
  },
  {
   "cell_type": "markdown",
   "metadata": {},
   "source": [
    "**Create seasonal index**"
   ]
  },
  {
   "cell_type": "code",
   "execution_count": 38,
   "metadata": {
    "ExecuteTime": {
     "end_time": "2021-04-17T07:57:30.072190Z",
     "start_time": "2021-04-17T07:57:30.064188Z"
    }
   },
   "outputs": [],
   "source": [
    "retail_merged['SEASONAL_INDEX'] = retail_merged['QTY_SOLD'] / \\\n",
    "    retail_merged['AVG_QTY']"
   ]
  },
  {
   "cell_type": "code",
   "execution_count": 46,
   "metadata": {
    "ExecuteTime": {
     "end_time": "2021-04-17T07:59:20.180397Z",
     "start_time": "2021-04-17T07:59:20.133734Z"
    }
   },
   "outputs": [],
   "source": [
    "std_df = retail_merged.groupby(['MATERIAL', 'YEAR'])[\n",
    "    'SEASONAL_INDEX'].std().reset_index()\n",
    "std_df = std_df.rename(columns={'SEASONAL_INDEX': 'STD'})"
   ]
  },
  {
   "cell_type": "code",
   "execution_count": 48,
   "metadata": {
    "ExecuteTime": {
     "end_time": "2021-04-17T07:59:24.927725Z",
     "start_time": "2021-04-17T07:59:24.850728Z"
    }
   },
   "outputs": [],
   "source": [
    "retail_merged = retail_merged.merge(\n",
    "    std_df, how='left', on=['MATERIAL', 'YEAR'])"
   ]
  },
  {
   "cell_type": "markdown",
   "metadata": {},
   "source": [
    "**Remove materials that are not sold, it may be cause of lack of inventory**"
   ]
  },
  {
   "cell_type": "code",
   "execution_count": 49,
   "metadata": {
    "ExecuteTime": {
     "end_time": "2021-04-17T07:59:29.917230Z",
     "start_time": "2021-04-17T07:59:29.848191Z"
    }
   },
   "outputs": [],
   "source": [
    "retail_merged = retail_merged.dropna(subset=['STD'])\n",
    "\n",
    "retail_merged = retail_merged.groupby(['YEAR', 'MATERIAL'])['STD'].mean(\n",
    ").to_frame().sort_values(by=['YEAR', 'STD'], ascending=False)"
   ]
  },
  {
   "cell_type": "code",
   "execution_count": 50,
   "metadata": {
    "ExecuteTime": {
     "end_time": "2021-04-17T07:59:37.452397Z",
     "start_time": "2021-04-17T07:59:37.443704Z"
    }
   },
   "outputs": [
    {
     "data": {
      "text/html": [
       "<div>\n",
       "<style scoped>\n",
       "    .dataframe tbody tr th:only-of-type {\n",
       "        vertical-align: middle;\n",
       "    }\n",
       "\n",
       "    .dataframe tbody tr th {\n",
       "        vertical-align: top;\n",
       "    }\n",
       "\n",
       "    .dataframe thead th {\n",
       "        text-align: right;\n",
       "    }\n",
       "</style>\n",
       "<table border=\"1\" class=\"dataframe\">\n",
       "  <thead>\n",
       "    <tr style=\"text-align: right;\">\n",
       "      <th></th>\n",
       "      <th></th>\n",
       "      <th>STD</th>\n",
       "    </tr>\n",
       "    <tr>\n",
       "      <th>YEAR</th>\n",
       "      <th>MATERIAL</th>\n",
       "      <th></th>\n",
       "    </tr>\n",
       "  </thead>\n",
       "  <tbody>\n",
       "    <tr>\n",
       "      <th rowspan=\"5\" valign=\"top\">2021</th>\n",
       "      <th>56732</th>\n",
       "      <td>4.242641</td>\n",
       "    </tr>\n",
       "    <tr>\n",
       "      <th>104945</th>\n",
       "      <td>3.464102</td>\n",
       "    </tr>\n",
       "    <tr>\n",
       "      <th>430</th>\n",
       "      <td>3.311135</td>\n",
       "    </tr>\n",
       "    <tr>\n",
       "      <th>200989</th>\n",
       "      <td>2.510824</td>\n",
       "    </tr>\n",
       "    <tr>\n",
       "      <th>53036</th>\n",
       "      <td>2.010835</td>\n",
       "    </tr>\n",
       "    <tr>\n",
       "      <th>...</th>\n",
       "      <th>...</th>\n",
       "      <td>...</td>\n",
       "    </tr>\n",
       "    <tr>\n",
       "      <th rowspan=\"5\" valign=\"top\">2018</th>\n",
       "      <th>100377</th>\n",
       "      <td>0.000000</td>\n",
       "    </tr>\n",
       "    <tr>\n",
       "      <th>100495</th>\n",
       "      <td>0.000000</td>\n",
       "    </tr>\n",
       "    <tr>\n",
       "      <th>100499</th>\n",
       "      <td>0.000000</td>\n",
       "    </tr>\n",
       "    <tr>\n",
       "      <th>101301</th>\n",
       "      <td>0.000000</td>\n",
       "    </tr>\n",
       "    <tr>\n",
       "      <th>101568</th>\n",
       "      <td>0.000000</td>\n",
       "    </tr>\n",
       "  </tbody>\n",
       "</table>\n",
       "<p>23743 rows × 1 columns</p>\n",
       "</div>"
      ],
      "text/plain": [
       "                    STD\n",
       "YEAR MATERIAL          \n",
       "2021 56732     4.242641\n",
       "     104945    3.464102\n",
       "     430       3.311135\n",
       "     200989    2.510824\n",
       "     53036     2.010835\n",
       "...                 ...\n",
       "2018 100377    0.000000\n",
       "     100495    0.000000\n",
       "     100499    0.000000\n",
       "     101301    0.000000\n",
       "     101568    0.000000\n",
       "\n",
       "[23743 rows x 1 columns]"
      ]
     },
     "execution_count": 50,
     "metadata": {},
     "output_type": "execute_result"
    }
   ],
   "source": [
    "retail_merged"
   ]
  },
  {
   "cell_type": "code",
   "execution_count": null,
   "metadata": {
    "ExecuteTime": {
     "end_time": "2021-04-17T06:56:17.962344Z",
     "start_time": "2021-04-17T06:56:17.861546Z"
    }
   },
   "outputs": [],
   "source": [
    "retail_df.groupby(['YEAR', 'MATERIAL'])['DATE'].count().to_frame()"
   ]
  },
  {
   "cell_type": "code",
   "execution_count": 51,
   "metadata": {
    "ExecuteTime": {
     "end_time": "2021-04-17T07:59:57.841531Z",
     "start_time": "2021-04-17T07:59:57.826656Z"
    }
   },
   "outputs": [
    {
     "data": {
      "text/html": [
       "<div>\n",
       "<style scoped>\n",
       "    .dataframe tbody tr th:only-of-type {\n",
       "        vertical-align: middle;\n",
       "    }\n",
       "\n",
       "    .dataframe tbody tr th {\n",
       "        vertical-align: top;\n",
       "    }\n",
       "\n",
       "    .dataframe thead th {\n",
       "        text-align: right;\n",
       "    }\n",
       "</style>\n",
       "<table border=\"1\" class=\"dataframe\">\n",
       "  <thead>\n",
       "    <tr style=\"text-align: right;\">\n",
       "      <th></th>\n",
       "      <th>STD</th>\n",
       "    </tr>\n",
       "    <tr>\n",
       "      <th>MATERIAL</th>\n",
       "      <th></th>\n",
       "    </tr>\n",
       "  </thead>\n",
       "  <tbody>\n",
       "    <tr>\n",
       "      <th>65237</th>\n",
       "      <td>4.327266</td>\n",
       "    </tr>\n",
       "    <tr>\n",
       "      <th>52289</th>\n",
       "      <td>4.264110</td>\n",
       "    </tr>\n",
       "    <tr>\n",
       "      <th>50061</th>\n",
       "      <td>4.000208</td>\n",
       "    </tr>\n",
       "    <tr>\n",
       "      <th>102365</th>\n",
       "      <td>3.853268</td>\n",
       "    </tr>\n",
       "    <tr>\n",
       "      <th>102452</th>\n",
       "      <td>3.515416</td>\n",
       "    </tr>\n",
       "    <tr>\n",
       "      <th>...</th>\n",
       "      <td>...</td>\n",
       "    </tr>\n",
       "    <tr>\n",
       "      <th>200302</th>\n",
       "      <td>0.000000</td>\n",
       "    </tr>\n",
       "    <tr>\n",
       "      <th>200303</th>\n",
       "      <td>0.000000</td>\n",
       "    </tr>\n",
       "    <tr>\n",
       "      <th>200417</th>\n",
       "      <td>0.000000</td>\n",
       "    </tr>\n",
       "    <tr>\n",
       "      <th>200951</th>\n",
       "      <td>0.000000</td>\n",
       "    </tr>\n",
       "    <tr>\n",
       "      <th>201040</th>\n",
       "      <td>0.000000</td>\n",
       "    </tr>\n",
       "  </tbody>\n",
       "</table>\n",
       "<p>7064 rows × 1 columns</p>\n",
       "</div>"
      ],
      "text/plain": [
       "               STD\n",
       "MATERIAL          \n",
       "65237     4.327266\n",
       "52289     4.264110\n",
       "50061     4.000208\n",
       "102365    3.853268\n",
       "102452    3.515416\n",
       "...            ...\n",
       "200302    0.000000\n",
       "200303    0.000000\n",
       "200417    0.000000\n",
       "200951    0.000000\n",
       "201040    0.000000\n",
       "\n",
       "[7064 rows x 1 columns]"
      ]
     },
     "execution_count": 51,
     "metadata": {},
     "output_type": "execute_result"
    }
   ],
   "source": [
    "retail_merged.loc[2020]"
   ]
  },
  {
   "cell_type": "code",
   "execution_count": 47,
   "metadata": {
    "ExecuteTime": {
     "end_time": "2021-04-17T08:00:37.155499Z",
     "start_time": "2021-04-17T08:00:37.125602Z"
    }
   },
   "outputs": [],
   "source": [
    "retail_df.loc[(retail_df['YEAR'] == 2020) & (retail_df['MATERIAL'] == 65237)]"
   ]
  },
  {
   "cell_type": "markdown",
   "metadata": {
    "ExecuteTime": {
     "end_time": "2021-04-17T06:57:08.604205Z",
     "start_time": "2021-04-17T06:57:08.586395Z"
    }
   },
   "source": [
    "<h2> Regression Model"
   ]
  },
  {
   "cell_type": "markdown",
   "metadata": {},
   "source": [
    "**Variables**\n",
    "- 1. QTY_SOLD of last year same day\n",
    "- 2. QTY_SOLD of last month same day\n",
    "- 3. QTY_SOLD of last week same day\n",
    "- 4. Store Number"
   ]
  },
  {
   "cell_type": "code",
   "execution_count": null,
   "metadata": {},
   "outputs": [],
   "source": [
    "## Last Year\n",
    "lyear=[]\n",
    "for i,r in retail_df.iterrows():\n",
    "    if len(retail_df.loc[(retail_df[\"YEAR\"]==r[\"YEAR\"]-1) & \\\n",
    "                        (retail_df[\"MONTH\"]==r[\"MONTH\"]) & \\\n",
    "                        (retail_df[\"WEEK\"]==r[\"WEEK\"]) & \\\n",
    "                        (retail_df[\"MATERIAL\"]==r[\"MATERIAL\"])& \\\n",
    "                          (retail_df[\"CUSTNAME\"]==r[\"CUSTNAME\"]),[\"QTY_SOLD\"]])>0:\n",
    "        x=retail_df.loc[(retail_df[\"YEAR\"]==r[\"YEAR\"]-1) & \\\n",
    "                        (retail_df[\"MONTH\"]==r[\"MONTH\"]) & \\\n",
    "                        (retail_df[\"WEEK\"]==r[\"WEEK\"]) & \\\n",
    "                        (retail_df[\"MATERIAL\"]==r[\"MATERIAL\"])& \\\n",
    "                          (retail_df[\"CUSTNAME\"]==r[\"CUSTNAME\"]),[\"QTY_SOLD\"]].values[0,0]\n",
    "        lyear.append(x)\n",
    "    else:\n",
    "        lyear.append(\"N\")\n",
    "    \n",
    "retail_df[\"LAST_YEAR\"]=lyear\n"
   ]
  },
  {
   "cell_type": "code",
   "execution_count": null,
   "metadata": {},
   "outputs": [],
   "source": [
    "## Last Month\n",
    "lmonth=[]\n",
    "for i,r in retail_df.iterrows():\n",
    "    if len(retail_df.loc[(retail_df[\"YEAR\"]==r[\"YEAR\"]) & \\\n",
    "                        (retail_df[\"MONTH\"]==r[\"MONTH\"]-1) & \\\n",
    "                        (retail_df[\"WEEK\"]==r[\"WEEK\"]) & \\\n",
    "                        (retail_df[\"MATERIAL\"]==r[\"MATERIAL\"])& \\\n",
    "                          (retail_df[\"CUSTNAME\"]==r[\"CUSTNAME\"]),[\"QTY_SOLD\"]])>0:\n",
    "        x=retail_df.loc[(retail_df[\"YEAR\"]==r[\"YEAR\"]) & \\\n",
    "                        (retail_df[\"MONTH\"]==r[\"MONTH\"]-1) & \\\n",
    "                        (retail_df[\"WEEK\"]==r[\"WEEK\"]) & \\\n",
    "                        (retail_df[\"MATERIAL\"]==r[\"MATERIAL\"])& \\\n",
    "                          (retail_df[\"CUSTNAME\"]==r[\"CUSTNAME\"]),[\"QTY_SOLD\"]].values[0,0]\n",
    "        lmonth.append(x)\n",
    "    else:\n",
    "        lmonth.append(\"N\")\n",
    "    \n",
    "retail_df[\"LAST_MONTH\"]=lmonth"
   ]
  },
  {
   "cell_type": "code",
   "execution_count": null,
   "metadata": {},
   "outputs": [],
   "source": [
    "## Last Day\n",
    "lday=[]\n",
    "for i,r in retail_df.iterrows():\n",
    "    if len(retail_df.loc[(retail_df[\"YEAR\"]==r[\"YEAR\"]) & \\\n",
    "                        (retail_df[\"MONTH\"]==r[\"MONTH\"]) & \\\n",
    "                        (retail_df[\"WEEK\"]==r[\"WEEK\"]-1) & \\\n",
    "                        (retail_df[\"MATERIAL\"]==r[\"MATERIAL\"])& \\\n",
    "                          (retail_df[\"CUSTNAME\"]==r[\"CUSTNAME\"]),[\"QTY_SOLD\"]])>0:\n",
    "        x=retail_df.loc[(retail_df[\"YEAR\"]==r[\"YEAR\"]) & \\\n",
    "                        (retail_df[\"MONTH\"]==r[\"MONTH\"]) & \\\n",
    "                        (retail_df[\"WEEK\"]==r[\"WEEK\"]-1) & \\\n",
    "                        (retail_df[\"MATERIAL\"]==r[\"MATERIAL\"])& \\\n",
    "                          (retail_df[\"CUSTNAME\"]==r[\"CUSTNAME\"]),[\"QTY_SOLD\"]].values[0,0]\n",
    "        lday.append(x)\n",
    "    else:\n",
    "        lday.append(\"N\")\n",
    "    \n",
    "retail_df[\"LAST_DAY\"]=lday"
   ]
  },
  {
   "cell_type": "code",
   "execution_count": null,
   "metadata": {},
   "outputs": [],
   "source": [
    "retail_df.head(3)"
   ]
  },
  {
   "cell_type": "markdown",
   "metadata": {},
   "source": [
    "Train Test Split"
   ]
  },
  {
   "cell_type": "code",
   "execution_count": null,
   "metadata": {},
   "outputs": [],
   "source": [
    "train_x=retail_df[(retail_df[\"YEAR\"]<=2020)&(retail_df[\"MONTH\"]<=6)].drop(\"QTY_SOLD\",axis=1)\n",
    "train_x=train_x.set_index([\"MATERIAL\",\"YEAR\",\"MONTH\",\"WEEK\"])\n",
    "train_y=retail_df[(retail_df[\"YEAR\"]<=2020)&(retail_df[\"MONTH\"]<=6)][[\"MATERIAL\",\"YEAR\",\"MONTH\",\"QTY_SOLD\"]]\n",
    "train_y=train_y.set_index([\"MATERIAL\",\"YEAR\",\"MONTH\",\"QTY_SOLD\"])\n",
    "\n",
    "test_x=retail_df[(retail_df[\"YEAR\"]>2020)&(retail_df[\"MONTH\"]>6)].drop(\"QTY_SOLD\",axis=1)\n",
    "test_x=train_x.set_index([\"MATERIAL\",\"YEAR\",\"MONTH\",\"WEEK\"])\n",
    "test_y=retail_df[(retail_df[\"YEAR\"]<=2020)&(retail_df[\"MONTH\"]<=6)][[\"MATERIAL\",\"YEAR\",\"MONTH\",\"QTY_SOLD\"]]\n",
    "test_y=test_y.set_index([\"MATERIAL\",\"YEAR\",\"MONTH\",\"QTY_SOLD\"])"
   ]
  },
  {
   "cell_type": "code",
   "execution_count": null,
   "metadata": {},
   "outputs": [],
   "source": [
    "lm = linear_model.LinearRegression()\n",
    "model = lm.fit(test_x,test_y)\n",
    "predictions = lm.predict(test_x)"
   ]
  },
  {
   "cell_type": "code",
   "execution_count": null,
   "metadata": {},
   "outputs": [],
   "source": [
    "#R2\n",
    "lm.score(test_x,test_y)"
   ]
  },
  {
   "cell_type": "code",
   "execution_count": null,
   "metadata": {},
   "outputs": [],
   "source": [
    "test_y[\"predicted_y\"]=predictions"
   ]
  }
 ],
 "metadata": {
  "hide_input": false,
  "kernelspec": {
   "display_name": "Python 3",
   "language": "python",
   "name": "python3"
  },
  "language_info": {
   "codemirror_mode": {
    "name": "ipython",
    "version": 3
   },
   "file_extension": ".py",
   "mimetype": "text/x-python",
   "name": "python",
   "nbconvert_exporter": "python",
   "pygments_lexer": "ipython3",
   "version": "3.7.2"
  },
  "toc": {
   "base_numbering": 1,
   "nav_menu": {},
   "number_sections": true,
   "sideBar": true,
   "skip_h1_title": false,
   "title_cell": "Table of Contents",
   "title_sidebar": "Contents",
   "toc_cell": false,
   "toc_position": {},
   "toc_section_display": true,
   "toc_window_display": false
  }
 },
 "nbformat": 4,
 "nbformat_minor": 4
}
