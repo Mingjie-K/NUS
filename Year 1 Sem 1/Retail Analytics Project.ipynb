{
 "cells": [
  {
   "cell_type": "code",
   "execution_count": 1,
   "metadata": {
    "ExecuteTime": {
     "end_time": "2021-04-17T07:42:42.376312Z",
     "start_time": "2021-04-17T07:42:41.784408Z"
    }
   },
   "outputs": [],
   "source": [
    "# Libraries\n",
    "import os\n",
    "import pandas as pd\n",
    "from scipy.stats import zscore\n",
    "from datetime import datetime, timedelta\n",
    "from dateutil.relativedelta import relativedelta\n",
    "user = os.getenv('USERPROFILE')\n",
    "data_path = os.path.join(\n",
    "    user, 'OneDrive - National University of Singapore\\EBAC\\Year 1 Semester 1\\Project\\Data')\n",
    "os.chdir(data_path)"
   ]
  },
  {
   "cell_type": "code",
   "execution_count": 2,
   "metadata": {
    "ExecuteTime": {
     "end_time": "2021-04-17T07:42:43.825456Z",
     "start_time": "2021-04-17T07:42:42.432318Z"
    }
   },
   "outputs": [
    {
     "data": {
      "text/html": [
       "<div>\n",
       "<style scoped>\n",
       "    .dataframe tbody tr th:only-of-type {\n",
       "        vertical-align: middle;\n",
       "    }\n",
       "\n",
       "    .dataframe tbody tr th {\n",
       "        vertical-align: top;\n",
       "    }\n",
       "\n",
       "    .dataframe thead th {\n",
       "        text-align: right;\n",
       "    }\n",
       "</style>\n",
       "<table border=\"1\" class=\"dataframe\">\n",
       "  <thead>\n",
       "    <tr style=\"text-align: right;\">\n",
       "      <th></th>\n",
       "      <th>DATE</th>\n",
       "      <th>CUSTNAME</th>\n",
       "      <th>MATERIAL</th>\n",
       "      <th>BASEUOM</th>\n",
       "      <th>MSTAE</th>\n",
       "      <th>H1</th>\n",
       "      <th>H2</th>\n",
       "      <th>H3</th>\n",
       "      <th>QTY_SOLD</th>\n",
       "      <th>CLUSTER</th>\n",
       "    </tr>\n",
       "  </thead>\n",
       "  <tbody>\n",
       "    <tr>\n",
       "      <th>0</th>\n",
       "      <td>2018-06-25</td>\n",
       "      <td>Store 4</td>\n",
       "      <td>10091</td>\n",
       "      <td>PAC</td>\n",
       "      <td>AC</td>\n",
       "      <td>Dairy</td>\n",
       "      <td>Cream Compound</td>\n",
       "      <td>Whipping</td>\n",
       "      <td>5.0</td>\n",
       "      <td>B</td>\n",
       "    </tr>\n",
       "    <tr>\n",
       "      <th>1</th>\n",
       "      <td>2018-06-25</td>\n",
       "      <td>Store 4</td>\n",
       "      <td>10550</td>\n",
       "      <td>PAC</td>\n",
       "      <td>AC</td>\n",
       "      <td>Nuts, Seeds &amp; Beans</td>\n",
       "      <td>Nuts</td>\n",
       "      <td>Pumpkin Kernel</td>\n",
       "      <td>3.0</td>\n",
       "      <td>B</td>\n",
       "    </tr>\n",
       "    <tr>\n",
       "      <th>2</th>\n",
       "      <td>2018-06-25</td>\n",
       "      <td>Store 4</td>\n",
       "      <td>11485</td>\n",
       "      <td>PAC</td>\n",
       "      <td>AC</td>\n",
       "      <td>Flour, Grain &amp; Flakes</td>\n",
       "      <td>Premix</td>\n",
       "      <td>Others</td>\n",
       "      <td>1.0</td>\n",
       "      <td>B</td>\n",
       "    </tr>\n",
       "    <tr>\n",
       "      <th>3</th>\n",
       "      <td>2018-06-25</td>\n",
       "      <td>Store 4</td>\n",
       "      <td>1201</td>\n",
       "      <td>PAC</td>\n",
       "      <td>AC</td>\n",
       "      <td>Bakery</td>\n",
       "      <td>Functional</td>\n",
       "      <td>Starches</td>\n",
       "      <td>1.0</td>\n",
       "      <td>B</td>\n",
       "    </tr>\n",
       "    <tr>\n",
       "      <th>4</th>\n",
       "      <td>2018-06-25</td>\n",
       "      <td>Store 4</td>\n",
       "      <td>12085</td>\n",
       "      <td>PAC</td>\n",
       "      <td>AC</td>\n",
       "      <td>Grocery</td>\n",
       "      <td>Seasoning</td>\n",
       "      <td>Herbs &amp; Spices</td>\n",
       "      <td>1.0</td>\n",
       "      <td>B</td>\n",
       "    </tr>\n",
       "  </tbody>\n",
       "</table>\n",
       "</div>"
      ],
      "text/plain": [
       "        DATE CUSTNAME  MATERIAL BASEUOM MSTAE                     H1  \\\n",
       "0 2018-06-25  Store 4     10091     PAC    AC                  Dairy   \n",
       "1 2018-06-25  Store 4     10550     PAC    AC    Nuts, Seeds & Beans   \n",
       "2 2018-06-25  Store 4     11485     PAC    AC  Flour, Grain & Flakes   \n",
       "3 2018-06-25  Store 4      1201     PAC    AC                 Bakery   \n",
       "4 2018-06-25  Store 4     12085     PAC    AC                Grocery   \n",
       "\n",
       "               H2              H3  QTY_SOLD CLUSTER  \n",
       "0  Cream Compound        Whipping       5.0       B  \n",
       "1            Nuts  Pumpkin Kernel       3.0       B  \n",
       "2          Premix          Others       1.0       B  \n",
       "3      Functional        Starches       1.0       B  \n",
       "4       Seasoning  Herbs & Spices       1.0       B  "
      ]
     },
     "execution_count": 2,
     "metadata": {},
     "output_type": "execute_result"
    }
   ],
   "source": [
    "retail_df = pd.read_csv('Retail_Week_NUS.csv', parse_dates=[0])\n",
    "retail_df.head()"
   ]
  },
  {
   "cell_type": "markdown",
   "metadata": {},
   "source": [
    "# Data Cleaning"
   ]
  },
  {
   "cell_type": "markdown",
   "metadata": {},
   "source": [
    "**We only look at active skus and remove General and Service in H1**"
   ]
  },
  {
   "cell_type": "code",
   "execution_count": 3,
   "metadata": {
    "ExecuteTime": {
     "end_time": "2021-04-17T07:42:44.107645Z",
     "start_time": "2021-04-17T07:42:43.826457Z"
    }
   },
   "outputs": [],
   "source": [
    "retail_df = retail_df.loc[(retail_df['MSTAE'] == 'AC') & (\n",
    "    (retail_df['H1'] != 'General') & (retail_df['H1'] != 'Service'))]"
   ]
  },
  {
   "cell_type": "markdown",
   "metadata": {},
   "source": [
    "**Create Year and Week**"
   ]
  },
  {
   "cell_type": "code",
   "execution_count": 4,
   "metadata": {
    "ExecuteTime": {
     "end_time": "2021-04-17T07:42:51.156331Z",
     "start_time": "2021-04-17T07:42:44.108646Z"
    }
   },
   "outputs": [
    {
     "name": "stdout",
     "output_type": "stream",
     "text": [
      "(1391820, 12)\n"
     ]
    },
    {
     "data": {
      "text/html": [
       "<div>\n",
       "<style scoped>\n",
       "    .dataframe tbody tr th:only-of-type {\n",
       "        vertical-align: middle;\n",
       "    }\n",
       "\n",
       "    .dataframe tbody tr th {\n",
       "        vertical-align: top;\n",
       "    }\n",
       "\n",
       "    .dataframe thead th {\n",
       "        text-align: right;\n",
       "    }\n",
       "</style>\n",
       "<table border=\"1\" class=\"dataframe\">\n",
       "  <thead>\n",
       "    <tr style=\"text-align: right;\">\n",
       "      <th></th>\n",
       "      <th>DATE</th>\n",
       "      <th>CUSTNAME</th>\n",
       "      <th>MATERIAL</th>\n",
       "      <th>BASEUOM</th>\n",
       "      <th>MSTAE</th>\n",
       "      <th>H1</th>\n",
       "      <th>H2</th>\n",
       "      <th>H3</th>\n",
       "      <th>QTY_SOLD</th>\n",
       "      <th>CLUSTER</th>\n",
       "      <th>YEAR</th>\n",
       "      <th>WEEK</th>\n",
       "    </tr>\n",
       "  </thead>\n",
       "  <tbody>\n",
       "    <tr>\n",
       "      <th>0</th>\n",
       "      <td>2018-06-25</td>\n",
       "      <td>Store 4</td>\n",
       "      <td>10091</td>\n",
       "      <td>PAC</td>\n",
       "      <td>AC</td>\n",
       "      <td>Dairy</td>\n",
       "      <td>Cream Compound</td>\n",
       "      <td>Whipping</td>\n",
       "      <td>5.0</td>\n",
       "      <td>B</td>\n",
       "      <td>2018</td>\n",
       "      <td>26</td>\n",
       "    </tr>\n",
       "    <tr>\n",
       "      <th>1</th>\n",
       "      <td>2018-06-25</td>\n",
       "      <td>Store 4</td>\n",
       "      <td>10550</td>\n",
       "      <td>PAC</td>\n",
       "      <td>AC</td>\n",
       "      <td>Nuts, Seeds &amp; Beans</td>\n",
       "      <td>Nuts</td>\n",
       "      <td>Pumpkin Kernel</td>\n",
       "      <td>3.0</td>\n",
       "      <td>B</td>\n",
       "      <td>2018</td>\n",
       "      <td>26</td>\n",
       "    </tr>\n",
       "    <tr>\n",
       "      <th>2</th>\n",
       "      <td>2018-06-25</td>\n",
       "      <td>Store 4</td>\n",
       "      <td>11485</td>\n",
       "      <td>PAC</td>\n",
       "      <td>AC</td>\n",
       "      <td>Flour, Grain &amp; Flakes</td>\n",
       "      <td>Premix</td>\n",
       "      <td>Others</td>\n",
       "      <td>1.0</td>\n",
       "      <td>B</td>\n",
       "      <td>2018</td>\n",
       "      <td>26</td>\n",
       "    </tr>\n",
       "    <tr>\n",
       "      <th>3</th>\n",
       "      <td>2018-06-25</td>\n",
       "      <td>Store 4</td>\n",
       "      <td>1201</td>\n",
       "      <td>PAC</td>\n",
       "      <td>AC</td>\n",
       "      <td>Bakery</td>\n",
       "      <td>Functional</td>\n",
       "      <td>Starches</td>\n",
       "      <td>1.0</td>\n",
       "      <td>B</td>\n",
       "      <td>2018</td>\n",
       "      <td>26</td>\n",
       "    </tr>\n",
       "    <tr>\n",
       "      <th>4</th>\n",
       "      <td>2018-06-25</td>\n",
       "      <td>Store 4</td>\n",
       "      <td>12085</td>\n",
       "      <td>PAC</td>\n",
       "      <td>AC</td>\n",
       "      <td>Grocery</td>\n",
       "      <td>Seasoning</td>\n",
       "      <td>Herbs &amp; Spices</td>\n",
       "      <td>1.0</td>\n",
       "      <td>B</td>\n",
       "      <td>2018</td>\n",
       "      <td>26</td>\n",
       "    </tr>\n",
       "  </tbody>\n",
       "</table>\n",
       "</div>"
      ],
      "text/plain": [
       "        DATE CUSTNAME  MATERIAL BASEUOM MSTAE                     H1  \\\n",
       "0 2018-06-25  Store 4     10091     PAC    AC                  Dairy   \n",
       "1 2018-06-25  Store 4     10550     PAC    AC    Nuts, Seeds & Beans   \n",
       "2 2018-06-25  Store 4     11485     PAC    AC  Flour, Grain & Flakes   \n",
       "3 2018-06-25  Store 4      1201     PAC    AC                 Bakery   \n",
       "4 2018-06-25  Store 4     12085     PAC    AC                Grocery   \n",
       "\n",
       "               H2              H3  QTY_SOLD CLUSTER  YEAR WEEK  \n",
       "0  Cream Compound        Whipping       5.0       B  2018   26  \n",
       "1            Nuts  Pumpkin Kernel       3.0       B  2018   26  \n",
       "2          Premix          Others       1.0       B  2018   26  \n",
       "3      Functional        Starches       1.0       B  2018   26  \n",
       "4       Seasoning  Herbs & Spices       1.0       B  2018   26  "
      ]
     },
     "execution_count": 4,
     "metadata": {},
     "output_type": "execute_result"
    }
   ],
   "source": [
    "retail_df['YEAR'] = retail_df['DATE'].dt.year\n",
    "retail_df['WEEK'] = retail_df['DATE'].dt.strftime('%W')\n",
    "print(retail_df.shape)\n",
    "retail_df.head()"
   ]
  },
  {
   "cell_type": "markdown",
   "metadata": {},
   "source": [
    "**Insert weeks with no sales (Put 0)<br>Did not put currently as it affects standard deviation**"
   ]
  },
  {
   "cell_type": "code",
   "execution_count": 33,
   "metadata": {
    "ExecuteTime": {
     "end_time": "2021-04-17T07:56:30.845552Z",
     "start_time": "2021-04-17T07:56:30.614443Z"
    }
   },
   "outputs": [],
   "source": [
    "retail_group = retail_df.groupby(['YEAR', 'WEEK', 'MATERIAL'])[\n",
    "    'QTY_SOLD'].sum().reset_index()"
   ]
  },
  {
   "cell_type": "code",
   "execution_count": 54,
   "metadata": {
    "ExecuteTime": {
     "end_time": "2021-04-17T08:01:53.357947Z",
     "start_time": "2021-04-17T08:01:53.347835Z"
    }
   },
   "outputs": [
    {
     "data": {
      "text/html": [
       "<div>\n",
       "<style scoped>\n",
       "    .dataframe tbody tr th:only-of-type {\n",
       "        vertical-align: middle;\n",
       "    }\n",
       "\n",
       "    .dataframe tbody tr th {\n",
       "        vertical-align: top;\n",
       "    }\n",
       "\n",
       "    .dataframe thead th {\n",
       "        text-align: right;\n",
       "    }\n",
       "</style>\n",
       "<table border=\"1\" class=\"dataframe\">\n",
       "  <thead>\n",
       "    <tr style=\"text-align: right;\">\n",
       "      <th></th>\n",
       "      <th>YEAR</th>\n",
       "      <th>WEEK</th>\n",
       "      <th>MATERIAL</th>\n",
       "      <th>QTY_SOLD</th>\n",
       "    </tr>\n",
       "  </thead>\n",
       "  <tbody>\n",
       "    <tr>\n",
       "      <th>0</th>\n",
       "      <td>2018</td>\n",
       "      <td>26</td>\n",
       "      <td>101</td>\n",
       "      <td>2.0</td>\n",
       "    </tr>\n",
       "    <tr>\n",
       "      <th>1</th>\n",
       "      <td>2018</td>\n",
       "      <td>26</td>\n",
       "      <td>112</td>\n",
       "      <td>1.0</td>\n",
       "    </tr>\n",
       "    <tr>\n",
       "      <th>2</th>\n",
       "      <td>2018</td>\n",
       "      <td>26</td>\n",
       "      <td>116</td>\n",
       "      <td>8.0</td>\n",
       "    </tr>\n",
       "    <tr>\n",
       "      <th>3</th>\n",
       "      <td>2018</td>\n",
       "      <td>26</td>\n",
       "      <td>213</td>\n",
       "      <td>7.0</td>\n",
       "    </tr>\n",
       "    <tr>\n",
       "      <th>4</th>\n",
       "      <td>2018</td>\n",
       "      <td>26</td>\n",
       "      <td>219</td>\n",
       "      <td>1.0</td>\n",
       "    </tr>\n",
       "  </tbody>\n",
       "</table>\n",
       "</div>"
      ],
      "text/plain": [
       "   YEAR WEEK  MATERIAL  QTY_SOLD\n",
       "0  2018   26       101       2.0\n",
       "1  2018   26       112       1.0\n",
       "2  2018   26       116       8.0\n",
       "3  2018   26       213       7.0\n",
       "4  2018   26       219       1.0"
      ]
     },
     "execution_count": 54,
     "metadata": {},
     "output_type": "execute_result"
    }
   ],
   "source": [
    "retail_group.head()"
   ]
  },
  {
   "cell_type": "code",
   "execution_count": 5,
   "metadata": {
    "ExecuteTime": {
     "end_time": "2021-04-17T07:42:52.621460Z",
     "start_time": "2021-04-17T07:42:51.157331Z"
    }
   },
   "outputs": [],
   "source": [
    "# retail_group = retail_df.pivot_table(index=['YEAR', 'WEEK'], columns=[\n",
    "#     'MATERIAL'], values='QTY_SOLD', fill_value=0).reset_index()"
   ]
  },
  {
   "cell_type": "code",
   "execution_count": 6,
   "metadata": {
    "ExecuteTime": {
     "end_time": "2021-04-17T07:42:52.699887Z",
     "start_time": "2021-04-17T07:42:52.622390Z"
    }
   },
   "outputs": [],
   "source": [
    "# retail_group = retail_group.melt(\n",
    "#     id_vars=['YEAR', 'WEEK'], value_vars=retail_group.columns[2:], value_name='QTY_SOLD')"
   ]
  },
  {
   "cell_type": "code",
   "execution_count": 7,
   "metadata": {
    "ExecuteTime": {
     "end_time": "2021-04-17T07:42:52.715027Z",
     "start_time": "2021-04-17T07:42:52.700887Z"
    }
   },
   "outputs": [
    {
     "name": "stdout",
     "output_type": "stream",
     "text": [
      "(1246402, 4)\n"
     ]
    },
    {
     "data": {
      "text/html": [
       "<div>\n",
       "<style scoped>\n",
       "    .dataframe tbody tr th:only-of-type {\n",
       "        vertical-align: middle;\n",
       "    }\n",
       "\n",
       "    .dataframe tbody tr th {\n",
       "        vertical-align: top;\n",
       "    }\n",
       "\n",
       "    .dataframe thead th {\n",
       "        text-align: right;\n",
       "    }\n",
       "</style>\n",
       "<table border=\"1\" class=\"dataframe\">\n",
       "  <thead>\n",
       "    <tr style=\"text-align: right;\">\n",
       "      <th></th>\n",
       "      <th>YEAR</th>\n",
       "      <th>WEEK</th>\n",
       "      <th>MATERIAL</th>\n",
       "      <th>QTY_SOLD</th>\n",
       "    </tr>\n",
       "  </thead>\n",
       "  <tbody>\n",
       "    <tr>\n",
       "      <th>0</th>\n",
       "      <td>2018</td>\n",
       "      <td>26</td>\n",
       "      <td>101</td>\n",
       "      <td>2.0</td>\n",
       "    </tr>\n",
       "    <tr>\n",
       "      <th>1</th>\n",
       "      <td>2018</td>\n",
       "      <td>27</td>\n",
       "      <td>101</td>\n",
       "      <td>1.0</td>\n",
       "    </tr>\n",
       "    <tr>\n",
       "      <th>2</th>\n",
       "      <td>2018</td>\n",
       "      <td>28</td>\n",
       "      <td>101</td>\n",
       "      <td>1.0</td>\n",
       "    </tr>\n",
       "    <tr>\n",
       "      <th>3</th>\n",
       "      <td>2018</td>\n",
       "      <td>29</td>\n",
       "      <td>101</td>\n",
       "      <td>1.0</td>\n",
       "    </tr>\n",
       "    <tr>\n",
       "      <th>4</th>\n",
       "      <td>2018</td>\n",
       "      <td>30</td>\n",
       "      <td>101</td>\n",
       "      <td>1.0</td>\n",
       "    </tr>\n",
       "  </tbody>\n",
       "</table>\n",
       "</div>"
      ],
      "text/plain": [
       "   YEAR WEEK MATERIAL  QTY_SOLD\n",
       "0  2018   26      101       2.0\n",
       "1  2018   27      101       1.0\n",
       "2  2018   28      101       1.0\n",
       "3  2018   29      101       1.0\n",
       "4  2018   30      101       1.0"
      ]
     },
     "execution_count": 7,
     "metadata": {},
     "output_type": "execute_result"
    }
   ],
   "source": [
    "# print(retail_group.shape)\n",
    "# retail_group.head()"
   ]
  },
  {
   "cell_type": "markdown",
   "metadata": {},
   "source": [
    "# Seasonal Products"
   ]
  },
  {
   "cell_type": "markdown",
   "metadata": {},
   "source": [
    "**Sales of items affected by**\n",
    "- Economy at times\n",
    "- Nature of Item (Seasonal or Non-seasonal)\n",
    "- Promotions or Discounts\n",
    "- Competition from a rival\n",
    "- Competition from a substitute product\n",
    "- Special events like Super Bowl, Thanksgiving, New Year, etc varying from places to places"
   ]
  },
  {
   "cell_type": "code",
   "execution_count": 36,
   "metadata": {
    "ExecuteTime": {
     "end_time": "2021-04-17T07:57:24.514762Z",
     "start_time": "2021-04-17T07:57:24.460944Z"
    }
   },
   "outputs": [
    {
     "data": {
      "text/html": [
       "<div>\n",
       "<style scoped>\n",
       "    .dataframe tbody tr th:only-of-type {\n",
       "        vertical-align: middle;\n",
       "    }\n",
       "\n",
       "    .dataframe tbody tr th {\n",
       "        vertical-align: top;\n",
       "    }\n",
       "\n",
       "    .dataframe thead th {\n",
       "        text-align: right;\n",
       "    }\n",
       "</style>\n",
       "<table border=\"1\" class=\"dataframe\">\n",
       "  <thead>\n",
       "    <tr style=\"text-align: right;\">\n",
       "      <th></th>\n",
       "      <th>MATERIAL</th>\n",
       "      <th>YEAR</th>\n",
       "      <th>AVG_QTY</th>\n",
       "    </tr>\n",
       "  </thead>\n",
       "  <tbody>\n",
       "    <tr>\n",
       "      <th>0</th>\n",
       "      <td>101</td>\n",
       "      <td>2018</td>\n",
       "      <td>1.454545</td>\n",
       "    </tr>\n",
       "    <tr>\n",
       "      <th>1</th>\n",
       "      <td>101</td>\n",
       "      <td>2019</td>\n",
       "      <td>1.783784</td>\n",
       "    </tr>\n",
       "    <tr>\n",
       "      <th>2</th>\n",
       "      <td>101</td>\n",
       "      <td>2020</td>\n",
       "      <td>2.275862</td>\n",
       "    </tr>\n",
       "    <tr>\n",
       "      <th>3</th>\n",
       "      <td>101</td>\n",
       "      <td>2021</td>\n",
       "      <td>1.714286</td>\n",
       "    </tr>\n",
       "    <tr>\n",
       "      <th>4</th>\n",
       "      <td>102</td>\n",
       "      <td>2018</td>\n",
       "      <td>1.000000</td>\n",
       "    </tr>\n",
       "  </tbody>\n",
       "</table>\n",
       "</div>"
      ],
      "text/plain": [
       "   MATERIAL  YEAR   AVG_QTY\n",
       "0       101  2018  1.454545\n",
       "1       101  2019  1.783784\n",
       "2       101  2020  2.275862\n",
       "3       101  2021  1.714286\n",
       "4       102  2018  1.000000"
      ]
     },
     "execution_count": 36,
     "metadata": {},
     "output_type": "execute_result"
    }
   ],
   "source": [
    "avg_df = retail_group.groupby(['MATERIAL', 'YEAR'])[\n",
    "    'QTY_SOLD'].mean().reset_index()\n",
    "avg_df = avg_df.rename(columns={'QTY_SOLD': 'AVG_QTY'})\n",
    "avg_df.head()"
   ]
  },
  {
   "cell_type": "code",
   "execution_count": 37,
   "metadata": {
    "ExecuteTime": {
     "end_time": "2021-04-17T07:57:26.637459Z",
     "start_time": "2021-04-17T07:57:26.556814Z"
    }
   },
   "outputs": [
    {
     "data": {
      "text/html": [
       "<div>\n",
       "<style scoped>\n",
       "    .dataframe tbody tr th:only-of-type {\n",
       "        vertical-align: middle;\n",
       "    }\n",
       "\n",
       "    .dataframe tbody tr th {\n",
       "        vertical-align: top;\n",
       "    }\n",
       "\n",
       "    .dataframe thead th {\n",
       "        text-align: right;\n",
       "    }\n",
       "</style>\n",
       "<table border=\"1\" class=\"dataframe\">\n",
       "  <thead>\n",
       "    <tr style=\"text-align: right;\">\n",
       "      <th></th>\n",
       "      <th>YEAR</th>\n",
       "      <th>WEEK</th>\n",
       "      <th>MATERIAL</th>\n",
       "      <th>QTY_SOLD</th>\n",
       "      <th>AVG_QTY</th>\n",
       "    </tr>\n",
       "  </thead>\n",
       "  <tbody>\n",
       "    <tr>\n",
       "      <th>0</th>\n",
       "      <td>2018</td>\n",
       "      <td>26</td>\n",
       "      <td>101</td>\n",
       "      <td>2.0</td>\n",
       "      <td>1.454545</td>\n",
       "    </tr>\n",
       "    <tr>\n",
       "      <th>1</th>\n",
       "      <td>2018</td>\n",
       "      <td>26</td>\n",
       "      <td>112</td>\n",
       "      <td>1.0</td>\n",
       "      <td>17.214286</td>\n",
       "    </tr>\n",
       "    <tr>\n",
       "      <th>2</th>\n",
       "      <td>2018</td>\n",
       "      <td>26</td>\n",
       "      <td>116</td>\n",
       "      <td>8.0</td>\n",
       "      <td>35.821429</td>\n",
       "    </tr>\n",
       "    <tr>\n",
       "      <th>3</th>\n",
       "      <td>2018</td>\n",
       "      <td>26</td>\n",
       "      <td>213</td>\n",
       "      <td>7.0</td>\n",
       "      <td>30.964286</td>\n",
       "    </tr>\n",
       "    <tr>\n",
       "      <th>4</th>\n",
       "      <td>2018</td>\n",
       "      <td>26</td>\n",
       "      <td>219</td>\n",
       "      <td>1.0</td>\n",
       "      <td>52.607143</td>\n",
       "    </tr>\n",
       "  </tbody>\n",
       "</table>\n",
       "</div>"
      ],
      "text/plain": [
       "   YEAR WEEK  MATERIAL  QTY_SOLD    AVG_QTY\n",
       "0  2018   26       101       2.0   1.454545\n",
       "1  2018   26       112       1.0  17.214286\n",
       "2  2018   26       116       8.0  35.821429\n",
       "3  2018   26       213       7.0  30.964286\n",
       "4  2018   26       219       1.0  52.607143"
      ]
     },
     "execution_count": 37,
     "metadata": {},
     "output_type": "execute_result"
    }
   ],
   "source": [
    "retail_merged = retail_group.merge(avg_df, how='left', on=['YEAR', 'MATERIAL'])\n",
    "retail_merged.head()"
   ]
  },
  {
   "cell_type": "markdown",
   "metadata": {},
   "source": [
    "**Create seasonal index**"
   ]
  },
  {
   "cell_type": "code",
   "execution_count": 38,
   "metadata": {
    "ExecuteTime": {
     "end_time": "2021-04-17T07:57:30.072190Z",
     "start_time": "2021-04-17T07:57:30.064188Z"
    }
   },
   "outputs": [],
   "source": [
    "retail_merged['SEASONAL_INDEX'] = retail_merged['QTY_SOLD'] / \\\n",
    "    retail_merged['AVG_QTY']"
   ]
  },
  {
   "cell_type": "code",
   "execution_count": 46,
   "metadata": {
    "ExecuteTime": {
     "end_time": "2021-04-17T07:59:20.180397Z",
     "start_time": "2021-04-17T07:59:20.133734Z"
    }
   },
   "outputs": [],
   "source": [
    "std_df = retail_merged.groupby(['MATERIAL', 'YEAR'])[\n",
    "    'SEASONAL_INDEX'].std().reset_index()\n",
    "std_df = std_df.rename(columns={'SEASONAL_INDEX': 'STD'})"
   ]
  },
  {
   "cell_type": "code",
   "execution_count": 48,
   "metadata": {
    "ExecuteTime": {
     "end_time": "2021-04-17T07:59:24.927725Z",
     "start_time": "2021-04-17T07:59:24.850728Z"
    }
   },
   "outputs": [],
   "source": [
    "retail_merged = retail_merged.merge(\n",
    "    std_df, how='left', on=['MATERIAL', 'YEAR'])"
   ]
  },
  {
   "cell_type": "markdown",
   "metadata": {},
   "source": [
    "**Remove materials that are not sold, it may be cause of lack of inventory**"
   ]
  },
  {
   "cell_type": "code",
   "execution_count": 49,
   "metadata": {
    "ExecuteTime": {
     "end_time": "2021-04-17T07:59:29.917230Z",
     "start_time": "2021-04-17T07:59:29.848191Z"
    }
   },
   "outputs": [],
   "source": [
    "retail_merged = retail_merged.dropna(subset=['STD'])\n",
    "\n",
    "retail_merged = retail_merged.groupby(['YEAR', 'MATERIAL'])['STD'].mean(\n",
    ").to_frame().sort_values(by=['YEAR', 'STD'], ascending=False)"
   ]
  },
  {
   "cell_type": "code",
   "execution_count": 50,
   "metadata": {
    "ExecuteTime": {
     "end_time": "2021-04-17T07:59:37.452397Z",
     "start_time": "2021-04-17T07:59:37.443704Z"
    }
   },
   "outputs": [
    {
     "data": {
      "text/html": [
       "<div>\n",
       "<style scoped>\n",
       "    .dataframe tbody tr th:only-of-type {\n",
       "        vertical-align: middle;\n",
       "    }\n",
       "\n",
       "    .dataframe tbody tr th {\n",
       "        vertical-align: top;\n",
       "    }\n",
       "\n",
       "    .dataframe thead th {\n",
       "        text-align: right;\n",
       "    }\n",
       "</style>\n",
       "<table border=\"1\" class=\"dataframe\">\n",
       "  <thead>\n",
       "    <tr style=\"text-align: right;\">\n",
       "      <th></th>\n",
       "      <th></th>\n",
       "      <th>STD</th>\n",
       "    </tr>\n",
       "    <tr>\n",
       "      <th>YEAR</th>\n",
       "      <th>MATERIAL</th>\n",
       "      <th></th>\n",
       "    </tr>\n",
       "  </thead>\n",
       "  <tbody>\n",
       "    <tr>\n",
       "      <th rowspan=\"5\" valign=\"top\">2021</th>\n",
       "      <th>56732</th>\n",
       "      <td>4.242641</td>\n",
       "    </tr>\n",
       "    <tr>\n",
       "      <th>104945</th>\n",
       "      <td>3.464102</td>\n",
       "    </tr>\n",
       "    <tr>\n",
       "      <th>430</th>\n",
       "      <td>3.311135</td>\n",
       "    </tr>\n",
       "    <tr>\n",
       "      <th>200989</th>\n",
       "      <td>2.510824</td>\n",
       "    </tr>\n",
       "    <tr>\n",
       "      <th>53036</th>\n",
       "      <td>2.010835</td>\n",
       "    </tr>\n",
       "    <tr>\n",
       "      <th>...</th>\n",
       "      <th>...</th>\n",
       "      <td>...</td>\n",
       "    </tr>\n",
       "    <tr>\n",
       "      <th rowspan=\"5\" valign=\"top\">2018</th>\n",
       "      <th>100377</th>\n",
       "      <td>0.000000</td>\n",
       "    </tr>\n",
       "    <tr>\n",
       "      <th>100495</th>\n",
       "      <td>0.000000</td>\n",
       "    </tr>\n",
       "    <tr>\n",
       "      <th>100499</th>\n",
       "      <td>0.000000</td>\n",
       "    </tr>\n",
       "    <tr>\n",
       "      <th>101301</th>\n",
       "      <td>0.000000</td>\n",
       "    </tr>\n",
       "    <tr>\n",
       "      <th>101568</th>\n",
       "      <td>0.000000</td>\n",
       "    </tr>\n",
       "  </tbody>\n",
       "</table>\n",
       "<p>23743 rows × 1 columns</p>\n",
       "</div>"
      ],
      "text/plain": [
       "                    STD\n",
       "YEAR MATERIAL          \n",
       "2021 56732     4.242641\n",
       "     104945    3.464102\n",
       "     430       3.311135\n",
       "     200989    2.510824\n",
       "     53036     2.010835\n",
       "...                 ...\n",
       "2018 100377    0.000000\n",
       "     100495    0.000000\n",
       "     100499    0.000000\n",
       "     101301    0.000000\n",
       "     101568    0.000000\n",
       "\n",
       "[23743 rows x 1 columns]"
      ]
     },
     "execution_count": 50,
     "metadata": {},
     "output_type": "execute_result"
    }
   ],
   "source": [
    "retail_merged"
   ]
  },
  {
   "cell_type": "code",
   "execution_count": null,
   "metadata": {
    "ExecuteTime": {
     "end_time": "2021-04-17T06:56:17.962344Z",
     "start_time": "2021-04-17T06:56:17.861546Z"
    }
   },
   "outputs": [],
   "source": [
    "retail_df.groupby(['YEAR', 'MATERIAL'])['DATE'].count().to_frame()"
   ]
  },
  {
   "cell_type": "code",
   "execution_count": 51,
   "metadata": {
    "ExecuteTime": {
     "end_time": "2021-04-17T07:59:57.841531Z",
     "start_time": "2021-04-17T07:59:57.826656Z"
    }
   },
   "outputs": [
    {
     "data": {
      "text/html": [
       "<div>\n",
       "<style scoped>\n",
       "    .dataframe tbody tr th:only-of-type {\n",
       "        vertical-align: middle;\n",
       "    }\n",
       "\n",
       "    .dataframe tbody tr th {\n",
       "        vertical-align: top;\n",
       "    }\n",
       "\n",
       "    .dataframe thead th {\n",
       "        text-align: right;\n",
       "    }\n",
       "</style>\n",
       "<table border=\"1\" class=\"dataframe\">\n",
       "  <thead>\n",
       "    <tr style=\"text-align: right;\">\n",
       "      <th></th>\n",
       "      <th>STD</th>\n",
       "    </tr>\n",
       "    <tr>\n",
       "      <th>MATERIAL</th>\n",
       "      <th></th>\n",
       "    </tr>\n",
       "  </thead>\n",
       "  <tbody>\n",
       "    <tr>\n",
       "      <th>65237</th>\n",
       "      <td>4.327266</td>\n",
       "    </tr>\n",
       "    <tr>\n",
       "      <th>52289</th>\n",
       "      <td>4.264110</td>\n",
       "    </tr>\n",
       "    <tr>\n",
       "      <th>50061</th>\n",
       "      <td>4.000208</td>\n",
       "    </tr>\n",
       "    <tr>\n",
       "      <th>102365</th>\n",
       "      <td>3.853268</td>\n",
       "    </tr>\n",
       "    <tr>\n",
       "      <th>102452</th>\n",
       "      <td>3.515416</td>\n",
       "    </tr>\n",
       "    <tr>\n",
       "      <th>...</th>\n",
       "      <td>...</td>\n",
       "    </tr>\n",
       "    <tr>\n",
       "      <th>200302</th>\n",
       "      <td>0.000000</td>\n",
       "    </tr>\n",
       "    <tr>\n",
       "      <th>200303</th>\n",
       "      <td>0.000000</td>\n",
       "    </tr>\n",
       "    <tr>\n",
       "      <th>200417</th>\n",
       "      <td>0.000000</td>\n",
       "    </tr>\n",
       "    <tr>\n",
       "      <th>200951</th>\n",
       "      <td>0.000000</td>\n",
       "    </tr>\n",
       "    <tr>\n",
       "      <th>201040</th>\n",
       "      <td>0.000000</td>\n",
       "    </tr>\n",
       "  </tbody>\n",
       "</table>\n",
       "<p>7064 rows × 1 columns</p>\n",
       "</div>"
      ],
      "text/plain": [
       "               STD\n",
       "MATERIAL          \n",
       "65237     4.327266\n",
       "52289     4.264110\n",
       "50061     4.000208\n",
       "102365    3.853268\n",
       "102452    3.515416\n",
       "...            ...\n",
       "200302    0.000000\n",
       "200303    0.000000\n",
       "200417    0.000000\n",
       "200951    0.000000\n",
       "201040    0.000000\n",
       "\n",
       "[7064 rows x 1 columns]"
      ]
     },
     "execution_count": 51,
     "metadata": {},
     "output_type": "execute_result"
    }
   ],
   "source": [
    "retail_merged.loc[2020]"
   ]
  },
  {
   "cell_type": "code",
   "execution_count": 53,
   "metadata": {
    "ExecuteTime": {
     "end_time": "2021-04-17T08:00:37.155499Z",
     "start_time": "2021-04-17T08:00:37.125602Z"
    }
   },
   "outputs": [
    {
     "data": {
      "text/html": [
       "<div>\n",
       "<style scoped>\n",
       "    .dataframe tbody tr th:only-of-type {\n",
       "        vertical-align: middle;\n",
       "    }\n",
       "\n",
       "    .dataframe tbody tr th {\n",
       "        vertical-align: top;\n",
       "    }\n",
       "\n",
       "    .dataframe thead th {\n",
       "        text-align: right;\n",
       "    }\n",
       "</style>\n",
       "<table border=\"1\" class=\"dataframe\">\n",
       "  <thead>\n",
       "    <tr style=\"text-align: right;\">\n",
       "      <th></th>\n",
       "      <th>DATE</th>\n",
       "      <th>CUSTNAME</th>\n",
       "      <th>MATERIAL</th>\n",
       "      <th>BASEUOM</th>\n",
       "      <th>MSTAE</th>\n",
       "      <th>H1</th>\n",
       "      <th>H2</th>\n",
       "      <th>H3</th>\n",
       "      <th>QTY_SOLD</th>\n",
       "      <th>CLUSTER</th>\n",
       "      <th>YEAR</th>\n",
       "      <th>WEEK</th>\n",
       "    </tr>\n",
       "  </thead>\n",
       "  <tbody>\n",
       "    <tr>\n",
       "      <th>796087</th>\n",
       "      <td>2020-01-06</td>\n",
       "      <td>Store 2</td>\n",
       "      <td>65237</td>\n",
       "      <td>PAC</td>\n",
       "      <td>AC</td>\n",
       "      <td>Non Food</td>\n",
       "      <td>Consumables</td>\n",
       "      <td>Baking Cases</td>\n",
       "      <td>2.0</td>\n",
       "      <td>A</td>\n",
       "      <td>2020</td>\n",
       "      <td>01</td>\n",
       "    </tr>\n",
       "    <tr>\n",
       "      <th>800689</th>\n",
       "      <td>2020-01-13</td>\n",
       "      <td>Store 1</td>\n",
       "      <td>65237</td>\n",
       "      <td>PAC</td>\n",
       "      <td>AC</td>\n",
       "      <td>Non Food</td>\n",
       "      <td>Consumables</td>\n",
       "      <td>Baking Cases</td>\n",
       "      <td>2.0</td>\n",
       "      <td>A</td>\n",
       "      <td>2020</td>\n",
       "      <td>02</td>\n",
       "    </tr>\n",
       "    <tr>\n",
       "      <th>813904</th>\n",
       "      <td>2020-01-20</td>\n",
       "      <td>Store 2</td>\n",
       "      <td>65237</td>\n",
       "      <td>PAC</td>\n",
       "      <td>AC</td>\n",
       "      <td>Non Food</td>\n",
       "      <td>Consumables</td>\n",
       "      <td>Baking Cases</td>\n",
       "      <td>1.0</td>\n",
       "      <td>A</td>\n",
       "      <td>2020</td>\n",
       "      <td>03</td>\n",
       "    </tr>\n",
       "    <tr>\n",
       "      <th>816488</th>\n",
       "      <td>2020-01-27</td>\n",
       "      <td>Store 3</td>\n",
       "      <td>65237</td>\n",
       "      <td>PAC</td>\n",
       "      <td>AC</td>\n",
       "      <td>Non Food</td>\n",
       "      <td>Consumables</td>\n",
       "      <td>Baking Cases</td>\n",
       "      <td>1.0</td>\n",
       "      <td>B</td>\n",
       "      <td>2020</td>\n",
       "      <td>04</td>\n",
       "    </tr>\n",
       "    <tr>\n",
       "      <th>826670</th>\n",
       "      <td>2020-02-03</td>\n",
       "      <td>Store 1</td>\n",
       "      <td>65237</td>\n",
       "      <td>PAC</td>\n",
       "      <td>AC</td>\n",
       "      <td>Non Food</td>\n",
       "      <td>Consumables</td>\n",
       "      <td>Baking Cases</td>\n",
       "      <td>1.0</td>\n",
       "      <td>A</td>\n",
       "      <td>2020</td>\n",
       "      <td>05</td>\n",
       "    </tr>\n",
       "    <tr>\n",
       "      <th>...</th>\n",
       "      <td>...</td>\n",
       "      <td>...</td>\n",
       "      <td>...</td>\n",
       "      <td>...</td>\n",
       "      <td>...</td>\n",
       "      <td>...</td>\n",
       "      <td>...</td>\n",
       "      <td>...</td>\n",
       "      <td>...</td>\n",
       "      <td>...</td>\n",
       "      <td>...</td>\n",
       "      <td>...</td>\n",
       "    </tr>\n",
       "    <tr>\n",
       "      <th>1314418</th>\n",
       "      <td>2020-12-14</td>\n",
       "      <td>Store 2</td>\n",
       "      <td>65237</td>\n",
       "      <td>PAC</td>\n",
       "      <td>AC</td>\n",
       "      <td>Non Food</td>\n",
       "      <td>Consumables</td>\n",
       "      <td>Baking Cases</td>\n",
       "      <td>3.0</td>\n",
       "      <td>A</td>\n",
       "      <td>2020</td>\n",
       "      <td>50</td>\n",
       "    </tr>\n",
       "    <tr>\n",
       "      <th>1325308</th>\n",
       "      <td>2020-12-21</td>\n",
       "      <td>Store 4</td>\n",
       "      <td>65237</td>\n",
       "      <td>PAC</td>\n",
       "      <td>AC</td>\n",
       "      <td>Non Food</td>\n",
       "      <td>Consumables</td>\n",
       "      <td>Baking Cases</td>\n",
       "      <td>9.0</td>\n",
       "      <td>B</td>\n",
       "      <td>2020</td>\n",
       "      <td>51</td>\n",
       "    </tr>\n",
       "    <tr>\n",
       "      <th>1326750</th>\n",
       "      <td>2020-12-21</td>\n",
       "      <td>Store 1</td>\n",
       "      <td>65237</td>\n",
       "      <td>PAC</td>\n",
       "      <td>AC</td>\n",
       "      <td>Non Food</td>\n",
       "      <td>Consumables</td>\n",
       "      <td>Baking Cases</td>\n",
       "      <td>2.0</td>\n",
       "      <td>A</td>\n",
       "      <td>2020</td>\n",
       "      <td>51</td>\n",
       "    </tr>\n",
       "    <tr>\n",
       "      <th>1330770</th>\n",
       "      <td>2020-12-21</td>\n",
       "      <td>Store 2</td>\n",
       "      <td>65237</td>\n",
       "      <td>PAC</td>\n",
       "      <td>AC</td>\n",
       "      <td>Non Food</td>\n",
       "      <td>Consumables</td>\n",
       "      <td>Baking Cases</td>\n",
       "      <td>3.0</td>\n",
       "      <td>A</td>\n",
       "      <td>2020</td>\n",
       "      <td>51</td>\n",
       "    </tr>\n",
       "    <tr>\n",
       "      <th>1339195</th>\n",
       "      <td>2020-12-28</td>\n",
       "      <td>Store 2</td>\n",
       "      <td>65237</td>\n",
       "      <td>PAC</td>\n",
       "      <td>AC</td>\n",
       "      <td>Non Food</td>\n",
       "      <td>Consumables</td>\n",
       "      <td>Baking Cases</td>\n",
       "      <td>1.0</td>\n",
       "      <td>A</td>\n",
       "      <td>2020</td>\n",
       "      <td>52</td>\n",
       "    </tr>\n",
       "  </tbody>\n",
       "</table>\n",
       "<p>98 rows × 12 columns</p>\n",
       "</div>"
      ],
      "text/plain": [
       "              DATE CUSTNAME  MATERIAL BASEUOM MSTAE        H1           H2  \\\n",
       "796087  2020-01-06  Store 2     65237     PAC    AC  Non Food  Consumables   \n",
       "800689  2020-01-13  Store 1     65237     PAC    AC  Non Food  Consumables   \n",
       "813904  2020-01-20  Store 2     65237     PAC    AC  Non Food  Consumables   \n",
       "816488  2020-01-27  Store 3     65237     PAC    AC  Non Food  Consumables   \n",
       "826670  2020-02-03  Store 1     65237     PAC    AC  Non Food  Consumables   \n",
       "...            ...      ...       ...     ...   ...       ...          ...   \n",
       "1314418 2020-12-14  Store 2     65237     PAC    AC  Non Food  Consumables   \n",
       "1325308 2020-12-21  Store 4     65237     PAC    AC  Non Food  Consumables   \n",
       "1326750 2020-12-21  Store 1     65237     PAC    AC  Non Food  Consumables   \n",
       "1330770 2020-12-21  Store 2     65237     PAC    AC  Non Food  Consumables   \n",
       "1339195 2020-12-28  Store 2     65237     PAC    AC  Non Food  Consumables   \n",
       "\n",
       "                   H3  QTY_SOLD CLUSTER  YEAR WEEK  \n",
       "796087   Baking Cases       2.0       A  2020   01  \n",
       "800689   Baking Cases       2.0       A  2020   02  \n",
       "813904   Baking Cases       1.0       A  2020   03  \n",
       "816488   Baking Cases       1.0       B  2020   04  \n",
       "826670   Baking Cases       1.0       A  2020   05  \n",
       "...               ...       ...     ...   ...  ...  \n",
       "1314418  Baking Cases       3.0       A  2020   50  \n",
       "1325308  Baking Cases       9.0       B  2020   51  \n",
       "1326750  Baking Cases       2.0       A  2020   51  \n",
       "1330770  Baking Cases       3.0       A  2020   51  \n",
       "1339195  Baking Cases       1.0       A  2020   52  \n",
       "\n",
       "[98 rows x 12 columns]"
      ]
     },
     "execution_count": 53,
     "metadata": {},
     "output_type": "execute_result"
    }
   ],
   "source": [
    "retail_df.loc[(retail_df['YEAR'] == 2020) & (retail_df['MATERIAL'] == 65237)]"
   ]
  },
  {
   "cell_type": "code",
   "execution_count": null,
   "metadata": {
    "ExecuteTime": {
     "end_time": "2021-04-17T06:57:08.604205Z",
     "start_time": "2021-04-17T06:57:08.586395Z"
    }
   },
   "outputs": [],
   "source": [
    "retail_group"
   ]
  },
  {
   "cell_type": "code",
   "execution_count": null,
   "metadata": {},
   "outputs": [],
   "source": []
  }
 ],
 "metadata": {
  "hide_input": false,
  "kernelspec": {
   "display_name": "Machine Learning",
   "language": "python",
   "name": "ml"
  },
  "language_info": {
   "codemirror_mode": {
    "name": "ipython",
    "version": 3
   },
   "file_extension": ".py",
   "mimetype": "text/x-python",
   "name": "python",
   "nbconvert_exporter": "python",
   "pygments_lexer": "ipython3",
   "version": "3.8.5"
  },
  "toc": {
   "base_numbering": 1,
   "nav_menu": {},
   "number_sections": true,
   "sideBar": true,
   "skip_h1_title": false,
   "title_cell": "Table of Contents",
   "title_sidebar": "Contents",
   "toc_cell": false,
   "toc_position": {},
   "toc_section_display": true,
   "toc_window_display": false
  }
 },
 "nbformat": 4,
 "nbformat_minor": 4
}
