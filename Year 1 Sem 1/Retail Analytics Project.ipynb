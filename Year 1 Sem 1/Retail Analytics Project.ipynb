{
 "cells": [
  {
   "cell_type": "code",
   "execution_count": 1,
   "metadata": {
    "ExecuteTime": {
     "end_time": "2021-04-26T07:17:35.417211Z",
     "start_time": "2021-04-26T07:17:33.740290Z"
    }
   },
   "outputs": [],
   "source": [
    "# Libraries\n",
    "from sklearn.preprocessing import OneHotEncoder\n",
    "from sklearn import linear_model\n",
    "from sklearn.model_selection import train_test_split\n",
    "import os\n",
    "import pandas as pd\n",
    "from scipy.stats import zscore\n",
    "from datetime import datetime, timedelta\n",
    "from dateutil.relativedelta import relativedelta\n",
    "from sklearn.metrics import mean_squared_error\n",
    "user = os.getenv('USERPROFILE')\n",
    "data_path = os.path.join(\n",
    "    user, 'OneDrive - National University of Singapore\\EBAC\\Year 1 Semester 1\\Project\\Data')\n",
    "os.chdir(data_path)\n",
    "pd.set_option('max_columns', None)"
   ]
  },
  {
   "cell_type": "code",
   "execution_count": 31,
   "metadata": {
    "ExecuteTime": {
     "end_time": "2021-04-26T07:35:12.602432Z",
     "start_time": "2021-04-26T07:35:12.570535Z"
    }
   },
   "outputs": [],
   "source": [
    "season_df = pd.read_excel('Events Calendar.xlsx',\n",
    "                          sheet_name='POC2', engine='openpyxl')\n",
    "\n",
    "season_df.loc[season_df['Phoon Huat Season'] == 'Y', 'Phoon Huat Season'] = 1\n",
    "season_df = season_df.dropna()\n",
    "season_df = season_df.drop_duplicates(subset=['DATE'])"
   ]
  },
  {
   "cell_type": "code",
   "execution_count": 11,
   "metadata": {
    "ExecuteTime": {
     "end_time": "2021-04-26T07:23:40.125884Z",
     "start_time": "2021-04-26T07:23:38.834952Z"
    }
   },
   "outputs": [
    {
     "data": {
      "text/html": [
       "<div>\n",
       "<style scoped>\n",
       "    .dataframe tbody tr th:only-of-type {\n",
       "        vertical-align: middle;\n",
       "    }\n",
       "\n",
       "    .dataframe tbody tr th {\n",
       "        vertical-align: top;\n",
       "    }\n",
       "\n",
       "    .dataframe thead th {\n",
       "        text-align: right;\n",
       "    }\n",
       "</style>\n",
       "<table border=\"1\" class=\"dataframe\">\n",
       "  <thead>\n",
       "    <tr style=\"text-align: right;\">\n",
       "      <th></th>\n",
       "      <th>DATE</th>\n",
       "      <th>CUSTNAME</th>\n",
       "      <th>MATERIAL</th>\n",
       "      <th>BASEUOM</th>\n",
       "      <th>MSTAE</th>\n",
       "      <th>H1</th>\n",
       "      <th>H2</th>\n",
       "      <th>H3</th>\n",
       "      <th>QTY_SOLD</th>\n",
       "      <th>CLUSTER</th>\n",
       "    </tr>\n",
       "  </thead>\n",
       "  <tbody>\n",
       "    <tr>\n",
       "      <th>0</th>\n",
       "      <td>2018-06-25</td>\n",
       "      <td>Store 4</td>\n",
       "      <td>10091</td>\n",
       "      <td>PAC</td>\n",
       "      <td>AC</td>\n",
       "      <td>Dairy</td>\n",
       "      <td>Cream Compound</td>\n",
       "      <td>Whipping</td>\n",
       "      <td>5.0</td>\n",
       "      <td>B</td>\n",
       "    </tr>\n",
       "    <tr>\n",
       "      <th>1</th>\n",
       "      <td>2018-06-25</td>\n",
       "      <td>Store 4</td>\n",
       "      <td>10550</td>\n",
       "      <td>PAC</td>\n",
       "      <td>AC</td>\n",
       "      <td>Nuts, Seeds &amp; Beans</td>\n",
       "      <td>Nuts</td>\n",
       "      <td>Pumpkin Kernel</td>\n",
       "      <td>3.0</td>\n",
       "      <td>B</td>\n",
       "    </tr>\n",
       "    <tr>\n",
       "      <th>2</th>\n",
       "      <td>2018-06-25</td>\n",
       "      <td>Store 4</td>\n",
       "      <td>11485</td>\n",
       "      <td>PAC</td>\n",
       "      <td>AC</td>\n",
       "      <td>Flour, Grain &amp; Flakes</td>\n",
       "      <td>Premix</td>\n",
       "      <td>Others</td>\n",
       "      <td>1.0</td>\n",
       "      <td>B</td>\n",
       "    </tr>\n",
       "    <tr>\n",
       "      <th>3</th>\n",
       "      <td>2018-06-25</td>\n",
       "      <td>Store 4</td>\n",
       "      <td>1201</td>\n",
       "      <td>PAC</td>\n",
       "      <td>AC</td>\n",
       "      <td>Bakery</td>\n",
       "      <td>Functional</td>\n",
       "      <td>Starches</td>\n",
       "      <td>1.0</td>\n",
       "      <td>B</td>\n",
       "    </tr>\n",
       "    <tr>\n",
       "      <th>4</th>\n",
       "      <td>2018-06-25</td>\n",
       "      <td>Store 4</td>\n",
       "      <td>12085</td>\n",
       "      <td>PAC</td>\n",
       "      <td>AC</td>\n",
       "      <td>Grocery</td>\n",
       "      <td>Seasoning</td>\n",
       "      <td>Herbs &amp; Spices</td>\n",
       "      <td>1.0</td>\n",
       "      <td>B</td>\n",
       "    </tr>\n",
       "  </tbody>\n",
       "</table>\n",
       "</div>"
      ],
      "text/plain": [
       "        DATE CUSTNAME  MATERIAL BASEUOM MSTAE                     H1  \\\n",
       "0 2018-06-25  Store 4     10091     PAC    AC                  Dairy   \n",
       "1 2018-06-25  Store 4     10550     PAC    AC    Nuts, Seeds & Beans   \n",
       "2 2018-06-25  Store 4     11485     PAC    AC  Flour, Grain & Flakes   \n",
       "3 2018-06-25  Store 4      1201     PAC    AC                 Bakery   \n",
       "4 2018-06-25  Store 4     12085     PAC    AC                Grocery   \n",
       "\n",
       "               H2              H3  QTY_SOLD CLUSTER  \n",
       "0  Cream Compound        Whipping       5.0       B  \n",
       "1            Nuts  Pumpkin Kernel       3.0       B  \n",
       "2          Premix          Others       1.0       B  \n",
       "3      Functional        Starches       1.0       B  \n",
       "4       Seasoning  Herbs & Spices       1.0       B  "
      ]
     },
     "execution_count": 11,
     "metadata": {},
     "output_type": "execute_result"
    }
   ],
   "source": [
    "retail_df = pd.read_csv('Retail_Week_NUS.csv', parse_dates=[0])\n",
    "retail_df.head()"
   ]
  },
  {
   "cell_type": "code",
   "execution_count": 12,
   "metadata": {
    "ExecuteTime": {
     "end_time": "2021-04-26T07:23:41.271752Z",
     "start_time": "2021-04-26T07:23:41.251742Z"
    }
   },
   "outputs": [
    {
     "data": {
      "text/plain": [
       "10785"
      ]
     },
     "execution_count": 12,
     "metadata": {},
     "output_type": "execute_result"
    }
   ],
   "source": [
    "retail_df['MATERIAL'].nunique()"
   ]
  },
  {
   "cell_type": "markdown",
   "metadata": {},
   "source": [
    "**Seasonal Items**"
   ]
  },
  {
   "cell_type": "code",
   "execution_count": null,
   "metadata": {
    "ExecuteTime": {
     "end_time": "2021-04-25T11:09:52.957814Z",
     "start_time": "2021-04-25T11:09:52.944825Z"
    }
   },
   "outputs": [],
   "source": [
    "seasonal_list = [116,    250,    328,    714,    738,    901,    909,    917,\n",
    "                 972,    986,   1016,   1027,   1340,   1603,   2307,   2731,\n",
    "                 7125,   8092,   8207,   8460,   8563,   9080,   9081,   9122,\n",
    "                 9159,  10549,  10550,  10562,  10564,  10572,  10683,  10691,\n",
    "                 10692,  10699,  10913,  11955,  13121,  13695,  13789,  14005,\n",
    "                 14856,  14990,  14991,  20042,  51949,  52289,  52408,  52821,\n",
    "                 52824,  52825,  52906,  53035,  53330,  53655,  53945,  53990,\n",
    "                 53991,  54011,  54012,  54032,  54080,  54089,  54110,  55682,\n",
    "                 56406,  57248,  57250,  57775,  57809,  58360,  58536,  58957,\n",
    "                 59173,  59174,  61215,  61240,  61299,  61305,  61713,  62239,\n",
    "                 62240,  63277,  65646,  66019,  66095,  66446,  67544,  67549,\n",
    "                 67764,  67770,    799,   1605,   1606,   8091,   8093,   8122,\n",
    "                 9545,   9890,  10033,  11656,  12481,  12501,  13120,  50071,\n",
    "                 52069,  52889,  53005,  54016,  54022,  54029,  54538,  56276,\n",
    "                 57060,  57813,  57814,  58256,  61715,  62065,  63840,  63841,\n",
    "                 64382,  64622,  65642,  65879,  66027,  66040,  66503,  66947,\n",
    "                 67049,  67248,  67551,    744,   1604,  10568,  10599,  14728,\n",
    "                 15251,  64383,  51697,  67816,  13731,  13732,  67767,  68323,\n",
    "                 100452,  52661]"
   ]
  },
  {
   "cell_type": "markdown",
   "metadata": {},
   "source": [
    "# Data Cleaning"
   ]
  },
  {
   "cell_type": "markdown",
   "metadata": {},
   "source": [
    "**We only look at active skus and remove General and Service in H1**"
   ]
  },
  {
   "cell_type": "code",
   "execution_count": 13,
   "metadata": {
    "ExecuteTime": {
     "end_time": "2021-04-26T07:24:31.847587Z",
     "start_time": "2021-04-26T07:24:31.512730Z"
    }
   },
   "outputs": [],
   "source": [
    "retail_df = retail_df.loc[(retail_df['MSTAE'] == 'AC') & (\n",
    "    (retail_df['H1'] != 'General') & (retail_df['H1'] != 'Service'))].copy()"
   ]
  },
  {
   "cell_type": "markdown",
   "metadata": {},
   "source": [
    "**Create Year and Week**"
   ]
  },
  {
   "cell_type": "code",
   "execution_count": 14,
   "metadata": {
    "ExecuteTime": {
     "end_time": "2021-04-26T07:24:39.994081Z",
     "start_time": "2021-04-26T07:24:33.295363Z"
    }
   },
   "outputs": [
    {
     "name": "stdout",
     "output_type": "stream",
     "text": [
      "(1391820, 13)\n"
     ]
    },
    {
     "data": {
      "text/html": [
       "<div>\n",
       "<style scoped>\n",
       "    .dataframe tbody tr th:only-of-type {\n",
       "        vertical-align: middle;\n",
       "    }\n",
       "\n",
       "    .dataframe tbody tr th {\n",
       "        vertical-align: top;\n",
       "    }\n",
       "\n",
       "    .dataframe thead th {\n",
       "        text-align: right;\n",
       "    }\n",
       "</style>\n",
       "<table border=\"1\" class=\"dataframe\">\n",
       "  <thead>\n",
       "    <tr style=\"text-align: right;\">\n",
       "      <th></th>\n",
       "      <th>DATE</th>\n",
       "      <th>CUSTNAME</th>\n",
       "      <th>MATERIAL</th>\n",
       "      <th>BASEUOM</th>\n",
       "      <th>MSTAE</th>\n",
       "      <th>H1</th>\n",
       "      <th>H2</th>\n",
       "      <th>H3</th>\n",
       "      <th>QTY_SOLD</th>\n",
       "      <th>CLUSTER</th>\n",
       "      <th>YEAR</th>\n",
       "      <th>MONTH</th>\n",
       "      <th>WEEK</th>\n",
       "    </tr>\n",
       "  </thead>\n",
       "  <tbody>\n",
       "    <tr>\n",
       "      <th>0</th>\n",
       "      <td>2018-06-25</td>\n",
       "      <td>Store 4</td>\n",
       "      <td>10091</td>\n",
       "      <td>PAC</td>\n",
       "      <td>AC</td>\n",
       "      <td>Dairy</td>\n",
       "      <td>Cream Compound</td>\n",
       "      <td>Whipping</td>\n",
       "      <td>5.0</td>\n",
       "      <td>B</td>\n",
       "      <td>2018</td>\n",
       "      <td>6</td>\n",
       "      <td>26</td>\n",
       "    </tr>\n",
       "    <tr>\n",
       "      <th>1</th>\n",
       "      <td>2018-06-25</td>\n",
       "      <td>Store 4</td>\n",
       "      <td>10550</td>\n",
       "      <td>PAC</td>\n",
       "      <td>AC</td>\n",
       "      <td>Nuts, Seeds &amp; Beans</td>\n",
       "      <td>Nuts</td>\n",
       "      <td>Pumpkin Kernel</td>\n",
       "      <td>3.0</td>\n",
       "      <td>B</td>\n",
       "      <td>2018</td>\n",
       "      <td>6</td>\n",
       "      <td>26</td>\n",
       "    </tr>\n",
       "    <tr>\n",
       "      <th>2</th>\n",
       "      <td>2018-06-25</td>\n",
       "      <td>Store 4</td>\n",
       "      <td>11485</td>\n",
       "      <td>PAC</td>\n",
       "      <td>AC</td>\n",
       "      <td>Flour, Grain &amp; Flakes</td>\n",
       "      <td>Premix</td>\n",
       "      <td>Others</td>\n",
       "      <td>1.0</td>\n",
       "      <td>B</td>\n",
       "      <td>2018</td>\n",
       "      <td>6</td>\n",
       "      <td>26</td>\n",
       "    </tr>\n",
       "    <tr>\n",
       "      <th>3</th>\n",
       "      <td>2018-06-25</td>\n",
       "      <td>Store 4</td>\n",
       "      <td>1201</td>\n",
       "      <td>PAC</td>\n",
       "      <td>AC</td>\n",
       "      <td>Bakery</td>\n",
       "      <td>Functional</td>\n",
       "      <td>Starches</td>\n",
       "      <td>1.0</td>\n",
       "      <td>B</td>\n",
       "      <td>2018</td>\n",
       "      <td>6</td>\n",
       "      <td>26</td>\n",
       "    </tr>\n",
       "    <tr>\n",
       "      <th>4</th>\n",
       "      <td>2018-06-25</td>\n",
       "      <td>Store 4</td>\n",
       "      <td>12085</td>\n",
       "      <td>PAC</td>\n",
       "      <td>AC</td>\n",
       "      <td>Grocery</td>\n",
       "      <td>Seasoning</td>\n",
       "      <td>Herbs &amp; Spices</td>\n",
       "      <td>1.0</td>\n",
       "      <td>B</td>\n",
       "      <td>2018</td>\n",
       "      <td>6</td>\n",
       "      <td>26</td>\n",
       "    </tr>\n",
       "  </tbody>\n",
       "</table>\n",
       "</div>"
      ],
      "text/plain": [
       "        DATE CUSTNAME  MATERIAL BASEUOM MSTAE                     H1  \\\n",
       "0 2018-06-25  Store 4     10091     PAC    AC                  Dairy   \n",
       "1 2018-06-25  Store 4     10550     PAC    AC    Nuts, Seeds & Beans   \n",
       "2 2018-06-25  Store 4     11485     PAC    AC  Flour, Grain & Flakes   \n",
       "3 2018-06-25  Store 4      1201     PAC    AC                 Bakery   \n",
       "4 2018-06-25  Store 4     12085     PAC    AC                Grocery   \n",
       "\n",
       "               H2              H3  QTY_SOLD CLUSTER  YEAR  MONTH WEEK  \n",
       "0  Cream Compound        Whipping       5.0       B  2018      6   26  \n",
       "1            Nuts  Pumpkin Kernel       3.0       B  2018      6   26  \n",
       "2          Premix          Others       1.0       B  2018      6   26  \n",
       "3      Functional        Starches       1.0       B  2018      6   26  \n",
       "4       Seasoning  Herbs & Spices       1.0       B  2018      6   26  "
      ]
     },
     "execution_count": 14,
     "metadata": {},
     "output_type": "execute_result"
    }
   ],
   "source": [
    "retail_df['YEAR'] = retail_df['DATE'].dt.year\n",
    "retail_df['MONTH'] = retail_df['DATE'].dt.month\n",
    "retail_df['WEEK'] = retail_df['DATE'].dt.strftime('%W')\n",
    "print(retail_df.shape)\n",
    "retail_df.head()"
   ]
  },
  {
   "cell_type": "markdown",
   "metadata": {},
   "source": [
    "**Insert weeks with no sales (Put 0)<br>Did not put currently as it affects standard deviation**"
   ]
  },
  {
   "cell_type": "code",
   "execution_count": null,
   "metadata": {
    "ExecuteTime": {
     "end_time": "2021-04-25T11:08:54.010643Z",
     "start_time": "2021-04-25T11:08:53.721566Z"
    }
   },
   "outputs": [],
   "source": [
    "# retail_group = retail_df.groupby(['YEAR', 'WEEK', 'MATERIAL'])[\n",
    "#     'QTY_SOLD'].sum().reset_index()"
   ]
  },
  {
   "cell_type": "code",
   "execution_count": null,
   "metadata": {
    "ExecuteTime": {
     "end_time": "2021-04-25T11:08:54.148676Z",
     "start_time": "2021-04-25T11:08:54.135676Z"
    }
   },
   "outputs": [],
   "source": [
    "# retail_group.head()"
   ]
  },
  {
   "cell_type": "code",
   "execution_count": null,
   "metadata": {
    "ExecuteTime": {
     "end_time": "2021-04-25T06:56:24.917705Z",
     "start_time": "2021-04-25T06:56:24.904696Z"
    }
   },
   "outputs": [],
   "source": [
    "# retail_group = retail_df.pivot_table(index=['YEAR', 'WEEK'], columns=[\n",
    "#     'MATERIAL'], values='QTY_SOLD', fill_value=0).reset_index()"
   ]
  },
  {
   "cell_type": "code",
   "execution_count": null,
   "metadata": {
    "ExecuteTime": {
     "end_time": "2021-04-25T06:56:24.981755Z",
     "start_time": "2021-04-25T06:56:24.967738Z"
    }
   },
   "outputs": [],
   "source": [
    "# retail_group = retail_group.melt(\n",
    "#     id_vars=['YEAR', 'WEEK'], value_vars=retail_group.columns[2:], value_name='QTY_SOLD')"
   ]
  },
  {
   "cell_type": "code",
   "execution_count": null,
   "metadata": {
    "ExecuteTime": {
     "end_time": "2021-04-25T06:56:25.028766Z",
     "start_time": "2021-04-25T06:56:25.014750Z"
    }
   },
   "outputs": [],
   "source": [
    "# print(retail_group.shape)\n",
    "# retail_group.head()"
   ]
  },
  {
   "cell_type": "markdown",
   "metadata": {},
   "source": [
    "# Seasonal Products"
   ]
  },
  {
   "cell_type": "markdown",
   "metadata": {},
   "source": [
    "**Sales of items affected by**\n",
    "- Economy at times\n",
    "- Nature of Item (Seasonal or Non-seasonal)\n",
    "- Promotions or Discounts\n",
    "- Competition from a rival\n",
    "- Competition from a substitute product\n",
    "- Special events like Super Bowl, Thanksgiving, New Year, etc varying from places to places"
   ]
  },
  {
   "cell_type": "code",
   "execution_count": null,
   "metadata": {
    "ExecuteTime": {
     "end_time": "2021-04-25T06:56:25.121864Z",
     "start_time": "2021-04-25T06:56:25.076840Z"
    }
   },
   "outputs": [],
   "source": [
    "avg_df = retail_group.groupby(['MATERIAL', 'YEAR'])[\n",
    "    'QTY_SOLD'].mean().reset_index()\n",
    "avg_df = avg_df.rename(columns={'QTY_SOLD': 'AVG_QTY'})\n",
    "avg_df.head()"
   ]
  },
  {
   "cell_type": "code",
   "execution_count": null,
   "metadata": {
    "ExecuteTime": {
     "end_time": "2021-04-25T06:56:25.280184Z",
     "start_time": "2021-04-25T06:56:25.187953Z"
    }
   },
   "outputs": [],
   "source": [
    "retail_merged = retail_group.merge(avg_df, how='left', on=['YEAR', 'MATERIAL'])\n",
    "retail_merged.head()"
   ]
  },
  {
   "cell_type": "markdown",
   "metadata": {},
   "source": [
    "**Create seasonal index**"
   ]
  },
  {
   "cell_type": "code",
   "execution_count": null,
   "metadata": {
    "ExecuteTime": {
     "end_time": "2021-04-25T06:56:25.360316Z",
     "start_time": "2021-04-25T06:56:25.347316Z"
    }
   },
   "outputs": [],
   "source": [
    "retail_merged['SEASONAL_INDEX'] = retail_merged['QTY_SOLD'] / \\\n",
    "    retail_merged['AVG_QTY']"
   ]
  },
  {
   "cell_type": "code",
   "execution_count": null,
   "metadata": {
    "ExecuteTime": {
     "end_time": "2021-04-25T06:56:25.484734Z",
     "start_time": "2021-04-25T06:56:25.424708Z"
    }
   },
   "outputs": [],
   "source": [
    "std_df = retail_merged.groupby(['MATERIAL', 'YEAR'])[\n",
    "    'SEASONAL_INDEX'].std().reset_index()\n",
    "std_df = std_df.rename(columns={'SEASONAL_INDEX': 'STD'})"
   ]
  },
  {
   "cell_type": "code",
   "execution_count": null,
   "metadata": {
    "ExecuteTime": {
     "end_time": "2021-04-25T06:56:25.626800Z",
     "start_time": "2021-04-25T06:56:25.548785Z"
    }
   },
   "outputs": [],
   "source": [
    "retail_merged = retail_merged.merge(\n",
    "    std_df, how='left', on=['MATERIAL', 'YEAR'])"
   ]
  },
  {
   "cell_type": "markdown",
   "metadata": {},
   "source": [
    "**Remove materials that are not sold, it may be cause of lack of inventory**"
   ]
  },
  {
   "cell_type": "code",
   "execution_count": null,
   "metadata": {
    "ExecuteTime": {
     "end_time": "2021-04-25T06:56:25.783299Z",
     "start_time": "2021-04-25T06:56:25.691116Z"
    }
   },
   "outputs": [],
   "source": [
    "retail_merged = retail_merged.dropna(subset=['STD'])\n",
    "\n",
    "retail_merged = retail_merged.groupby(['YEAR', 'MATERIAL'])['STD'].mean(\n",
    ").to_frame().sort_values(by=['YEAR', 'STD'], ascending=False)"
   ]
  },
  {
   "cell_type": "code",
   "execution_count": null,
   "metadata": {
    "ExecuteTime": {
     "end_time": "2021-04-25T06:56:25.861320Z",
     "start_time": "2021-04-25T06:56:25.848318Z"
    }
   },
   "outputs": [],
   "source": [
    "high_std = retail_merged.loc[retail_merged['STD'] >= 2]\n",
    "low_std = retail_merged.loc[retail_merged['STD'] < 1]"
   ]
  },
  {
   "cell_type": "markdown",
   "metadata": {},
   "source": [
    "**Find common seasonality items for 2019 and 2020**"
   ]
  },
  {
   "cell_type": "code",
   "execution_count": null,
   "metadata": {
    "ExecuteTime": {
     "end_time": "2021-04-25T06:56:25.940193Z",
     "start_time": "2021-04-25T06:56:25.927176Z"
    }
   },
   "outputs": [],
   "source": [
    "s_products = high_std.loc[2019].merge(\n",
    "    high_std.loc[2020], left_index=True, right_index=True)\n",
    "non_s_products = low_std.loc[2019].merge(\n",
    "    low_std.loc[2020], left_index=True, right_index=True)"
   ]
  },
  {
   "cell_type": "code",
   "execution_count": null,
   "metadata": {
    "ExecuteTime": {
     "end_time": "2021-04-25T06:56:26.047270Z",
     "start_time": "2021-04-25T06:56:26.033261Z"
    }
   },
   "outputs": [],
   "source": [
    "s_products"
   ]
  },
  {
   "cell_type": "code",
   "execution_count": null,
   "metadata": {
    "ExecuteTime": {
     "end_time": "2021-04-25T06:56:26.142367Z",
     "start_time": "2021-04-25T06:56:26.128351Z"
    }
   },
   "outputs": [],
   "source": [
    "def plot(mat, year):\n",
    "    df = retail_df.loc[(retail_df['MATERIAL'] == mat)\n",
    "                       & (retail_df['YEAR'] == year)]\n",
    "    df.groupby(['DATE'])['QTY_SOLD'].sum().plot()"
   ]
  },
  {
   "cell_type": "code",
   "execution_count": null,
   "metadata": {
    "ExecuteTime": {
     "end_time": "2021-04-25T06:56:29.858398Z",
     "start_time": "2021-04-25T06:56:29.156611Z"
    }
   },
   "outputs": [],
   "source": [
    "plot(225, 2018)"
   ]
  },
  {
   "cell_type": "code",
   "execution_count": null,
   "metadata": {
    "ExecuteTime": {
     "end_time": "2021-04-25T06:56:29.952419Z",
     "start_time": "2021-04-25T06:56:29.938417Z"
    }
   },
   "outputs": [],
   "source": [
    "test = retail_df.loc[retail_df['MATERIAL'] == 52289]"
   ]
  },
  {
   "cell_type": "code",
   "execution_count": null,
   "metadata": {
    "ExecuteTime": {
     "end_time": "2021-04-25T06:56:30.237490Z",
     "start_time": "2021-04-25T06:56:30.048442Z"
    }
   },
   "outputs": [],
   "source": [
    "test.groupby(['DATE'])['QTY_SOLD'].sum().plot()"
   ]
  },
  {
   "cell_type": "markdown",
   "metadata": {},
   "source": [
    "# Regression"
   ]
  },
  {
   "cell_type": "code",
   "execution_count": 15,
   "metadata": {
    "ExecuteTime": {
     "end_time": "2021-04-26T07:25:24.471274Z",
     "start_time": "2021-04-26T07:25:24.125146Z"
    }
   },
   "outputs": [],
   "source": [
    "retail_df['DATE'] = pd.to_datetime(retail_df['DATE']).dt.date"
   ]
  },
  {
   "cell_type": "code",
   "execution_count": 16,
   "metadata": {
    "ExecuteTime": {
     "end_time": "2021-04-26T07:26:01.834150Z",
     "start_time": "2021-04-26T07:25:25.431458Z"
    }
   },
   "outputs": [],
   "source": [
    "retail_df['DATE_LY'] = retail_df['DATE'] - relativedelta(years=1)\n",
    "retail_df['DATE_LM'] = retail_df['DATE'] - relativedelta(months=1)\n",
    "retail_df['DATE_LW'] = retail_df['DATE'] - relativedelta(weeks=1)"
   ]
  },
  {
   "cell_type": "markdown",
   "metadata": {},
   "source": [
    "**Change to datetime**"
   ]
  },
  {
   "cell_type": "code",
   "execution_count": 17,
   "metadata": {
    "ExecuteTime": {
     "end_time": "2021-04-26T07:30:00.231664Z",
     "start_time": "2021-04-26T07:26:01.867463Z"
    }
   },
   "outputs": [],
   "source": [
    "retail_df['DATE_LY'] = retail_df['DATE_LY'].apply(pd.to_datetime)\n",
    "retail_df['DATE_LM'] = retail_df['DATE_LM'].apply(pd.to_datetime)\n",
    "retail_df['DATE_LW'] = retail_df['DATE_LW'].apply(pd.to_datetime)"
   ]
  },
  {
   "cell_type": "code",
   "execution_count": 18,
   "metadata": {
    "ExecuteTime": {
     "end_time": "2021-04-26T07:30:21.671915Z",
     "start_time": "2021-04-26T07:30:00.297693Z"
    }
   },
   "outputs": [],
   "source": [
    "retail_df['YEAR_LY'] = retail_df['DATE_LY'].dt.year\n",
    "retail_df['MONTH_LY'] = retail_df['DATE_LY'].dt.month\n",
    "retail_df['WEEK_LY'] = retail_df['DATE_LY'].dt.strftime('%W')\n",
    "\n",
    "retail_df['YEAR_LM'] = retail_df['DATE_LM'].dt.year\n",
    "retail_df['MONTH_LM'] = retail_df['DATE_LM'].dt.month\n",
    "retail_df['WEEK_LM'] = retail_df['DATE_LM'].dt.strftime('%W')\n",
    "\n",
    "retail_df['YEAR_LW'] = retail_df['DATE_LW'].dt.year\n",
    "retail_df['MONTH_LW'] = retail_df['DATE_LW'].dt.month\n",
    "retail_df['WEEK_LW'] = retail_df['DATE_LW'].dt.strftime('%W')"
   ]
  },
  {
   "cell_type": "code",
   "execution_count": 19,
   "metadata": {
    "ExecuteTime": {
     "end_time": "2021-04-26T07:30:21.765564Z",
     "start_time": "2021-04-26T07:30:21.737328Z"
    }
   },
   "outputs": [
    {
     "data": {
      "text/html": [
       "<div>\n",
       "<style scoped>\n",
       "    .dataframe tbody tr th:only-of-type {\n",
       "        vertical-align: middle;\n",
       "    }\n",
       "\n",
       "    .dataframe tbody tr th {\n",
       "        vertical-align: top;\n",
       "    }\n",
       "\n",
       "    .dataframe thead th {\n",
       "        text-align: right;\n",
       "    }\n",
       "</style>\n",
       "<table border=\"1\" class=\"dataframe\">\n",
       "  <thead>\n",
       "    <tr style=\"text-align: right;\">\n",
       "      <th></th>\n",
       "      <th>DATE</th>\n",
       "      <th>CUSTNAME</th>\n",
       "      <th>MATERIAL</th>\n",
       "      <th>BASEUOM</th>\n",
       "      <th>MSTAE</th>\n",
       "      <th>H1</th>\n",
       "      <th>H2</th>\n",
       "      <th>H3</th>\n",
       "      <th>QTY_SOLD</th>\n",
       "      <th>CLUSTER</th>\n",
       "      <th>YEAR</th>\n",
       "      <th>MONTH</th>\n",
       "      <th>WEEK</th>\n",
       "      <th>DATE_LY</th>\n",
       "      <th>DATE_LM</th>\n",
       "      <th>DATE_LW</th>\n",
       "      <th>YEAR_LY</th>\n",
       "      <th>MONTH_LY</th>\n",
       "      <th>WEEK_LY</th>\n",
       "      <th>YEAR_LM</th>\n",
       "      <th>MONTH_LM</th>\n",
       "      <th>WEEK_LM</th>\n",
       "      <th>YEAR_LW</th>\n",
       "      <th>MONTH_LW</th>\n",
       "      <th>WEEK_LW</th>\n",
       "    </tr>\n",
       "  </thead>\n",
       "  <tbody>\n",
       "    <tr>\n",
       "      <th>0</th>\n",
       "      <td>2018-06-25</td>\n",
       "      <td>Store 4</td>\n",
       "      <td>10091</td>\n",
       "      <td>PAC</td>\n",
       "      <td>AC</td>\n",
       "      <td>Dairy</td>\n",
       "      <td>Cream Compound</td>\n",
       "      <td>Whipping</td>\n",
       "      <td>5.0</td>\n",
       "      <td>B</td>\n",
       "      <td>2018</td>\n",
       "      <td>6</td>\n",
       "      <td>26</td>\n",
       "      <td>2017-06-25</td>\n",
       "      <td>2018-05-25</td>\n",
       "      <td>2018-06-18</td>\n",
       "      <td>2017</td>\n",
       "      <td>6</td>\n",
       "      <td>25</td>\n",
       "      <td>2018</td>\n",
       "      <td>5</td>\n",
       "      <td>21</td>\n",
       "      <td>2018</td>\n",
       "      <td>6</td>\n",
       "      <td>25</td>\n",
       "    </tr>\n",
       "    <tr>\n",
       "      <th>1</th>\n",
       "      <td>2018-06-25</td>\n",
       "      <td>Store 4</td>\n",
       "      <td>10550</td>\n",
       "      <td>PAC</td>\n",
       "      <td>AC</td>\n",
       "      <td>Nuts, Seeds &amp; Beans</td>\n",
       "      <td>Nuts</td>\n",
       "      <td>Pumpkin Kernel</td>\n",
       "      <td>3.0</td>\n",
       "      <td>B</td>\n",
       "      <td>2018</td>\n",
       "      <td>6</td>\n",
       "      <td>26</td>\n",
       "      <td>2017-06-25</td>\n",
       "      <td>2018-05-25</td>\n",
       "      <td>2018-06-18</td>\n",
       "      <td>2017</td>\n",
       "      <td>6</td>\n",
       "      <td>25</td>\n",
       "      <td>2018</td>\n",
       "      <td>5</td>\n",
       "      <td>21</td>\n",
       "      <td>2018</td>\n",
       "      <td>6</td>\n",
       "      <td>25</td>\n",
       "    </tr>\n",
       "    <tr>\n",
       "      <th>2</th>\n",
       "      <td>2018-06-25</td>\n",
       "      <td>Store 4</td>\n",
       "      <td>11485</td>\n",
       "      <td>PAC</td>\n",
       "      <td>AC</td>\n",
       "      <td>Flour, Grain &amp; Flakes</td>\n",
       "      <td>Premix</td>\n",
       "      <td>Others</td>\n",
       "      <td>1.0</td>\n",
       "      <td>B</td>\n",
       "      <td>2018</td>\n",
       "      <td>6</td>\n",
       "      <td>26</td>\n",
       "      <td>2017-06-25</td>\n",
       "      <td>2018-05-25</td>\n",
       "      <td>2018-06-18</td>\n",
       "      <td>2017</td>\n",
       "      <td>6</td>\n",
       "      <td>25</td>\n",
       "      <td>2018</td>\n",
       "      <td>5</td>\n",
       "      <td>21</td>\n",
       "      <td>2018</td>\n",
       "      <td>6</td>\n",
       "      <td>25</td>\n",
       "    </tr>\n",
       "    <tr>\n",
       "      <th>3</th>\n",
       "      <td>2018-06-25</td>\n",
       "      <td>Store 4</td>\n",
       "      <td>1201</td>\n",
       "      <td>PAC</td>\n",
       "      <td>AC</td>\n",
       "      <td>Bakery</td>\n",
       "      <td>Functional</td>\n",
       "      <td>Starches</td>\n",
       "      <td>1.0</td>\n",
       "      <td>B</td>\n",
       "      <td>2018</td>\n",
       "      <td>6</td>\n",
       "      <td>26</td>\n",
       "      <td>2017-06-25</td>\n",
       "      <td>2018-05-25</td>\n",
       "      <td>2018-06-18</td>\n",
       "      <td>2017</td>\n",
       "      <td>6</td>\n",
       "      <td>25</td>\n",
       "      <td>2018</td>\n",
       "      <td>5</td>\n",
       "      <td>21</td>\n",
       "      <td>2018</td>\n",
       "      <td>6</td>\n",
       "      <td>25</td>\n",
       "    </tr>\n",
       "    <tr>\n",
       "      <th>4</th>\n",
       "      <td>2018-06-25</td>\n",
       "      <td>Store 4</td>\n",
       "      <td>12085</td>\n",
       "      <td>PAC</td>\n",
       "      <td>AC</td>\n",
       "      <td>Grocery</td>\n",
       "      <td>Seasoning</td>\n",
       "      <td>Herbs &amp; Spices</td>\n",
       "      <td>1.0</td>\n",
       "      <td>B</td>\n",
       "      <td>2018</td>\n",
       "      <td>6</td>\n",
       "      <td>26</td>\n",
       "      <td>2017-06-25</td>\n",
       "      <td>2018-05-25</td>\n",
       "      <td>2018-06-18</td>\n",
       "      <td>2017</td>\n",
       "      <td>6</td>\n",
       "      <td>25</td>\n",
       "      <td>2018</td>\n",
       "      <td>5</td>\n",
       "      <td>21</td>\n",
       "      <td>2018</td>\n",
       "      <td>6</td>\n",
       "      <td>25</td>\n",
       "    </tr>\n",
       "  </tbody>\n",
       "</table>\n",
       "</div>"
      ],
      "text/plain": [
       "         DATE CUSTNAME  MATERIAL BASEUOM MSTAE                     H1  \\\n",
       "0  2018-06-25  Store 4     10091     PAC    AC                  Dairy   \n",
       "1  2018-06-25  Store 4     10550     PAC    AC    Nuts, Seeds & Beans   \n",
       "2  2018-06-25  Store 4     11485     PAC    AC  Flour, Grain & Flakes   \n",
       "3  2018-06-25  Store 4      1201     PAC    AC                 Bakery   \n",
       "4  2018-06-25  Store 4     12085     PAC    AC                Grocery   \n",
       "\n",
       "               H2              H3  QTY_SOLD CLUSTER  YEAR  MONTH WEEK  \\\n",
       "0  Cream Compound        Whipping       5.0       B  2018      6   26   \n",
       "1            Nuts  Pumpkin Kernel       3.0       B  2018      6   26   \n",
       "2          Premix          Others       1.0       B  2018      6   26   \n",
       "3      Functional        Starches       1.0       B  2018      6   26   \n",
       "4       Seasoning  Herbs & Spices       1.0       B  2018      6   26   \n",
       "\n",
       "     DATE_LY    DATE_LM    DATE_LW  YEAR_LY  MONTH_LY WEEK_LY  YEAR_LM  \\\n",
       "0 2017-06-25 2018-05-25 2018-06-18     2017         6      25     2018   \n",
       "1 2017-06-25 2018-05-25 2018-06-18     2017         6      25     2018   \n",
       "2 2017-06-25 2018-05-25 2018-06-18     2017         6      25     2018   \n",
       "3 2017-06-25 2018-05-25 2018-06-18     2017         6      25     2018   \n",
       "4 2017-06-25 2018-05-25 2018-06-18     2017         6      25     2018   \n",
       "\n",
       "   MONTH_LM WEEK_LM  YEAR_LW  MONTH_LW WEEK_LW  \n",
       "0         5      21     2018         6      25  \n",
       "1         5      21     2018         6      25  \n",
       "2         5      21     2018         6      25  \n",
       "3         5      21     2018         6      25  \n",
       "4         5      21     2018         6      25  "
      ]
     },
     "execution_count": 19,
     "metadata": {},
     "output_type": "execute_result"
    }
   ],
   "source": [
    "retail_df.head()"
   ]
  },
  {
   "cell_type": "code",
   "execution_count": 20,
   "metadata": {
    "ExecuteTime": {
     "end_time": "2021-04-26T07:30:22.189818Z",
     "start_time": "2021-04-26T07:30:21.830895Z"
    }
   },
   "outputs": [],
   "source": [
    "# Get slice of dataframe first\n",
    "retail_ly = retail_df[['YEAR', 'MONTH',\n",
    "                       'WEEK', 'CUSTNAME', 'MATERIAL', 'QTY_SOLD']]\n",
    "retail_lm = retail_df[['YEAR', 'MONTH',\n",
    "                       'WEEK', 'CUSTNAME', 'MATERIAL', 'QTY_SOLD']]\n",
    "retail_lw = retail_df[['YEAR', 'MONTH',\n",
    "                       'WEEK', 'CUSTNAME', 'MATERIAL', 'QTY_SOLD']]"
   ]
  },
  {
   "cell_type": "code",
   "execution_count": 21,
   "metadata": {
    "ExecuteTime": {
     "end_time": "2021-04-26T07:30:22.378846Z",
     "start_time": "2021-04-26T07:30:22.270279Z"
    }
   },
   "outputs": [],
   "source": [
    "retail_created = retail_df[['DATE', 'CUSTNAME', 'MATERIAL',\n",
    "                            'QTY_SOLD', 'YEAR_LY', 'MONTH_LY', 'WEEK_LY',\n",
    "                            'YEAR_LM', 'MONTH_LM', 'WEEK_LM', 'YEAR_LW',\n",
    "                            'MONTH_LW', 'WEEK_LW']]"
   ]
  },
  {
   "cell_type": "markdown",
   "metadata": {},
   "source": [
    "**Get Retail Last Year**"
   ]
  },
  {
   "cell_type": "code",
   "execution_count": 22,
   "metadata": {
    "ExecuteTime": {
     "end_time": "2021-04-26T07:30:24.591918Z",
     "start_time": "2021-04-26T07:30:22.474872Z"
    }
   },
   "outputs": [],
   "source": [
    "retail_ly = retail_created.merge(retail_ly, how='left', left_on=['YEAR_LY', 'MONTH_LY', 'WEEK_LY',\n",
    "                                                                 'CUSTNAME', 'MATERIAL'],\n",
    "                                 right_on=['YEAR', 'MONTH', 'WEEK', 'CUSTNAME', 'MATERIAL'])\n",
    "# retail_ly = retail_ly.fillna(0)\n",
    "retail_ly = retail_ly.rename(\n",
    "    columns={'QTY_SOLD_x': 'QTY_SOLD', 'QTY_SOLD_y': 'QTY_SOLD_LY'})\n",
    "retail_ly = retail_ly.drop(columns=['YEAR', 'MONTH', 'WEEK'])"
   ]
  },
  {
   "cell_type": "code",
   "execution_count": 23,
   "metadata": {
    "ExecuteTime": {
     "end_time": "2021-04-26T07:30:26.782611Z",
     "start_time": "2021-04-26T07:30:24.689297Z"
    }
   },
   "outputs": [],
   "source": [
    "retail_ly_lm = retail_ly.merge(retail_lm, how='left', left_on=['YEAR_LM', 'MONTH_LM', 'WEEK_LM',\n",
    "                                                               'CUSTNAME', 'MATERIAL'],\n",
    "                               right_on=['YEAR', 'MONTH', 'WEEK', 'CUSTNAME', 'MATERIAL'])\n",
    "# retail_ly = retail_ly.fillna(0)\n",
    "retail_ly_lm = retail_ly_lm.rename(\n",
    "    columns={'QTY_SOLD_x': 'QTY_SOLD', 'QTY_SOLD_y': 'QTY_SOLD_LM'})\n",
    "retail_ly_lm = retail_ly_lm.drop(columns=['YEAR', 'MONTH', 'WEEK'])"
   ]
  },
  {
   "cell_type": "code",
   "execution_count": 37,
   "metadata": {
    "ExecuteTime": {
     "end_time": "2021-04-26T07:37:53.236681Z",
     "start_time": "2021-04-26T07:37:51.225828Z"
    }
   },
   "outputs": [
    {
     "name": "stdout",
     "output_type": "stream",
     "text": [
      "(1391820, 16)\n"
     ]
    },
    {
     "data": {
      "text/html": [
       "<div>\n",
       "<style scoped>\n",
       "    .dataframe tbody tr th:only-of-type {\n",
       "        vertical-align: middle;\n",
       "    }\n",
       "\n",
       "    .dataframe tbody tr th {\n",
       "        vertical-align: top;\n",
       "    }\n",
       "\n",
       "    .dataframe thead th {\n",
       "        text-align: right;\n",
       "    }\n",
       "</style>\n",
       "<table border=\"1\" class=\"dataframe\">\n",
       "  <thead>\n",
       "    <tr style=\"text-align: right;\">\n",
       "      <th></th>\n",
       "      <th>DATE</th>\n",
       "      <th>CUSTNAME</th>\n",
       "      <th>MATERIAL</th>\n",
       "      <th>QTY_SOLD</th>\n",
       "      <th>YEAR_LY</th>\n",
       "      <th>MONTH_LY</th>\n",
       "      <th>WEEK_LY</th>\n",
       "      <th>YEAR_LM</th>\n",
       "      <th>MONTH_LM</th>\n",
       "      <th>WEEK_LM</th>\n",
       "      <th>YEAR_LW</th>\n",
       "      <th>MONTH_LW</th>\n",
       "      <th>WEEK_LW</th>\n",
       "      <th>QTY_SOLD_LY</th>\n",
       "      <th>QTY_SOLD_LM</th>\n",
       "      <th>QTY_SOLD_LW</th>\n",
       "    </tr>\n",
       "  </thead>\n",
       "  <tbody>\n",
       "    <tr>\n",
       "      <th>0</th>\n",
       "      <td>2018-06-25</td>\n",
       "      <td>Store 4</td>\n",
       "      <td>10091</td>\n",
       "      <td>5.0</td>\n",
       "      <td>2017</td>\n",
       "      <td>6</td>\n",
       "      <td>25</td>\n",
       "      <td>2018</td>\n",
       "      <td>5</td>\n",
       "      <td>21</td>\n",
       "      <td>2018</td>\n",
       "      <td>6</td>\n",
       "      <td>25</td>\n",
       "      <td>NaN</td>\n",
       "      <td>NaN</td>\n",
       "      <td>NaN</td>\n",
       "    </tr>\n",
       "    <tr>\n",
       "      <th>1</th>\n",
       "      <td>2018-06-25</td>\n",
       "      <td>Store 4</td>\n",
       "      <td>10550</td>\n",
       "      <td>3.0</td>\n",
       "      <td>2017</td>\n",
       "      <td>6</td>\n",
       "      <td>25</td>\n",
       "      <td>2018</td>\n",
       "      <td>5</td>\n",
       "      <td>21</td>\n",
       "      <td>2018</td>\n",
       "      <td>6</td>\n",
       "      <td>25</td>\n",
       "      <td>NaN</td>\n",
       "      <td>NaN</td>\n",
       "      <td>NaN</td>\n",
       "    </tr>\n",
       "    <tr>\n",
       "      <th>2</th>\n",
       "      <td>2018-06-25</td>\n",
       "      <td>Store 4</td>\n",
       "      <td>11485</td>\n",
       "      <td>1.0</td>\n",
       "      <td>2017</td>\n",
       "      <td>6</td>\n",
       "      <td>25</td>\n",
       "      <td>2018</td>\n",
       "      <td>5</td>\n",
       "      <td>21</td>\n",
       "      <td>2018</td>\n",
       "      <td>6</td>\n",
       "      <td>25</td>\n",
       "      <td>NaN</td>\n",
       "      <td>NaN</td>\n",
       "      <td>NaN</td>\n",
       "    </tr>\n",
       "    <tr>\n",
       "      <th>3</th>\n",
       "      <td>2018-06-25</td>\n",
       "      <td>Store 4</td>\n",
       "      <td>1201</td>\n",
       "      <td>1.0</td>\n",
       "      <td>2017</td>\n",
       "      <td>6</td>\n",
       "      <td>25</td>\n",
       "      <td>2018</td>\n",
       "      <td>5</td>\n",
       "      <td>21</td>\n",
       "      <td>2018</td>\n",
       "      <td>6</td>\n",
       "      <td>25</td>\n",
       "      <td>NaN</td>\n",
       "      <td>NaN</td>\n",
       "      <td>NaN</td>\n",
       "    </tr>\n",
       "    <tr>\n",
       "      <th>4</th>\n",
       "      <td>2018-06-25</td>\n",
       "      <td>Store 4</td>\n",
       "      <td>12085</td>\n",
       "      <td>1.0</td>\n",
       "      <td>2017</td>\n",
       "      <td>6</td>\n",
       "      <td>25</td>\n",
       "      <td>2018</td>\n",
       "      <td>5</td>\n",
       "      <td>21</td>\n",
       "      <td>2018</td>\n",
       "      <td>6</td>\n",
       "      <td>25</td>\n",
       "      <td>NaN</td>\n",
       "      <td>NaN</td>\n",
       "      <td>NaN</td>\n",
       "    </tr>\n",
       "  </tbody>\n",
       "</table>\n",
       "</div>"
      ],
      "text/plain": [
       "         DATE CUSTNAME  MATERIAL  QTY_SOLD  YEAR_LY  MONTH_LY WEEK_LY  \\\n",
       "0  2018-06-25  Store 4     10091       5.0     2017         6      25   \n",
       "1  2018-06-25  Store 4     10550       3.0     2017         6      25   \n",
       "2  2018-06-25  Store 4     11485       1.0     2017         6      25   \n",
       "3  2018-06-25  Store 4      1201       1.0     2017         6      25   \n",
       "4  2018-06-25  Store 4     12085       1.0     2017         6      25   \n",
       "\n",
       "   YEAR_LM  MONTH_LM WEEK_LM  YEAR_LW  MONTH_LW WEEK_LW  QTY_SOLD_LY  \\\n",
       "0     2018         5      21     2018         6      25          NaN   \n",
       "1     2018         5      21     2018         6      25          NaN   \n",
       "2     2018         5      21     2018         6      25          NaN   \n",
       "3     2018         5      21     2018         6      25          NaN   \n",
       "4     2018         5      21     2018         6      25          NaN   \n",
       "\n",
       "   QTY_SOLD_LM  QTY_SOLD_LW  \n",
       "0          NaN          NaN  \n",
       "1          NaN          NaN  \n",
       "2          NaN          NaN  \n",
       "3          NaN          NaN  \n",
       "4          NaN          NaN  "
      ]
     },
     "execution_count": 37,
     "metadata": {},
     "output_type": "execute_result"
    }
   ],
   "source": [
    "retail_ly_lm_lw = retail_ly_lm.merge(retail_lw, how='left', left_on=['YEAR_LW', 'MONTH_LW', 'WEEK_LW',\n",
    "                                                                     'CUSTNAME', 'MATERIAL'],\n",
    "                                     right_on=['YEAR', 'MONTH', 'WEEK', 'CUSTNAME', 'MATERIAL'])\n",
    "# retail_ly = retail_ly.fillna(0)\n",
    "retail_ly_lm_lw = retail_ly_lm_lw.rename(\n",
    "    columns={'QTY_SOLD_x': 'QTY_SOLD', 'QTY_SOLD_y': 'QTY_SOLD_LW'})\n",
    "retail_ly_lm_lw = retail_ly_lm_lw.drop(columns=['YEAR', 'MONTH', 'WEEK'])\n",
    "print(retail_ly_lm_lw.shape)\n",
    "retail_ly_lm_lw.head()"
   ]
  },
  {
   "cell_type": "code",
   "execution_count": 38,
   "metadata": {
    "ExecuteTime": {
     "end_time": "2021-04-26T07:39:17.007134Z",
     "start_time": "2021-04-26T07:37:57.755609Z"
    }
   },
   "outputs": [],
   "source": [
    "season_df['DATE'] = season_df['DATE'].apply(pd.to_datetime)\n",
    "retail_ly_lm_lw['DATE'] = retail_ly_lm_lw['DATE'].apply(pd.to_datetime)"
   ]
  },
  {
   "cell_type": "code",
   "execution_count": 39,
   "metadata": {
    "ExecuteTime": {
     "end_time": "2021-04-26T07:39:19.841654Z",
     "start_time": "2021-04-26T07:39:19.072219Z"
    }
   },
   "outputs": [],
   "source": [
    "retail_ly_lm_lw = retail_ly_lm_lw.merge(season_df, on='DATE', how='left')"
   ]
  },
  {
   "cell_type": "code",
   "execution_count": 43,
   "metadata": {
    "ExecuteTime": {
     "end_time": "2021-04-26T07:41:52.940234Z",
     "start_time": "2021-04-26T07:41:52.604687Z"
    }
   },
   "outputs": [
    {
     "name": "stdout",
     "output_type": "stream",
     "text": [
      "(1391820, 18)\n"
     ]
    },
    {
     "data": {
      "text/html": [
       "<div>\n",
       "<style scoped>\n",
       "    .dataframe tbody tr th:only-of-type {\n",
       "        vertical-align: middle;\n",
       "    }\n",
       "\n",
       "    .dataframe tbody tr th {\n",
       "        vertical-align: top;\n",
       "    }\n",
       "\n",
       "    .dataframe thead th {\n",
       "        text-align: right;\n",
       "    }\n",
       "</style>\n",
       "<table border=\"1\" class=\"dataframe\">\n",
       "  <thead>\n",
       "    <tr style=\"text-align: right;\">\n",
       "      <th></th>\n",
       "      <th>DATE</th>\n",
       "      <th>CUSTNAME</th>\n",
       "      <th>MATERIAL</th>\n",
       "      <th>QTY_SOLD</th>\n",
       "      <th>YEAR_LY</th>\n",
       "      <th>MONTH_LY</th>\n",
       "      <th>WEEK_LY</th>\n",
       "      <th>YEAR_LM</th>\n",
       "      <th>MONTH_LM</th>\n",
       "      <th>WEEK_LM</th>\n",
       "      <th>YEAR_LW</th>\n",
       "      <th>MONTH_LW</th>\n",
       "      <th>WEEK_LW</th>\n",
       "      <th>QTY_SOLD_LY</th>\n",
       "      <th>QTY_SOLD_LM</th>\n",
       "      <th>QTY_SOLD_LW</th>\n",
       "      <th>Holiday</th>\n",
       "      <th>Phoon Huat Season</th>\n",
       "    </tr>\n",
       "  </thead>\n",
       "  <tbody>\n",
       "    <tr>\n",
       "      <th>0</th>\n",
       "      <td>2018-06-25</td>\n",
       "      <td>Store 4</td>\n",
       "      <td>10091</td>\n",
       "      <td>5.0</td>\n",
       "      <td>2017</td>\n",
       "      <td>6</td>\n",
       "      <td>25</td>\n",
       "      <td>2018</td>\n",
       "      <td>5</td>\n",
       "      <td>21</td>\n",
       "      <td>2018</td>\n",
       "      <td>6</td>\n",
       "      <td>25</td>\n",
       "      <td>NaN</td>\n",
       "      <td>NaN</td>\n",
       "      <td>NaN</td>\n",
       "      <td>NaN</td>\n",
       "      <td>0</td>\n",
       "    </tr>\n",
       "    <tr>\n",
       "      <th>1</th>\n",
       "      <td>2018-06-25</td>\n",
       "      <td>Store 4</td>\n",
       "      <td>10550</td>\n",
       "      <td>3.0</td>\n",
       "      <td>2017</td>\n",
       "      <td>6</td>\n",
       "      <td>25</td>\n",
       "      <td>2018</td>\n",
       "      <td>5</td>\n",
       "      <td>21</td>\n",
       "      <td>2018</td>\n",
       "      <td>6</td>\n",
       "      <td>25</td>\n",
       "      <td>NaN</td>\n",
       "      <td>NaN</td>\n",
       "      <td>NaN</td>\n",
       "      <td>NaN</td>\n",
       "      <td>0</td>\n",
       "    </tr>\n",
       "    <tr>\n",
       "      <th>2</th>\n",
       "      <td>2018-06-25</td>\n",
       "      <td>Store 4</td>\n",
       "      <td>11485</td>\n",
       "      <td>1.0</td>\n",
       "      <td>2017</td>\n",
       "      <td>6</td>\n",
       "      <td>25</td>\n",
       "      <td>2018</td>\n",
       "      <td>5</td>\n",
       "      <td>21</td>\n",
       "      <td>2018</td>\n",
       "      <td>6</td>\n",
       "      <td>25</td>\n",
       "      <td>NaN</td>\n",
       "      <td>NaN</td>\n",
       "      <td>NaN</td>\n",
       "      <td>NaN</td>\n",
       "      <td>0</td>\n",
       "    </tr>\n",
       "    <tr>\n",
       "      <th>3</th>\n",
       "      <td>2018-06-25</td>\n",
       "      <td>Store 4</td>\n",
       "      <td>1201</td>\n",
       "      <td>1.0</td>\n",
       "      <td>2017</td>\n",
       "      <td>6</td>\n",
       "      <td>25</td>\n",
       "      <td>2018</td>\n",
       "      <td>5</td>\n",
       "      <td>21</td>\n",
       "      <td>2018</td>\n",
       "      <td>6</td>\n",
       "      <td>25</td>\n",
       "      <td>NaN</td>\n",
       "      <td>NaN</td>\n",
       "      <td>NaN</td>\n",
       "      <td>NaN</td>\n",
       "      <td>0</td>\n",
       "    </tr>\n",
       "    <tr>\n",
       "      <th>4</th>\n",
       "      <td>2018-06-25</td>\n",
       "      <td>Store 4</td>\n",
       "      <td>12085</td>\n",
       "      <td>1.0</td>\n",
       "      <td>2017</td>\n",
       "      <td>6</td>\n",
       "      <td>25</td>\n",
       "      <td>2018</td>\n",
       "      <td>5</td>\n",
       "      <td>21</td>\n",
       "      <td>2018</td>\n",
       "      <td>6</td>\n",
       "      <td>25</td>\n",
       "      <td>NaN</td>\n",
       "      <td>NaN</td>\n",
       "      <td>NaN</td>\n",
       "      <td>NaN</td>\n",
       "      <td>0</td>\n",
       "    </tr>\n",
       "  </tbody>\n",
       "</table>\n",
       "</div>"
      ],
      "text/plain": [
       "        DATE CUSTNAME  MATERIAL  QTY_SOLD  YEAR_LY  MONTH_LY WEEK_LY  YEAR_LM  \\\n",
       "0 2018-06-25  Store 4     10091       5.0     2017         6      25     2018   \n",
       "1 2018-06-25  Store 4     10550       3.0     2017         6      25     2018   \n",
       "2 2018-06-25  Store 4     11485       1.0     2017         6      25     2018   \n",
       "3 2018-06-25  Store 4      1201       1.0     2017         6      25     2018   \n",
       "4 2018-06-25  Store 4     12085       1.0     2017         6      25     2018   \n",
       "\n",
       "   MONTH_LM WEEK_LM  YEAR_LW  MONTH_LW WEEK_LW  QTY_SOLD_LY  QTY_SOLD_LM  \\\n",
       "0         5      21     2018         6      25          NaN          NaN   \n",
       "1         5      21     2018         6      25          NaN          NaN   \n",
       "2         5      21     2018         6      25          NaN          NaN   \n",
       "3         5      21     2018         6      25          NaN          NaN   \n",
       "4         5      21     2018         6      25          NaN          NaN   \n",
       "\n",
       "   QTY_SOLD_LW Holiday  Phoon Huat Season  \n",
       "0          NaN     NaN                  0  \n",
       "1          NaN     NaN                  0  \n",
       "2          NaN     NaN                  0  \n",
       "3          NaN     NaN                  0  \n",
       "4          NaN     NaN                  0  "
      ]
     },
     "execution_count": 43,
     "metadata": {},
     "output_type": "execute_result"
    }
   ],
   "source": [
    "retail_ly_lm_lw['Phoon Huat Season'] = retail_ly_lm_lw['Phoon Huat Season'].fillna(0)\n",
    "print(retail_ly_lm_lw.shape)\n",
    "retail_ly_lm_lw.head()"
   ]
  },
  {
   "cell_type": "code",
   "execution_count": 47,
   "metadata": {
    "ExecuteTime": {
     "end_time": "2021-04-26T07:44:44.884861Z",
     "start_time": "2021-04-26T07:44:28.558544Z"
    },
    "scrolled": true
   },
   "outputs": [],
   "source": [
    "retail_ly_lm_lw.to_csv('Retail_Features.csv',index=False)"
   ]
  },
  {
   "cell_type": "code",
   "execution_count": 48,
   "metadata": {
    "ExecuteTime": {
     "end_time": "2021-04-26T07:44:58.582490Z",
     "start_time": "2021-04-26T07:44:58.397301Z"
    }
   },
   "outputs": [
    {
     "data": {
      "text/html": [
       "<div>\n",
       "<style scoped>\n",
       "    .dataframe tbody tr th:only-of-type {\n",
       "        vertical-align: middle;\n",
       "    }\n",
       "\n",
       "    .dataframe tbody tr th {\n",
       "        vertical-align: top;\n",
       "    }\n",
       "\n",
       "    .dataframe thead th {\n",
       "        text-align: right;\n",
       "    }\n",
       "</style>\n",
       "<table border=\"1\" class=\"dataframe\">\n",
       "  <thead>\n",
       "    <tr style=\"text-align: right;\">\n",
       "      <th></th>\n",
       "      <th>DATE</th>\n",
       "      <th>CUSTNAME</th>\n",
       "      <th>MATERIAL</th>\n",
       "      <th>QTY_SOLD</th>\n",
       "      <th>YEAR_LY</th>\n",
       "      <th>MONTH_LY</th>\n",
       "      <th>WEEK_LY</th>\n",
       "      <th>YEAR_LM</th>\n",
       "      <th>MONTH_LM</th>\n",
       "      <th>WEEK_LM</th>\n",
       "      <th>YEAR_LW</th>\n",
       "      <th>MONTH_LW</th>\n",
       "      <th>WEEK_LW</th>\n",
       "      <th>QTY_SOLD_LY</th>\n",
       "      <th>QTY_SOLD_LM</th>\n",
       "      <th>QTY_SOLD_LW</th>\n",
       "      <th>Holiday</th>\n",
       "      <th>Phoon Huat Season</th>\n",
       "    </tr>\n",
       "  </thead>\n",
       "  <tbody>\n",
       "    <tr>\n",
       "      <th>465336</th>\n",
       "      <td>2019-07-08</td>\n",
       "      <td>Store 4</td>\n",
       "      <td>1027</td>\n",
       "      <td>7.0</td>\n",
       "      <td>2018</td>\n",
       "      <td>7</td>\n",
       "      <td>27</td>\n",
       "      <td>2019</td>\n",
       "      <td>6</td>\n",
       "      <td>22</td>\n",
       "      <td>2019</td>\n",
       "      <td>7</td>\n",
       "      <td>26</td>\n",
       "      <td>3.0</td>\n",
       "      <td>6.0</td>\n",
       "      <td>5.0</td>\n",
       "      <td>NaN</td>\n",
       "      <td>0</td>\n",
       "    </tr>\n",
       "    <tr>\n",
       "      <th>465340</th>\n",
       "      <td>2019-07-08</td>\n",
       "      <td>Store 4</td>\n",
       "      <td>10386</td>\n",
       "      <td>3.0</td>\n",
       "      <td>2018</td>\n",
       "      <td>7</td>\n",
       "      <td>27</td>\n",
       "      <td>2019</td>\n",
       "      <td>6</td>\n",
       "      <td>22</td>\n",
       "      <td>2019</td>\n",
       "      <td>7</td>\n",
       "      <td>26</td>\n",
       "      <td>3.0</td>\n",
       "      <td>2.0</td>\n",
       "      <td>10.0</td>\n",
       "      <td>NaN</td>\n",
       "      <td>0</td>\n",
       "    </tr>\n",
       "    <tr>\n",
       "      <th>465341</th>\n",
       "      <td>2019-07-08</td>\n",
       "      <td>Store 4</td>\n",
       "      <td>10546</td>\n",
       "      <td>3.0</td>\n",
       "      <td>2018</td>\n",
       "      <td>7</td>\n",
       "      <td>27</td>\n",
       "      <td>2019</td>\n",
       "      <td>6</td>\n",
       "      <td>22</td>\n",
       "      <td>2019</td>\n",
       "      <td>7</td>\n",
       "      <td>26</td>\n",
       "      <td>5.0</td>\n",
       "      <td>8.0</td>\n",
       "      <td>3.0</td>\n",
       "      <td>NaN</td>\n",
       "      <td>0</td>\n",
       "    </tr>\n",
       "    <tr>\n",
       "      <th>465346</th>\n",
       "      <td>2019-07-08</td>\n",
       "      <td>Store 4</td>\n",
       "      <td>10681</td>\n",
       "      <td>2.0</td>\n",
       "      <td>2018</td>\n",
       "      <td>7</td>\n",
       "      <td>27</td>\n",
       "      <td>2019</td>\n",
       "      <td>6</td>\n",
       "      <td>22</td>\n",
       "      <td>2019</td>\n",
       "      <td>7</td>\n",
       "      <td>26</td>\n",
       "      <td>7.0</td>\n",
       "      <td>2.0</td>\n",
       "      <td>2.0</td>\n",
       "      <td>NaN</td>\n",
       "      <td>0</td>\n",
       "    </tr>\n",
       "    <tr>\n",
       "      <th>465348</th>\n",
       "      <td>2019-07-08</td>\n",
       "      <td>Store 4</td>\n",
       "      <td>10976</td>\n",
       "      <td>1.0</td>\n",
       "      <td>2018</td>\n",
       "      <td>7</td>\n",
       "      <td>27</td>\n",
       "      <td>2019</td>\n",
       "      <td>6</td>\n",
       "      <td>22</td>\n",
       "      <td>2019</td>\n",
       "      <td>7</td>\n",
       "      <td>26</td>\n",
       "      <td>2.0</td>\n",
       "      <td>3.0</td>\n",
       "      <td>2.0</td>\n",
       "      <td>NaN</td>\n",
       "      <td>0</td>\n",
       "    </tr>\n",
       "  </tbody>\n",
       "</table>\n",
       "</div>"
      ],
      "text/plain": [
       "             DATE CUSTNAME  MATERIAL  QTY_SOLD  YEAR_LY  MONTH_LY WEEK_LY  \\\n",
       "465336 2019-07-08  Store 4      1027       7.0     2018         7      27   \n",
       "465340 2019-07-08  Store 4     10386       3.0     2018         7      27   \n",
       "465341 2019-07-08  Store 4     10546       3.0     2018         7      27   \n",
       "465346 2019-07-08  Store 4     10681       2.0     2018         7      27   \n",
       "465348 2019-07-08  Store 4     10976       1.0     2018         7      27   \n",
       "\n",
       "        YEAR_LM  MONTH_LM WEEK_LM  YEAR_LW  MONTH_LW WEEK_LW  QTY_SOLD_LY  \\\n",
       "465336     2019         6      22     2019         7      26          3.0   \n",
       "465340     2019         6      22     2019         7      26          3.0   \n",
       "465341     2019         6      22     2019         7      26          5.0   \n",
       "465346     2019         6      22     2019         7      26          7.0   \n",
       "465348     2019         6      22     2019         7      26          2.0   \n",
       "\n",
       "        QTY_SOLD_LM  QTY_SOLD_LW Holiday  Phoon Huat Season  \n",
       "465336          6.0          5.0     NaN                  0  \n",
       "465340          2.0         10.0     NaN                  0  \n",
       "465341          8.0          3.0     NaN                  0  \n",
       "465346          2.0          2.0     NaN                  0  \n",
       "465348          3.0          2.0     NaN                  0  "
      ]
     },
     "execution_count": 48,
     "metadata": {},
     "output_type": "execute_result"
    }
   ],
   "source": [
    "df = retail_ly_lm_lw.copy()\n",
    "df = df.dropna(subset=['QTY_SOLD_LY', 'QTY_SOLD_LM', 'QTY_SOLD_LW'])\n",
    "df.head()"
   ]
  },
  {
   "cell_type": "code",
   "execution_count": 51,
   "metadata": {
    "ExecuteTime": {
     "end_time": "2021-04-26T07:47:34.430264Z",
     "start_time": "2021-04-26T07:47:31.172536Z"
    }
   },
   "outputs": [],
   "source": [
    "df.to_csv('Retail_Features_Dropped.csv',index=False)"
   ]
  },
  {
   "cell_type": "code",
   "execution_count": 52,
   "metadata": {
    "ExecuteTime": {
     "end_time": "2021-04-26T07:48:10.319174Z",
     "start_time": "2021-04-26T07:48:10.302580Z"
    }
   },
   "outputs": [],
   "source": [
    "# Choose Date (Last Week)\n",
    "date = df['DATE'].max() - relativedelta(days=7)\n",
    "# Choose Date (70, 30)\n",
    "# date = df.iloc[round(len(df) * 0.7), :]['DATE']"
   ]
  },
  {
   "cell_type": "code",
   "execution_count": 53,
   "metadata": {
    "ExecuteTime": {
     "end_time": "2021-04-26T07:48:14.024284Z",
     "start_time": "2021-04-26T07:48:13.974272Z"
    }
   },
   "outputs": [],
   "source": [
    "df_train = df.loc[df['DATE'] <= date]\n",
    "df_test = df.loc[df['DATE'] > date]"
   ]
  },
  {
   "cell_type": "markdown",
   "metadata": {},
   "source": [
    "**Exclude seasonal for training**"
   ]
  },
  {
   "cell_type": "code",
   "execution_count": null,
   "metadata": {
    "ExecuteTime": {
     "end_time": "2021-04-25T10:05:41.420824Z",
     "start_time": "2021-04-25T10:05:41.315124Z"
    }
   },
   "outputs": [],
   "source": [
    "# df_train = df_train[~df_train['MATERIAL'].isin(seasonal_list)]\n",
    "# df_test = df_test[~df_test['MATERIAL'].isin(seasonal_list)]"
   ]
  },
  {
   "cell_type": "code",
   "execution_count": 54,
   "metadata": {
    "ExecuteTime": {
     "end_time": "2021-04-26T07:49:15.952252Z",
     "start_time": "2021-04-26T07:49:15.938246Z"
    }
   },
   "outputs": [
    {
     "name": "stdout",
     "output_type": "stream",
     "text": [
      "(279417, 18)\n",
      "(3954, 18)\n"
     ]
    }
   ],
   "source": [
    "print(df_train.shape)\n",
    "print(df_test.shape)"
   ]
  },
  {
   "cell_type": "markdown",
   "metadata": {},
   "source": [
    "**Encode**"
   ]
  },
  {
   "cell_type": "code",
   "execution_count": 55,
   "metadata": {
    "ExecuteTime": {
     "end_time": "2021-04-26T07:49:24.793383Z",
     "start_time": "2021-04-26T07:49:24.760375Z"
    }
   },
   "outputs": [],
   "source": [
    "cust_dummies_train = pd.get_dummies(df_train['CUSTNAME'])\n",
    "cust_dummies_test = pd.get_dummies(df_test['CUSTNAME'])"
   ]
  },
  {
   "cell_type": "code",
   "execution_count": 56,
   "metadata": {
    "ExecuteTime": {
     "end_time": "2021-04-26T07:49:27.626495Z",
     "start_time": "2021-04-26T07:49:27.558381Z"
    }
   },
   "outputs": [],
   "source": [
    "df_train = pd.concat([df_train, cust_dummies_train], axis=1)\n",
    "df_test = pd.concat([df_test, cust_dummies_test], axis=1)"
   ]
  },
  {
   "cell_type": "code",
   "execution_count": 57,
   "metadata": {
    "ExecuteTime": {
     "end_time": "2021-04-26T07:49:29.990182Z",
     "start_time": "2021-04-26T07:49:29.903546Z"
    }
   },
   "outputs": [],
   "source": [
    "df_train_x = df_train[['DATE', 'MATERIAL', 'CUSTNAME', 'Store 1', 'Store 2', 'Store 3', 'Store 4',\n",
    "                       'Store 5', 'Store 6',\n",
    "                       'QTY_SOLD_LY',\n",
    "                       'QTY_SOLD_LM', 'QTY_SOLD_LW', 'Phoon Huat Season']]\n",
    "df_train_y = df_train[['DATE', 'MATERIAL', 'CUSTNAME', 'QTY_SOLD']]\n",
    "df_test_x = df_test[['DATE', 'MATERIAL', 'CUSTNAME', 'Store 1', 'Store 2', 'Store 3', 'Store 4',\n",
    "                     'Store 5', 'Store 6', 'QTY_SOLD_LY',\n",
    "                     'QTY_SOLD_LM', 'QTY_SOLD_LW', 'Phoon Huat Season']]\n",
    "df_test_y = df_test[['DATE', 'MATERIAL', 'CUSTNAME', 'QTY_SOLD']]"
   ]
  },
  {
   "cell_type": "code",
   "execution_count": 58,
   "metadata": {
    "ExecuteTime": {
     "end_time": "2021-04-26T07:49:41.088441Z",
     "start_time": "2021-04-26T07:49:41.001239Z"
    }
   },
   "outputs": [],
   "source": [
    "df_train_x = df_train_x.set_index(['DATE', 'MATERIAL', 'CUSTNAME'])\n",
    "df_test_x = df_test_x.set_index(['DATE', 'MATERIAL', 'CUSTNAME'])\n",
    "df_train_y = df_train_y.set_index(['DATE', 'MATERIAL', 'CUSTNAME'])\n",
    "df_test_y = df_test_y.set_index(['DATE', 'MATERIAL', 'CUSTNAME'])"
   ]
  },
  {
   "cell_type": "code",
   "execution_count": 59,
   "metadata": {
    "ExecuteTime": {
     "end_time": "2021-04-26T07:49:41.702945Z",
     "start_time": "2021-04-26T07:49:41.579521Z"
    }
   },
   "outputs": [],
   "source": [
    "lm = linear_model.LinearRegression()\n",
    "model = lm.fit(df_train_x, df_train_y)\n",
    "predictions = lm.predict(df_test_x)"
   ]
  },
  {
   "cell_type": "code",
   "execution_count": 60,
   "metadata": {
    "ExecuteTime": {
     "end_time": "2021-04-26T07:49:42.618572Z",
     "start_time": "2021-04-26T07:49:42.608579Z"
    }
   },
   "outputs": [
    {
     "data": {
      "text/plain": [
       "3954"
      ]
     },
     "execution_count": 60,
     "metadata": {},
     "output_type": "execute_result"
    }
   ],
   "source": [
    "len(predictions)"
   ]
  },
  {
   "cell_type": "code",
   "execution_count": 61,
   "metadata": {
    "ExecuteTime": {
     "end_time": "2021-04-26T07:49:47.747297Z",
     "start_time": "2021-04-26T07:49:47.735302Z"
    }
   },
   "outputs": [
    {
     "data": {
      "text/plain": [
       "array([[3.25195312],\n",
       "       [3.25195312],\n",
       "       [5.02043152],\n",
       "       ...,\n",
       "       [5.74760437],\n",
       "       [9.01261902],\n",
       "       [3.5552063 ]])"
      ]
     },
     "execution_count": 61,
     "metadata": {},
     "output_type": "execute_result"
    }
   ],
   "source": [
    "predictions"
   ]
  },
  {
   "cell_type": "code",
   "execution_count": 62,
   "metadata": {
    "ExecuteTime": {
     "end_time": "2021-04-26T07:49:51.839560Z",
     "start_time": "2021-04-26T07:49:51.829569Z"
    }
   },
   "outputs": [],
   "source": [
    "df_test_y['PREDICTED_QTY_SOLD'] = predictions"
   ]
  },
  {
   "cell_type": "code",
   "execution_count": 63,
   "metadata": {
    "ExecuteTime": {
     "end_time": "2021-04-26T07:49:53.117513Z",
     "start_time": "2021-04-26T07:49:53.084492Z"
    }
   },
   "outputs": [
    {
     "data": {
      "text/plain": [
       "0.7407331893580094"
      ]
     },
     "execution_count": 63,
     "metadata": {},
     "output_type": "execute_result"
    }
   ],
   "source": [
    "lm.score(df_train_x, df_train_y)"
   ]
  },
  {
   "cell_type": "code",
   "execution_count": 64,
   "metadata": {
    "ExecuteTime": {
     "end_time": "2021-04-26T07:49:58.339482Z",
     "start_time": "2021-04-26T07:49:58.313475Z"
    }
   },
   "outputs": [
    {
     "data": {
      "text/plain": [
       "10.622400949462333"
      ]
     },
     "execution_count": 64,
     "metadata": {},
     "output_type": "execute_result"
    }
   ],
   "source": [
    "np.sqrt(mean_squared_error(\n",
    "    df_test_y['QTY_SOLD'], df_test_y['PREDICTED_QTY_SOLD']))"
   ]
  },
  {
   "cell_type": "code",
   "execution_count": null,
   "metadata": {
    "ExecuteTime": {
     "end_time": "2021-04-25T10:11:34.009659Z",
     "start_time": "2021-04-25T10:11:33.976642Z"
    }
   },
   "outputs": [],
   "source": [
    "df_train_x.head()"
   ]
  },
  {
   "cell_type": "code",
   "execution_count": null,
   "metadata": {
    "ExecuteTime": {
     "end_time": "2021-04-25T10:12:57.483985Z",
     "start_time": "2021-04-25T10:12:57.460960Z"
    }
   },
   "outputs": [],
   "source": [
    "df_train_x['Phoon Huat Season'].unique()"
   ]
  },
  {
   "cell_type": "code",
   "execution_count": 66,
   "metadata": {
    "ExecuteTime": {
     "end_time": "2021-04-26T07:50:24.732267Z",
     "start_time": "2021-04-26T07:50:24.706266Z"
    }
   },
   "outputs": [
    {
     "data": {
      "text/html": [
       "<div>\n",
       "<style scoped>\n",
       "    .dataframe tbody tr th:only-of-type {\n",
       "        vertical-align: middle;\n",
       "    }\n",
       "\n",
       "    .dataframe tbody tr th {\n",
       "        vertical-align: top;\n",
       "    }\n",
       "\n",
       "    .dataframe thead th {\n",
       "        text-align: right;\n",
       "    }\n",
       "</style>\n",
       "<table border=\"1\" class=\"dataframe\">\n",
       "  <thead>\n",
       "    <tr style=\"text-align: right;\">\n",
       "      <th></th>\n",
       "      <th></th>\n",
       "      <th></th>\n",
       "      <th>QTY_SOLD</th>\n",
       "      <th>PREDICTED_QTY_SOLD</th>\n",
       "    </tr>\n",
       "    <tr>\n",
       "      <th>DATE</th>\n",
       "      <th>MATERIAL</th>\n",
       "      <th>CUSTNAME</th>\n",
       "      <th></th>\n",
       "      <th></th>\n",
       "    </tr>\n",
       "  </thead>\n",
       "  <tbody>\n",
       "    <tr>\n",
       "      <th rowspan=\"11\" valign=\"top\">2021-03-29</th>\n",
       "      <th>100498</th>\n",
       "      <th>Store 4</th>\n",
       "      <td>2.0</td>\n",
       "      <td>3.251953</td>\n",
       "    </tr>\n",
       "    <tr>\n",
       "      <th>10147</th>\n",
       "      <th>Store 4</th>\n",
       "      <td>5.0</td>\n",
       "      <td>3.251953</td>\n",
       "    </tr>\n",
       "    <tr>\n",
       "      <th>102139</th>\n",
       "      <th>Store 4</th>\n",
       "      <td>5.0</td>\n",
       "      <td>5.020432</td>\n",
       "    </tr>\n",
       "    <tr>\n",
       "      <th>102574</th>\n",
       "      <th>Store 4</th>\n",
       "      <td>1.0</td>\n",
       "      <td>7.647018</td>\n",
       "    </tr>\n",
       "    <tr>\n",
       "      <th>102619</th>\n",
       "      <th>Store 4</th>\n",
       "      <td>2.0</td>\n",
       "      <td>4.578644</td>\n",
       "    </tr>\n",
       "    <tr>\n",
       "      <th>...</th>\n",
       "      <th>...</th>\n",
       "      <td>...</td>\n",
       "      <td>...</td>\n",
       "    </tr>\n",
       "    <tr>\n",
       "      <th>934</th>\n",
       "      <th>Store 3</th>\n",
       "      <td>8.0</td>\n",
       "      <td>6.513733</td>\n",
       "    </tr>\n",
       "    <tr>\n",
       "      <th>9390</th>\n",
       "      <th>Store 3</th>\n",
       "      <td>1.0</td>\n",
       "      <td>2.752045</td>\n",
       "    </tr>\n",
       "    <tr>\n",
       "      <th>9561</th>\n",
       "      <th>Store 3</th>\n",
       "      <td>5.0</td>\n",
       "      <td>5.747604</td>\n",
       "    </tr>\n",
       "    <tr>\n",
       "      <th>9863</th>\n",
       "      <th>Store 3</th>\n",
       "      <td>5.0</td>\n",
       "      <td>9.012619</td>\n",
       "    </tr>\n",
       "    <tr>\n",
       "      <th>9889</th>\n",
       "      <th>Store 3</th>\n",
       "      <td>4.0</td>\n",
       "      <td>3.555206</td>\n",
       "    </tr>\n",
       "  </tbody>\n",
       "</table>\n",
       "<p>3954 rows × 2 columns</p>\n",
       "</div>"
      ],
      "text/plain": [
       "                              QTY_SOLD  PREDICTED_QTY_SOLD\n",
       "DATE       MATERIAL CUSTNAME                              \n",
       "2021-03-29 100498   Store 4        2.0            3.251953\n",
       "           10147    Store 4        5.0            3.251953\n",
       "           102139   Store 4        5.0            5.020432\n",
       "           102574   Store 4        1.0            7.647018\n",
       "           102619   Store 4        2.0            4.578644\n",
       "...                                ...                 ...\n",
       "           934      Store 3        8.0            6.513733\n",
       "           9390     Store 3        1.0            2.752045\n",
       "           9561     Store 3        5.0            5.747604\n",
       "           9863     Store 3        5.0            9.012619\n",
       "           9889     Store 3        4.0            3.555206\n",
       "\n",
       "[3954 rows x 2 columns]"
      ]
     },
     "execution_count": 66,
     "metadata": {},
     "output_type": "execute_result"
    }
   ],
   "source": []
  },
  {
   "cell_type": "code",
   "execution_count": 65,
   "metadata": {
    "ExecuteTime": {
     "end_time": "2021-04-26T07:50:04.020527Z",
     "start_time": "2021-04-26T07:50:04.012539Z"
    },
    "scrolled": true
   },
   "outputs": [
    {
     "data": {
      "text/plain": [
       "array([[ 7.63828129e+10,  7.63828129e+10,  7.63828129e+10,\n",
       "         7.63828129e+10,  7.63828129e+10,  7.63828129e+10,\n",
       "         1.44287109e-01,  1.35353088e-01,  6.67812347e-01,\n",
       "        -5.60774251e+00]])"
      ]
     },
     "execution_count": 65,
     "metadata": {},
     "output_type": "execute_result"
    }
   ],
   "source": [
    "lm.coef_"
   ]
  },
  {
   "cell_type": "code",
   "execution_count": null,
   "metadata": {},
   "outputs": [],
   "source": []
  }
 ],
 "metadata": {
  "hide_input": false,
  "kernelspec": {
   "display_name": "Machine Learning",
   "language": "python",
   "name": "ml"
  },
  "language_info": {
   "codemirror_mode": {
    "name": "ipython",
    "version": 3
   },
   "file_extension": ".py",
   "mimetype": "text/x-python",
   "name": "python",
   "nbconvert_exporter": "python",
   "pygments_lexer": "ipython3",
   "version": "3.8.5"
  },
  "toc": {
   "base_numbering": 1,
   "nav_menu": {},
   "number_sections": true,
   "sideBar": true,
   "skip_h1_title": false,
   "title_cell": "Table of Contents",
   "title_sidebar": "Contents",
   "toc_cell": false,
   "toc_position": {
    "height": "calc(100% - 180px)",
    "left": "10px",
    "top": "150px",
    "width": "218.18px"
   },
   "toc_section_display": true,
   "toc_window_display": true
  },
  "varInspector": {
   "cols": {
    "lenName": 16,
    "lenType": 16,
    "lenVar": 40
   },
   "kernels_config": {
    "python": {
     "delete_cmd_postfix": "",
     "delete_cmd_prefix": "del ",
     "library": "var_list.py",
     "varRefreshCmd": "print(var_dic_list())"
    },
    "r": {
     "delete_cmd_postfix": ") ",
     "delete_cmd_prefix": "rm(",
     "library": "var_list.r",
     "varRefreshCmd": "cat(var_dic_list()) "
    }
   },
   "types_to_exclude": [
    "module",
    "function",
    "builtin_function_or_method",
    "instance",
    "_Feature"
   ],
   "window_display": false
  }
 },
 "nbformat": 4,
 "nbformat_minor": 4
}
