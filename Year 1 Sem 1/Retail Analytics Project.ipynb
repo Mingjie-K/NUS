{
 "cells": [
  {
   "cell_type": "code",
   "execution_count": null,
   "metadata": {
    "ExecuteTime": {
     "end_time": "2021-04-18T16:38:06.065547Z",
     "start_time": "2021-04-18T16:38:00.429Z"
    }
   },
   "outputs": [],
   "source": [
    "# Libraries\n",
    "import os\n",
    "import pandas as pd\n",
    "from scipy.stats import zscore\n",
    "from datetime import datetime, timedelta\n",
    "from dateutil.relativedelta import relativedelta\n",
    "user = os.getenv('USERPROFILE')\n",
    "data_path = os.path.join(\n",
    "    user, 'OneDrive - National University of Singapore\\EBAC\\Year 1 Semester 1\\Project\\Data')\n",
    "os.chdir(data_path)\n",
    "pd.set_option('max_columns', None)  "
   ]
  },
  {
   "cell_type": "code",
   "execution_count": 2,
   "metadata": {
    "ExecuteTime": {
     "end_time": "2021-04-18T16:38:14.267483Z",
     "start_time": "2021-04-18T16:38:11.490948Z"
    }
   },
   "outputs": [
    {
     "data": {
      "text/html": [
       "<div>\n",
       "<style scoped>\n",
       "    .dataframe tbody tr th:only-of-type {\n",
       "        vertical-align: middle;\n",
       "    }\n",
       "\n",
       "    .dataframe tbody tr th {\n",
       "        vertical-align: top;\n",
       "    }\n",
       "\n",
       "    .dataframe thead th {\n",
       "        text-align: right;\n",
       "    }\n",
       "</style>\n",
       "<table border=\"1\" class=\"dataframe\">\n",
       "  <thead>\n",
       "    <tr style=\"text-align: right;\">\n",
       "      <th></th>\n",
       "      <th>DATE</th>\n",
       "      <th>CUSTNAME</th>\n",
       "      <th>MATERIAL</th>\n",
       "      <th>BASEUOM</th>\n",
       "      <th>MSTAE</th>\n",
       "      <th>H1</th>\n",
       "      <th>H2</th>\n",
       "      <th>H3</th>\n",
       "      <th>QTY_SOLD</th>\n",
       "      <th>CLUSTER</th>\n",
       "    </tr>\n",
       "  </thead>\n",
       "  <tbody>\n",
       "    <tr>\n",
       "      <th>0</th>\n",
       "      <td>2018-06-25</td>\n",
       "      <td>Store 4</td>\n",
       "      <td>10091</td>\n",
       "      <td>PAC</td>\n",
       "      <td>AC</td>\n",
       "      <td>Dairy</td>\n",
       "      <td>Cream Compound</td>\n",
       "      <td>Whipping</td>\n",
       "      <td>5.0</td>\n",
       "      <td>B</td>\n",
       "    </tr>\n",
       "    <tr>\n",
       "      <th>1</th>\n",
       "      <td>2018-06-25</td>\n",
       "      <td>Store 4</td>\n",
       "      <td>10550</td>\n",
       "      <td>PAC</td>\n",
       "      <td>AC</td>\n",
       "      <td>Nuts, Seeds &amp; Beans</td>\n",
       "      <td>Nuts</td>\n",
       "      <td>Pumpkin Kernel</td>\n",
       "      <td>3.0</td>\n",
       "      <td>B</td>\n",
       "    </tr>\n",
       "    <tr>\n",
       "      <th>2</th>\n",
       "      <td>2018-06-25</td>\n",
       "      <td>Store 4</td>\n",
       "      <td>11485</td>\n",
       "      <td>PAC</td>\n",
       "      <td>AC</td>\n",
       "      <td>Flour, Grain &amp; Flakes</td>\n",
       "      <td>Premix</td>\n",
       "      <td>Others</td>\n",
       "      <td>1.0</td>\n",
       "      <td>B</td>\n",
       "    </tr>\n",
       "    <tr>\n",
       "      <th>3</th>\n",
       "      <td>2018-06-25</td>\n",
       "      <td>Store 4</td>\n",
       "      <td>1201</td>\n",
       "      <td>PAC</td>\n",
       "      <td>AC</td>\n",
       "      <td>Bakery</td>\n",
       "      <td>Functional</td>\n",
       "      <td>Starches</td>\n",
       "      <td>1.0</td>\n",
       "      <td>B</td>\n",
       "    </tr>\n",
       "    <tr>\n",
       "      <th>4</th>\n",
       "      <td>2018-06-25</td>\n",
       "      <td>Store 4</td>\n",
       "      <td>12085</td>\n",
       "      <td>PAC</td>\n",
       "      <td>AC</td>\n",
       "      <td>Grocery</td>\n",
       "      <td>Seasoning</td>\n",
       "      <td>Herbs &amp; Spices</td>\n",
       "      <td>1.0</td>\n",
       "      <td>B</td>\n",
       "    </tr>\n",
       "  </tbody>\n",
       "</table>\n",
       "</div>"
      ],
      "text/plain": [
       "        DATE CUSTNAME  MATERIAL BASEUOM MSTAE                     H1  \\\n",
       "0 2018-06-25  Store 4     10091     PAC    AC                  Dairy   \n",
       "1 2018-06-25  Store 4     10550     PAC    AC    Nuts, Seeds & Beans   \n",
       "2 2018-06-25  Store 4     11485     PAC    AC  Flour, Grain & Flakes   \n",
       "3 2018-06-25  Store 4      1201     PAC    AC                 Bakery   \n",
       "4 2018-06-25  Store 4     12085     PAC    AC                Grocery   \n",
       "\n",
       "               H2              H3  QTY_SOLD CLUSTER  \n",
       "0  Cream Compound        Whipping       5.0       B  \n",
       "1            Nuts  Pumpkin Kernel       3.0       B  \n",
       "2          Premix          Others       1.0       B  \n",
       "3      Functional        Starches       1.0       B  \n",
       "4       Seasoning  Herbs & Spices       1.0       B  "
      ]
     },
     "execution_count": 2,
     "metadata": {},
     "output_type": "execute_result"
    }
   ],
   "source": [
    "retail_df = pd.read_csv('Retail_Week_NUS.csv', parse_dates=[0])\n",
    "retail_df.head()"
   ]
  },
  {
   "cell_type": "markdown",
   "metadata": {},
   "source": [
    "# Data Cleaning"
   ]
  },
  {
   "cell_type": "markdown",
   "metadata": {},
   "source": [
    "**We only look at active skus and remove General and Service in H1**"
   ]
  },
  {
   "cell_type": "code",
   "execution_count": 3,
   "metadata": {
    "ExecuteTime": {
     "end_time": "2021-04-18T16:38:18.817802Z",
     "start_time": "2021-04-18T16:38:18.249415Z"
    }
   },
   "outputs": [],
   "source": [
    "retail_df = retail_df.loc[(retail_df['MSTAE'] == 'AC') & (\n",
    "    (retail_df['H1'] != 'General') & (retail_df['H1'] != 'Service'))]"
   ]
  },
  {
   "cell_type": "markdown",
   "metadata": {},
   "source": [
    "**Create Year and Week**"
   ]
  },
  {
   "cell_type": "code",
   "execution_count": 4,
   "metadata": {
    "ExecuteTime": {
     "end_time": "2021-04-18T16:38:31.564212Z",
     "start_time": "2021-04-18T16:38:19.075550Z"
    }
   },
   "outputs": [
    {
     "name": "stdout",
     "output_type": "stream",
     "text": [
      "(1391820, 13)\n"
     ]
    },
    {
     "data": {
      "text/html": [
       "<div>\n",
       "<style scoped>\n",
       "    .dataframe tbody tr th:only-of-type {\n",
       "        vertical-align: middle;\n",
       "    }\n",
       "\n",
       "    .dataframe tbody tr th {\n",
       "        vertical-align: top;\n",
       "    }\n",
       "\n",
       "    .dataframe thead th {\n",
       "        text-align: right;\n",
       "    }\n",
       "</style>\n",
       "<table border=\"1\" class=\"dataframe\">\n",
       "  <thead>\n",
       "    <tr style=\"text-align: right;\">\n",
       "      <th></th>\n",
       "      <th>DATE</th>\n",
       "      <th>CUSTNAME</th>\n",
       "      <th>MATERIAL</th>\n",
       "      <th>BASEUOM</th>\n",
       "      <th>MSTAE</th>\n",
       "      <th>H1</th>\n",
       "      <th>H2</th>\n",
       "      <th>H3</th>\n",
       "      <th>QTY_SOLD</th>\n",
       "      <th>CLUSTER</th>\n",
       "      <th>YEAR</th>\n",
       "      <th>MONTH</th>\n",
       "      <th>WEEK</th>\n",
       "    </tr>\n",
       "  </thead>\n",
       "  <tbody>\n",
       "    <tr>\n",
       "      <th>0</th>\n",
       "      <td>2018-06-25</td>\n",
       "      <td>Store 4</td>\n",
       "      <td>10091</td>\n",
       "      <td>PAC</td>\n",
       "      <td>AC</td>\n",
       "      <td>Dairy</td>\n",
       "      <td>Cream Compound</td>\n",
       "      <td>Whipping</td>\n",
       "      <td>5.0</td>\n",
       "      <td>B</td>\n",
       "      <td>2018</td>\n",
       "      <td>6</td>\n",
       "      <td>26</td>\n",
       "    </tr>\n",
       "    <tr>\n",
       "      <th>1</th>\n",
       "      <td>2018-06-25</td>\n",
       "      <td>Store 4</td>\n",
       "      <td>10550</td>\n",
       "      <td>PAC</td>\n",
       "      <td>AC</td>\n",
       "      <td>Nuts, Seeds &amp; Beans</td>\n",
       "      <td>Nuts</td>\n",
       "      <td>Pumpkin Kernel</td>\n",
       "      <td>3.0</td>\n",
       "      <td>B</td>\n",
       "      <td>2018</td>\n",
       "      <td>6</td>\n",
       "      <td>26</td>\n",
       "    </tr>\n",
       "    <tr>\n",
       "      <th>2</th>\n",
       "      <td>2018-06-25</td>\n",
       "      <td>Store 4</td>\n",
       "      <td>11485</td>\n",
       "      <td>PAC</td>\n",
       "      <td>AC</td>\n",
       "      <td>Flour, Grain &amp; Flakes</td>\n",
       "      <td>Premix</td>\n",
       "      <td>Others</td>\n",
       "      <td>1.0</td>\n",
       "      <td>B</td>\n",
       "      <td>2018</td>\n",
       "      <td>6</td>\n",
       "      <td>26</td>\n",
       "    </tr>\n",
       "    <tr>\n",
       "      <th>3</th>\n",
       "      <td>2018-06-25</td>\n",
       "      <td>Store 4</td>\n",
       "      <td>1201</td>\n",
       "      <td>PAC</td>\n",
       "      <td>AC</td>\n",
       "      <td>Bakery</td>\n",
       "      <td>Functional</td>\n",
       "      <td>Starches</td>\n",
       "      <td>1.0</td>\n",
       "      <td>B</td>\n",
       "      <td>2018</td>\n",
       "      <td>6</td>\n",
       "      <td>26</td>\n",
       "    </tr>\n",
       "    <tr>\n",
       "      <th>4</th>\n",
       "      <td>2018-06-25</td>\n",
       "      <td>Store 4</td>\n",
       "      <td>12085</td>\n",
       "      <td>PAC</td>\n",
       "      <td>AC</td>\n",
       "      <td>Grocery</td>\n",
       "      <td>Seasoning</td>\n",
       "      <td>Herbs &amp; Spices</td>\n",
       "      <td>1.0</td>\n",
       "      <td>B</td>\n",
       "      <td>2018</td>\n",
       "      <td>6</td>\n",
       "      <td>26</td>\n",
       "    </tr>\n",
       "  </tbody>\n",
       "</table>\n",
       "</div>"
      ],
      "text/plain": [
       "        DATE CUSTNAME  MATERIAL BASEUOM MSTAE                     H1  \\\n",
       "0 2018-06-25  Store 4     10091     PAC    AC                  Dairy   \n",
       "1 2018-06-25  Store 4     10550     PAC    AC    Nuts, Seeds & Beans   \n",
       "2 2018-06-25  Store 4     11485     PAC    AC  Flour, Grain & Flakes   \n",
       "3 2018-06-25  Store 4      1201     PAC    AC                 Bakery   \n",
       "4 2018-06-25  Store 4     12085     PAC    AC                Grocery   \n",
       "\n",
       "               H2              H3  QTY_SOLD CLUSTER  YEAR  MONTH WEEK  \n",
       "0  Cream Compound        Whipping       5.0       B  2018      6   26  \n",
       "1            Nuts  Pumpkin Kernel       3.0       B  2018      6   26  \n",
       "2          Premix          Others       1.0       B  2018      6   26  \n",
       "3      Functional        Starches       1.0       B  2018      6   26  \n",
       "4       Seasoning  Herbs & Spices       1.0       B  2018      6   26  "
      ]
     },
     "execution_count": 4,
     "metadata": {},
     "output_type": "execute_result"
    }
   ],
   "source": [
    "retail_df['YEAR'] = retail_df['DATE'].dt.year\n",
    "retail_df['MONTH'] = retail_df['DATE'].dt.month\n",
    "retail_df['WEEK'] = retail_df['DATE'].dt.strftime('%W')\n",
    "print(retail_df.shape)\n",
    "retail_df.head()"
   ]
  },
  {
   "cell_type": "markdown",
   "metadata": {},
   "source": [
    "**Insert weeks with no sales (Put 0)<br>Did not put currently as it affects standard deviation**"
   ]
  },
  {
   "cell_type": "code",
   "execution_count": null,
   "metadata": {
    "ExecuteTime": {
     "end_time": "2021-04-18T15:57:12.936862Z",
     "start_time": "2021-04-18T15:57:12.427209Z"
    }
   },
   "outputs": [],
   "source": [
    "retail_group = retail_df.groupby(['YEAR', 'WEEK', 'MATERIAL'])[\n",
    "    'QTY_SOLD'].sum().reset_index()"
   ]
  },
  {
   "cell_type": "code",
   "execution_count": null,
   "metadata": {
    "ExecuteTime": {
     "end_time": "2021-04-18T15:57:13.109898Z",
     "start_time": "2021-04-18T15:57:13.080897Z"
    }
   },
   "outputs": [],
   "source": [
    "retail_group.head()"
   ]
  },
  {
   "cell_type": "code",
   "execution_count": null,
   "metadata": {
    "ExecuteTime": {
     "end_time": "2021-04-18T07:49:30.451251Z",
     "start_time": "2021-04-18T07:49:30.422245Z"
    }
   },
   "outputs": [],
   "source": [
    "# retail_group = retail_df.pivot_table(index=['YEAR', 'WEEK'], columns=[\n",
    "#     'MATERIAL'], values='QTY_SOLD', fill_value=0).reset_index()"
   ]
  },
  {
   "cell_type": "code",
   "execution_count": null,
   "metadata": {
    "ExecuteTime": {
     "end_time": "2021-04-18T07:49:30.467259Z",
     "start_time": "2021-04-18T07:49:30.453252Z"
    }
   },
   "outputs": [],
   "source": [
    "# retail_group = retail_group.melt(\n",
    "#     id_vars=['YEAR', 'WEEK'], value_vars=retail_group.columns[2:], value_name='QTY_SOLD')"
   ]
  },
  {
   "cell_type": "code",
   "execution_count": null,
   "metadata": {
    "ExecuteTime": {
     "end_time": "2021-04-18T07:49:30.483259Z",
     "start_time": "2021-04-18T07:49:30.469255Z"
    }
   },
   "outputs": [],
   "source": [
    "# print(retail_group.shape)\n",
    "# retail_group.head()"
   ]
  },
  {
   "cell_type": "markdown",
   "metadata": {},
   "source": [
    "# Seasonal Products"
   ]
  },
  {
   "cell_type": "markdown",
   "metadata": {},
   "source": [
    "**Sales of items affected by**\n",
    "- Economy at times\n",
    "- Nature of Item (Seasonal or Non-seasonal)\n",
    "- Promotions or Discounts\n",
    "- Competition from a rival\n",
    "- Competition from a substitute product\n",
    "- Special events like Super Bowl, Thanksgiving, New Year, etc varying from places to places"
   ]
  },
  {
   "cell_type": "code",
   "execution_count": null,
   "metadata": {
    "ExecuteTime": {
     "end_time": "2021-04-18T07:49:30.547275Z",
     "start_time": "2021-04-18T07:49:30.485259Z"
    }
   },
   "outputs": [],
   "source": [
    "avg_df = retail_group.groupby(['MATERIAL', 'YEAR'])[\n",
    "    'QTY_SOLD'].mean().reset_index()\n",
    "avg_df = avg_df.rename(columns={'QTY_SOLD': 'AVG_QTY'})\n",
    "avg_df.head()"
   ]
  },
  {
   "cell_type": "code",
   "execution_count": null,
   "metadata": {
    "ExecuteTime": {
     "end_time": "2021-04-18T07:49:30.659317Z",
     "start_time": "2021-04-18T07:49:30.550274Z"
    }
   },
   "outputs": [],
   "source": [
    "retail_merged = retail_group.merge(avg_df, how='left', on=['YEAR', 'MATERIAL'])\n",
    "retail_merged.head()"
   ]
  },
  {
   "cell_type": "markdown",
   "metadata": {},
   "source": [
    "**Create seasonal index**"
   ]
  },
  {
   "cell_type": "code",
   "execution_count": null,
   "metadata": {
    "ExecuteTime": {
     "end_time": "2021-04-18T07:49:30.675346Z",
     "start_time": "2021-04-18T07:49:30.662319Z"
    }
   },
   "outputs": [],
   "source": [
    "retail_merged['SEASONAL_INDEX'] = retail_merged['QTY_SOLD'] / \\\n",
    "    retail_merged['AVG_QTY']"
   ]
  },
  {
   "cell_type": "code",
   "execution_count": null,
   "metadata": {
    "ExecuteTime": {
     "end_time": "2021-04-18T07:49:30.754363Z",
     "start_time": "2021-04-18T07:49:30.678347Z"
    }
   },
   "outputs": [],
   "source": [
    "std_df = retail_merged.groupby(['MATERIAL', 'YEAR'])[\n",
    "    'SEASONAL_INDEX'].std().reset_index()\n",
    "std_df = std_df.rename(columns={'SEASONAL_INDEX': 'STD'})"
   ]
  },
  {
   "cell_type": "code",
   "execution_count": null,
   "metadata": {
    "ExecuteTime": {
     "end_time": "2021-04-18T07:49:30.878925Z",
     "start_time": "2021-04-18T07:49:30.756364Z"
    }
   },
   "outputs": [],
   "source": [
    "retail_merged = retail_merged.merge(\n",
    "    std_df, how='left', on=['MATERIAL', 'YEAR'])"
   ]
  },
  {
   "cell_type": "markdown",
   "metadata": {},
   "source": [
    "**Remove materials that are not sold, it may be cause of lack of inventory**"
   ]
  },
  {
   "cell_type": "code",
   "execution_count": null,
   "metadata": {
    "ExecuteTime": {
     "end_time": "2021-04-18T07:49:30.974946Z",
     "start_time": "2021-04-18T07:49:30.880925Z"
    }
   },
   "outputs": [],
   "source": [
    "retail_merged = retail_merged.dropna(subset=['STD'])\n",
    "\n",
    "retail_merged = retail_merged.groupby(['YEAR', 'MATERIAL'])['STD'].mean(\n",
    ").to_frame().sort_values(by=['YEAR', 'STD'], ascending=False)"
   ]
  },
  {
   "cell_type": "code",
   "execution_count": null,
   "metadata": {
    "ExecuteTime": {
     "end_time": "2021-04-18T07:49:30.990950Z",
     "start_time": "2021-04-18T07:49:30.976946Z"
    }
   },
   "outputs": [],
   "source": [
    "high_std = retail_merged.loc[retail_merged['STD'] >= 2]\n",
    "low_std = retail_merged.loc[retail_merged['STD'] < 1]"
   ]
  },
  {
   "cell_type": "markdown",
   "metadata": {},
   "source": [
    "**Find common seasonality items for 2019 and 2020**"
   ]
  },
  {
   "cell_type": "code",
   "execution_count": null,
   "metadata": {
    "ExecuteTime": {
     "end_time": "2021-04-18T07:49:31.022957Z",
     "start_time": "2021-04-18T07:49:30.993950Z"
    }
   },
   "outputs": [],
   "source": [
    "s_products = high_std.loc[2019].merge(\n",
    "    high_std.loc[2020], left_index=True, right_index=True)\n",
    "non_s_products = low_std.loc[2019].merge(\n",
    "    low_std.loc[2020], left_index=True, right_index=True)"
   ]
  },
  {
   "cell_type": "code",
   "execution_count": null,
   "metadata": {
    "ExecuteTime": {
     "end_time": "2021-04-18T07:49:56.919000Z",
     "start_time": "2021-04-18T07:49:56.906017Z"
    }
   },
   "outputs": [],
   "source": [
    "s_products"
   ]
  },
  {
   "cell_type": "code",
   "execution_count": null,
   "metadata": {
    "ExecuteTime": {
     "end_time": "2021-04-18T08:36:27.320827Z",
     "start_time": "2021-04-18T08:36:27.307849Z"
    }
   },
   "outputs": [],
   "source": [
    "def plot(mat, year):\n",
    "    df = retail_df.loc[(retail_df['MATERIAL'] == mat)\n",
    "                       & (retail_df['YEAR'] == year)]\n",
    "    df.groupby(['DATE'])['QTY_SOLD'].sum().plot()"
   ]
  },
  {
   "cell_type": "code",
   "execution_count": null,
   "metadata": {
    "ExecuteTime": {
     "end_time": "2021-04-18T08:41:41.034794Z",
     "start_time": "2021-04-18T08:41:40.745733Z"
    }
   },
   "outputs": [],
   "source": [
    "plot(225, 2018)"
   ]
  },
  {
   "cell_type": "code",
   "execution_count": null,
   "metadata": {
    "ExecuteTime": {
     "end_time": "2021-04-18T08:05:26.446784Z",
     "start_time": "2021-04-18T08:05:26.425780Z"
    }
   },
   "outputs": [],
   "source": [
    "test = retail_df.loc[retail_df['MATERIAL'] == 52289]"
   ]
  },
  {
   "cell_type": "code",
   "execution_count": null,
   "metadata": {
    "ExecuteTime": {
     "end_time": "2021-04-18T08:06:15.095204Z",
     "start_time": "2021-04-18T08:06:14.850302Z"
    }
   },
   "outputs": [],
   "source": [
    "test.groupby(['DATE'])['QTY_SOLD'].sum().plot()"
   ]
  },
  {
   "cell_type": "markdown",
   "metadata": {},
   "source": [
    "# Regression"
   ]
  },
  {
   "cell_type": "code",
   "execution_count": 5,
   "metadata": {
    "ExecuteTime": {
     "end_time": "2021-04-18T16:39:13.033594Z",
     "start_time": "2021-04-18T16:39:12.240372Z"
    }
   },
   "outputs": [],
   "source": [
    "retail_df['DATE'] = pd.to_datetime(retail_df['DATE']).dt.date"
   ]
  },
  {
   "cell_type": "code",
   "execution_count": 6,
   "metadata": {
    "ExecuteTime": {
     "end_time": "2021-04-18T16:40:08.155262Z",
     "start_time": "2021-04-18T16:39:13.592598Z"
    }
   },
   "outputs": [],
   "source": [
    "retail_df['DATE_LY'] = retail_df['DATE'] - relativedelta(years=1)\n",
    "retail_df['DATE_LM'] = retail_df['DATE'] - relativedelta(months=1)\n",
    "retail_df['DATE_LW'] = retail_df['DATE'] - relativedelta(weeks=1)"
   ]
  },
  {
   "cell_type": "markdown",
   "metadata": {},
   "source": [
    "**Change to datetime**"
   ]
  },
  {
   "cell_type": "code",
   "execution_count": 7,
   "metadata": {
    "ExecuteTime": {
     "end_time": "2021-04-18T16:45:18.616875Z",
     "start_time": "2021-04-18T16:40:08.330428Z"
    }
   },
   "outputs": [],
   "source": [
    "retail_df['DATE_LY'] = retail_df['DATE_LY'].apply(pd.to_datetime)\n",
    "retail_df['DATE_LM'] = retail_df['DATE_LM'].apply(pd.to_datetime)\n",
    "retail_df['DATE_LW'] = retail_df['DATE_LW'].apply(pd.to_datetime)"
   ]
  },
  {
   "cell_type": "code",
   "execution_count": null,
   "metadata": {
    "ExecuteTime": {
     "end_time": "2021-04-18T16:03:16.367184Z",
     "start_time": "2021-04-18T16:03:16.329177Z"
    }
   },
   "outputs": [],
   "source": [
    "retail_df"
   ]
  },
  {
   "cell_type": "code",
   "execution_count": null,
   "metadata": {
    "ExecuteTime": {
     "end_time": "2021-04-18T16:04:12.815302Z",
     "start_time": "2021-04-18T16:03:21.444095Z"
    }
   },
   "outputs": [],
   "source": [
    "retail_df['YEAR_LY'] = retail_df['DATE_LY'].dt.year\n",
    "retail_df['MONTH_LY'] = retail_df['DATE_LY'].dt.month\n",
    "retail_df['WEEK_LY'] = retail_df['DATE_LY'].dt.strftime('%W')\n",
    "\n",
    "retail_df['YEAR_LM'] = retail_df['DATE_LM'].dt.year\n",
    "retail_df['MONTH_LM'] = retail_df['DATE_LM'].dt.month\n",
    "retail_df['WEEK_LM'] = retail_df['DATE_LM'].dt.strftime('%W')\n",
    "\n",
    "retail_df['YEAR_LW'] = retail_df['DATE_LW'].dt.year\n",
    "retail_df['MONTH_LW'] = retail_df['DATE_LW'].dt.month\n",
    "retail_df['WEEK_LW'] = retail_df['DATE_LW'].dt.strftime('%W')"
   ]
  },
  {
   "cell_type": "code",
   "execution_count": null,
   "metadata": {
    "ExecuteTime": {
     "end_time": "2021-04-18T16:10:47.475075Z",
     "start_time": "2021-04-18T16:10:47.470078Z"
    }
   },
   "outputs": [],
   "source": [
    "test.columns"
   ]
  },
  {
   "cell_type": "code",
   "execution_count": null,
   "metadata": {
    "ExecuteTime": {
     "end_time": "2021-04-18T16:07:45.678678Z",
     "start_time": "2021-04-18T16:07:45.045980Z"
    }
   },
   "outputs": [],
   "source": [
    "# Get slice of dataframe first\n",
    "retail = retail_df[['YEAR_LY', 'MONTH_LY',\n",
    "                    'WEEK_LY', 'CUSTNAME', 'MATERIAL', 'QTY_SOLD']]"
   ]
  },
  {
   "cell_type": "code",
   "execution_count": null,
   "metadata": {
    "ExecuteTime": {
     "end_time": "2021-04-18T09:18:55.666369Z",
     "start_time": "2021-04-18T09:18:55.554340Z"
    }
   },
   "outputs": [],
   "source": [
    "retail_df.loc[retail_df['DATE'] == '2020-04-05']"
   ]
  },
  {
   "cell_type": "code",
   "execution_count": null,
   "metadata": {
    "ExecuteTime": {
     "end_time": "2021-04-18T16:09:00.433250Z",
     "start_time": "2021-04-18T16:08:57.480475Z"
    }
   },
   "outputs": [],
   "source": [
    "test = retail_df.merge(retail, how='left', left_on=['YEAR', 'MONTH', 'WEEK','CUSTNAME','MATERIAL'],\n",
    "                       right_on=['YEAR_LY', 'MONTH_LY', 'WEEK_LY','CUSTNAME','MATERIAL'])"
   ]
  },
  {
   "cell_type": "code",
   "execution_count": null,
   "metadata": {
    "ExecuteTime": {
     "end_time": "2021-04-18T16:12:48.174736Z",
     "start_time": "2021-04-18T16:12:47.735502Z"
    }
   },
   "outputs": [],
   "source": [
    "test[~test['QTY_SOLD_y'].isnull()]"
   ]
  },
  {
   "cell_type": "code",
   "execution_count": null,
   "metadata": {
    "ExecuteTime": {
     "end_time": "2021-04-18T09:17:00.428124Z",
     "start_time": "2021-04-18T09:17:00.415123Z"
    }
   },
   "outputs": [],
   "source": [
    "retail_df.dtypes"
   ]
  },
  {
   "cell_type": "code",
   "execution_count": null,
   "metadata": {
    "ExecuteTime": {
     "end_time": "2021-04-18T09:17:47.325803Z",
     "start_time": "2021-04-18T09:17:47.313795Z"
    }
   },
   "outputs": [],
   "source": [
    "retail.dtypes"
   ]
  },
  {
   "cell_type": "code",
   "execution_count": null,
   "metadata": {
    "ExecuteTime": {
     "end_time": "2021-04-18T09:13:46.198903Z",
     "start_time": "2021-04-18T09:13:46.166895Z"
    }
   },
   "outputs": [],
   "source": [
    "test['QTY_SOLDQTY_LY'].unique()"
   ]
  },
  {
   "cell_type": "code",
   "execution_count": null,
   "metadata": {
    "ExecuteTime": {
     "end_time": "2021-04-18T08:51:35.839206Z",
     "start_time": "2021-04-18T08:51:35.673168Z"
    }
   },
   "outputs": [],
   "source": [
    "retail_df.loc[retail_df['DATE_LY'] == retail_df['DATE']]"
   ]
  },
  {
   "cell_type": "code",
   "execution_count": null,
   "metadata": {},
   "outputs": [],
   "source": []
  }
 ],
 "metadata": {
  "hide_input": false,
  "kernelspec": {
   "display_name": "Machine Learning",
   "language": "python",
   "name": "ml"
  },
  "toc": {
   "base_numbering": 1,
   "nav_menu": {},
   "number_sections": true,
   "sideBar": true,
   "skip_h1_title": false,
   "title_cell": "Table of Contents",
   "title_sidebar": "Contents",
   "toc_cell": false,
   "toc_position": {},
   "toc_section_display": true,
   "toc_window_display": true
  },
  "varInspector": {
   "cols": {
    "lenName": 16,
    "lenType": 16,
    "lenVar": 40
   },
   "kernels_config": {
    "python": {
     "delete_cmd_postfix": "",
     "delete_cmd_prefix": "del ",
     "library": "var_list.py",
     "varRefreshCmd": "print(var_dic_list())"
    },
    "r": {
     "delete_cmd_postfix": ") ",
     "delete_cmd_prefix": "rm(",
     "library": "var_list.r",
     "varRefreshCmd": "cat(var_dic_list()) "
    }
   },
   "types_to_exclude": [
    "module",
    "function",
    "builtin_function_or_method",
    "instance",
    "_Feature"
   ],
   "window_display": false
  }
 },
 "nbformat": 4,
 "nbformat_minor": 4
}
